{
 "cells": [
  {
   "cell_type": "code",
   "execution_count": 1,
   "id": "f8fd9fb7",
   "metadata": {},
   "outputs": [],
   "source": [
    "dataset_path = '/home/jpauli/ds001506' #create path to where the data is stored"
   ]
  },
  {
   "cell_type": "code",
   "execution_count": 2,
   "id": "4deeeccd",
   "metadata": {},
   "outputs": [],
   "source": [
    "from bids import BIDSLayout #import all the neccessary modules\n",
    "from bids.tests import get_test_data_path\n",
    "import os"
   ]
  },
  {
   "cell_type": "code",
   "execution_count": 3,
   "id": "cfcebd84",
   "metadata": {},
   "outputs": [
    {
     "data": {
      "text/plain": [
       "BIDS Layout: .../home/jpauli/ds001506 | Subjects: 3 | Sessions: 77 | Runs: 36"
      ]
     },
     "execution_count": 3,
     "metadata": {},
     "output_type": "execute_result"
    }
   ],
   "source": [
    "layout = BIDSLayout(dataset_path)\n",
    "layout #print the layout of the dataset"
   ]
  },
  {
   "cell_type": "markdown",
   "id": "40900525",
   "metadata": {},
   "source": [
    "**This dataset consists of three participants. Overall, there are 77 sessions and 36 runs.\n",
    "Furthermore it is interesting to take a look at the amount of files in the dataset and the tasks that are done by the participants**"
   ]
  },
  {
   "cell_type": "code",
   "execution_count": 4,
   "id": "a7ab4352",
   "metadata": {},
   "outputs": [
    {
     "name": "stdout",
     "output_type": "stream",
     "text": [
      "There are 1844 files in the layout.\n",
      "\n",
      "The first 10 files are:\n"
     ]
    },
    {
     "data": {
      "text/plain": [
       "[<BIDSFile filename='/home/jpauli/ds001506/CHANGES'>,\n",
       " <BIDSJSONFile filename='/home/jpauli/ds001506/dataset_description.json'>,\n",
       " <BIDSFile filename='/home/jpauli/ds001506/README'>,\n",
       " <BIDSImageFile filename='/home/jpauli/ds001506/sub-01/ses-anatomy/anat/sub-01_ses-anatomy_T1w.nii.gz'>,\n",
       " <BIDSImageFile filename='/home/jpauli/ds001506/sub-01/ses-imagery01/anat/sub-01_ses-imagery01_inplaneT2.nii.gz'>,\n",
       " <BIDSJSONFile filename='/home/jpauli/ds001506/sub-01/ses-imagery01/func/sub-01_ses-imagery01_task-imagery_run-01_bold.json'>,\n",
       " <BIDSImageFile filename='/home/jpauli/ds001506/sub-01/ses-imagery01/func/sub-01_ses-imagery01_task-imagery_run-01_bold.nii.gz'>,\n",
       " <BIDSDataFile filename='/home/jpauli/ds001506/sub-01/ses-imagery01/func/sub-01_ses-imagery01_task-imagery_run-01_events.tsv'>,\n",
       " <BIDSJSONFile filename='/home/jpauli/ds001506/sub-01/ses-imagery01/func/sub-01_ses-imagery01_task-imagery_run-02_bold.json'>,\n",
       " <BIDSImageFile filename='/home/jpauli/ds001506/sub-01/ses-imagery01/func/sub-01_ses-imagery01_task-imagery_run-02_bold.nii.gz'>]"
      ]
     },
     "execution_count": 4,
     "metadata": {},
     "output_type": "execute_result"
    }
   ],
   "source": [
    "all_files = layout.get()\n",
    "print(\"There are {} files in the layout.\".format(len(all_files)))\n",
    "print(\"\\nThe first 10 files are:\")\n",
    "all_files[:10]"
   ]
  },
  {
   "cell_type": "code",
   "execution_count": 5,
   "id": "a11b9d38",
   "metadata": {},
   "outputs": [
    {
     "data": {
      "text/plain": [
       "['imagery', 'perception']"
      ]
     },
     "execution_count": 5,
     "metadata": {},
     "output_type": "execute_result"
    }
   ],
   "source": [
    "layout.get_tasks()"
   ]
  },
  {
   "cell_type": "markdown",
   "id": "0c56c5d8",
   "metadata": {},
   "source": [
    "**So only two types of tasks were performed by the participants. Tasks that rely on perception and tasks that rely on imagery. It is possible to also get the files filtered by task**"
   ]
  },
  {
   "cell_type": "code",
   "execution_count": 7,
   "id": "3898d335",
   "metadata": {},
   "outputs": [
    {
     "data": {
      "text/plain": [
       "['/home/jpauli/ds001506/sub-01/ses-perceptionArtificialImage01/func/sub-01_ses-perceptionArtificialImage01_task-perception_run-01_bold.json',\n",
       " '/home/jpauli/ds001506/sub-01/ses-perceptionArtificialImage01/func/sub-01_ses-perceptionArtificialImage01_task-perception_run-01_bold.nii.gz',\n",
       " '/home/jpauli/ds001506/sub-01/ses-perceptionArtificialImage01/func/sub-01_ses-perceptionArtificialImage01_task-perception_run-01_events.tsv',\n",
       " '/home/jpauli/ds001506/sub-01/ses-perceptionArtificialImage01/func/sub-01_ses-perceptionArtificialImage01_task-perception_run-02_bold.json',\n",
       " '/home/jpauli/ds001506/sub-01/ses-perceptionArtificialImage01/func/sub-01_ses-perceptionArtificialImage01_task-perception_run-02_bold.nii.gz',\n",
       " '/home/jpauli/ds001506/sub-01/ses-perceptionArtificialImage01/func/sub-01_ses-perceptionArtificialImage01_task-perception_run-02_events.tsv',\n",
       " '/home/jpauli/ds001506/sub-01/ses-perceptionArtificialImage01/func/sub-01_ses-perceptionArtificialImage01_task-perception_run-03_bold.json',\n",
       " '/home/jpauli/ds001506/sub-01/ses-perceptionArtificialImage01/func/sub-01_ses-perceptionArtificialImage01_task-perception_run-03_bold.nii.gz',\n",
       " '/home/jpauli/ds001506/sub-01/ses-perceptionArtificialImage01/func/sub-01_ses-perceptionArtificialImage01_task-perception_run-03_events.tsv',\n",
       " '/home/jpauli/ds001506/sub-01/ses-perceptionArtificialImage01/func/sub-01_ses-perceptionArtificialImage01_task-perception_run-04_bold.json']"
      ]
     },
     "execution_count": 7,
     "metadata": {},
     "output_type": "execute_result"
    }
   ],
   "source": [
    "layout.get(subject='01', return_type='file', task=\"perception\")[:10]"
   ]
  },
  {
   "cell_type": "markdown",
   "id": "4c600afa",
   "metadata": {},
   "source": [
    "**We can see, that we have three different file types for the perception tasks. \n",
    "bold.json, bold.nii.gz and events.tsv**"
   ]
  },
  {
   "cell_type": "code",
   "execution_count": 8,
   "id": "cf2d7de2",
   "metadata": {},
   "outputs": [
    {
     "data": {
      "text/plain": [
       "{'subject': <Entity subject (pattern=[/\\\\]+sub-([a-zA-Z0-9]+), dtype=<class 'str'>)>,\n",
       " 'session': <Entity session (pattern=[_/\\\\]+ses-([a-zA-Z0-9]+), dtype=<class 'str'>)>,\n",
       " 'sample': <Entity sample (pattern=[_/\\\\]+sample-([a-zA-Z0-9]+), dtype=<class 'str'>)>,\n",
       " 'task': <Entity task (pattern=[_/\\\\]+task-([a-zA-Z0-9]+), dtype=<class 'str'>)>,\n",
       " 'acquisition': <Entity acquisition (pattern=[_/\\\\]+acq-([a-zA-Z0-9]+), dtype=<class 'str'>)>,\n",
       " 'ceagent': <Entity ceagent (pattern=[_/\\\\]+ce-([a-zA-Z0-9]+), dtype=<class 'str'>)>,\n",
       " 'staining': <Entity staining (pattern=[_/\\\\]+stain-([a-zA-Z0-9]+), dtype=<class 'str'>)>,\n",
       " 'tracer': <Entity tracer (pattern=[_/\\\\]+trc-([a-zA-Z0-9]+), dtype=<class 'str'>)>,\n",
       " 'reconstruction': <Entity reconstruction (pattern=[_/\\\\]+rec-([a-zA-Z0-9]+), dtype=<class 'str'>)>,\n",
       " 'direction': <Entity direction (pattern=[_/\\\\]+dir-([a-zA-Z0-9]+), dtype=<class 'str'>)>,\n",
       " 'run': <Entity run (pattern=[_/\\\\]+run-(\\d+), dtype=<class 'bids.layout.utils.PaddedInt'>)>,\n",
       " 'proc': <Entity proc (pattern=[_/\\\\]+proc-([a-zA-Z0-9]+), dtype=<class 'str'>)>,\n",
       " 'modality': <Entity modality (pattern=[_/\\\\]+mod-([a-zA-Z0-9]+), dtype=<class 'str'>)>,\n",
       " 'echo': <Entity echo (pattern=[_/\\\\]+echo-([0-9]+), dtype=<class 'str'>)>,\n",
       " 'flip': <Entity flip (pattern=[_/\\\\]+flip-([0-9]+), dtype=<class 'str'>)>,\n",
       " 'inv': <Entity inv (pattern=[_/\\\\]+inv-([0-9]+), dtype=<class 'str'>)>,\n",
       " 'mt': <Entity mt (pattern=[_/\\\\]+mt-(on|off), dtype=<class 'str'>)>,\n",
       " 'part': <Entity part (pattern=[_/\\\\]+part-(imag|mag|phase|real), dtype=<class 'str'>)>,\n",
       " 'recording': <Entity recording (pattern=[_/\\\\]+recording-([a-zA-Z0-9]+), dtype=<class 'str'>)>,\n",
       " 'space': <Entity space (pattern=[_/\\\\]+space-([a-zA-Z0-9]+), dtype=<class 'str'>)>,\n",
       " 'chunk': <Entity chunk (pattern=[_/\\\\]+chunk-([0-9]+), dtype=<class 'str'>)>,\n",
       " 'suffix': <Entity suffix (pattern=[._]*([a-zA-Z0-9]*?)\\.[^/\\\\]+$, dtype=<class 'str'>)>,\n",
       " 'scans': <Entity scans (pattern=(.*\\_scans.tsv)$, dtype=<class 'str'>)>,\n",
       " 'fmap': <Entity fmap (pattern=(phasediff|magnitude[1-2]|phase[1-2]|fieldmap|epi)\\.nii, dtype=<class 'str'>)>,\n",
       " 'datatype': <Entity datatype (pattern=[/\\\\]+(anat|beh|dwi|eeg|fmap|func|ieeg|meg|micr|perf|pet)[/\\\\]+, dtype=<class 'str'>)>,\n",
       " 'extension': <Entity extension (pattern=[._]*[a-zA-Z0-9]*?(\\.[^/\\\\]+)$, dtype=<class 'str'>)>,\n",
       " 'Manufacturer': <Entity Manufacturer (pattern=None, dtype=<class 'str'>)>,\n",
       " 'ManufacturersModelName': <Entity ManufacturersModelName (pattern=None, dtype=<class 'str'>)>,\n",
       " 'MagneticFieldStrength': <Entity MagneticFieldStrength (pattern=None, dtype=<class 'str'>)>,\n",
       " 'FlipAngle': <Entity FlipAngle (pattern=None, dtype=<class 'str'>)>,\n",
       " 'EchoTime': <Entity EchoTime (pattern=None, dtype=<class 'str'>)>,\n",
       " 'RepetitionTime': <Entity RepetitionTime (pattern=None, dtype=<class 'str'>)>,\n",
       " 'SliceTiming': <Entity SliceTiming (pattern=None, dtype=<class 'str'>)>,\n",
       " 'MultibandAccelerationFactor': <Entity MultibandAccelerationFactor (pattern=None, dtype=<class 'str'>)>,\n",
       " 'TaskName': <Entity TaskName (pattern=None, dtype=<class 'str'>)>}"
      ]
     },
     "execution_count": 8,
     "metadata": {},
     "output_type": "execute_result"
    }
   ],
   "source": [
    "layout.get_entities() #get all entitites (=BIDS defined keywords)"
   ]
  },
  {
   "cell_type": "markdown",
   "id": "1a303802",
   "metadata": {},
   "source": [
    "### Lets explore the file of subject 01 a bit more"
   ]
  },
  {
   "cell_type": "code",
   "execution_count": 26,
   "id": "d2394291",
   "metadata": {},
   "outputs": [],
   "source": [
    "sub1 = layout.get(subject=['01'])[3]\n",
    "# save the third file of subject one"
   ]
  },
  {
   "cell_type": "code",
   "execution_count": 37,
   "id": "b229f52a",
   "metadata": {},
   "outputs": [
    {
     "data": {
      "text/plain": [
       "<BIDSImageFile filename='/home/jpauli/ds001506/sub-01/ses-imagery01/func/sub-01_ses-imagery01_task-imagery_run-01_bold.nii.gz'>"
      ]
     },
     "execution_count": 37,
     "metadata": {},
     "output_type": "execute_result"
    }
   ],
   "source": [
    "sub1"
   ]
  },
  {
   "cell_type": "code",
   "execution_count": 31,
   "id": "a4f6d762",
   "metadata": {},
   "outputs": [
    {
     "name": "stdout",
     "output_type": "stream",
     "text": [
      "The type of this file is:\n"
     ]
    },
    {
     "data": {
      "text/plain": [
       "bids.layout.models.BIDSImageFile"
      ]
     },
     "execution_count": 31,
     "metadata": {},
     "output_type": "execute_result"
    }
   ],
   "source": [
    "print(\"The type of this file is:\")\n",
    "type(sub1)"
   ]
  },
  {
   "cell_type": "code",
   "execution_count": 33,
   "id": "4f1bd962",
   "metadata": {},
   "outputs": [
    {
     "name": "stdout",
     "output_type": "stream",
     "text": [
      "The type of the intial layout file is:\n"
     ]
    },
    {
     "data": {
      "text/plain": [
       "bids.layout.layout.BIDSLayout"
      ]
     },
     "execution_count": 33,
     "metadata": {},
     "output_type": "execute_result"
    }
   ],
   "source": [
    "print(\"The type of the intial layout file is:\")\n",
    "type(layout)"
   ]
  },
  {
   "cell_type": "markdown",
   "id": "3a03e7b3",
   "metadata": {},
   "source": [
    "**So we now do not have a BIDSLayout file anymore, but rather are dealing with a BIDSImageFile\n",
    "We can now print the metadata associated with this particular file**"
   ]
  },
  {
   "cell_type": "code",
   "execution_count": 36,
   "id": "9e563ce0",
   "metadata": {},
   "outputs": [
    {
     "data": {
      "text/plain": [
       "{'EchoTime': 0.043,\n",
       " 'FlipAngle': 80.0,\n",
       " 'MagneticFieldStrength': 3.0,\n",
       " 'Manufacturer': 'SIEMENS',\n",
       " 'ManufacturersModelName': 'Verio',\n",
       " 'MultibandAccelerationFactor': 4,\n",
       " 'RepetitionTime': 2.0,\n",
       " 'SliceTiming': [0.0,\n",
       "  1.0575,\n",
       "  0.1075,\n",
       "  1.1625,\n",
       "  0.2125,\n",
       "  1.2675,\n",
       "  0.3175,\n",
       "  1.375,\n",
       "  0.4225,\n",
       "  1.48,\n",
       "  0.53,\n",
       "  1.585,\n",
       "  0.635,\n",
       "  1.6925,\n",
       "  0.74,\n",
       "  1.7975,\n",
       "  0.845,\n",
       "  1.9025,\n",
       "  0.9525,\n",
       "  0.0,\n",
       "  1.0575,\n",
       "  0.1075,\n",
       "  1.1625,\n",
       "  0.2125,\n",
       "  1.2675,\n",
       "  0.3175,\n",
       "  1.375,\n",
       "  0.4225,\n",
       "  1.48,\n",
       "  0.53,\n",
       "  1.585,\n",
       "  0.635,\n",
       "  1.6925,\n",
       "  0.74,\n",
       "  1.7975,\n",
       "  0.845,\n",
       "  1.9025,\n",
       "  0.9525,\n",
       "  0.0,\n",
       "  1.0575,\n",
       "  0.1075,\n",
       "  1.1625,\n",
       "  0.2125,\n",
       "  1.2675,\n",
       "  0.3175,\n",
       "  1.375,\n",
       "  0.4225,\n",
       "  1.48,\n",
       "  0.53,\n",
       "  1.585,\n",
       "  0.635,\n",
       "  1.6925,\n",
       "  0.74,\n",
       "  1.7975,\n",
       "  0.845,\n",
       "  1.9025,\n",
       "  0.9525,\n",
       "  0.0,\n",
       "  1.0575,\n",
       "  0.1075,\n",
       "  1.1625,\n",
       "  0.2125,\n",
       "  1.2675,\n",
       "  0.3175,\n",
       "  1.375,\n",
       "  0.4225,\n",
       "  1.48,\n",
       "  0.53,\n",
       "  1.585,\n",
       "  0.635,\n",
       "  1.6925,\n",
       "  0.74,\n",
       "  1.7975,\n",
       "  0.845,\n",
       "  1.9025,\n",
       "  0.9525],\n",
       " 'TaskName': 'imagery'}"
      ]
     },
     "execution_count": 36,
     "metadata": {},
     "output_type": "execute_result"
    }
   ],
   "source": [
    "sub1.get_metadata()"
   ]
  },
  {
   "cell_type": "markdown",
   "id": "c5aa3bec",
   "metadata": {},
   "source": [
    "**The initial layout file can even be transformed into a *pandas dataframe* to get a rough overlook!**"
   ]
  },
  {
   "cell_type": "code",
   "execution_count": 40,
   "id": "1c691a73",
   "metadata": {},
   "outputs": [
    {
     "data": {
      "text/html": [
       "<div>\n",
       "<style scoped>\n",
       "    .dataframe tbody tr th:only-of-type {\n",
       "        vertical-align: middle;\n",
       "    }\n",
       "\n",
       "    .dataframe tbody tr th {\n",
       "        vertical-align: top;\n",
       "    }\n",
       "\n",
       "    .dataframe thead th {\n",
       "        text-align: right;\n",
       "    }\n",
       "</style>\n",
       "<table border=\"1\" class=\"dataframe\">\n",
       "  <thead>\n",
       "    <tr style=\"text-align: right;\">\n",
       "      <th>entity</th>\n",
       "      <th>path</th>\n",
       "      <th>datatype</th>\n",
       "      <th>extension</th>\n",
       "      <th>run</th>\n",
       "      <th>session</th>\n",
       "      <th>subject</th>\n",
       "      <th>suffix</th>\n",
       "      <th>task</th>\n",
       "    </tr>\n",
       "  </thead>\n",
       "  <tbody>\n",
       "    <tr>\n",
       "      <th>0</th>\n",
       "      <td>/home/jpauli/ds001506/dataset_description.json</td>\n",
       "      <td>NaN</td>\n",
       "      <td>.json</td>\n",
       "      <td>NaN</td>\n",
       "      <td>NaN</td>\n",
       "      <td>NaN</td>\n",
       "      <td>description</td>\n",
       "      <td>NaN</td>\n",
       "    </tr>\n",
       "    <tr>\n",
       "      <th>1</th>\n",
       "      <td>/home/jpauli/ds001506/sub-01/ses-anatomy/anat/...</td>\n",
       "      <td>anat</td>\n",
       "      <td>.nii.gz</td>\n",
       "      <td>NaN</td>\n",
       "      <td>anatomy</td>\n",
       "      <td>01</td>\n",
       "      <td>T1w</td>\n",
       "      <td>NaN</td>\n",
       "    </tr>\n",
       "    <tr>\n",
       "      <th>2</th>\n",
       "      <td>/home/jpauli/ds001506/sub-01/ses-imagery01/ana...</td>\n",
       "      <td>anat</td>\n",
       "      <td>.nii.gz</td>\n",
       "      <td>NaN</td>\n",
       "      <td>imagery01</td>\n",
       "      <td>01</td>\n",
       "      <td>inplaneT2</td>\n",
       "      <td>NaN</td>\n",
       "    </tr>\n",
       "    <tr>\n",
       "      <th>3</th>\n",
       "      <td>/home/jpauli/ds001506/sub-01/ses-imagery01/fun...</td>\n",
       "      <td>func</td>\n",
       "      <td>.json</td>\n",
       "      <td>01</td>\n",
       "      <td>imagery01</td>\n",
       "      <td>01</td>\n",
       "      <td>bold</td>\n",
       "      <td>imagery</td>\n",
       "    </tr>\n",
       "    <tr>\n",
       "      <th>4</th>\n",
       "      <td>/home/jpauli/ds001506/sub-01/ses-imagery01/fun...</td>\n",
       "      <td>func</td>\n",
       "      <td>.nii.gz</td>\n",
       "      <td>01</td>\n",
       "      <td>imagery01</td>\n",
       "      <td>01</td>\n",
       "      <td>bold</td>\n",
       "      <td>imagery</td>\n",
       "    </tr>\n",
       "    <tr>\n",
       "      <th>...</th>\n",
       "      <td>...</td>\n",
       "      <td>...</td>\n",
       "      <td>...</td>\n",
       "      <td>...</td>\n",
       "      <td>...</td>\n",
       "      <td>...</td>\n",
       "      <td>...</td>\n",
       "      <td>...</td>\n",
       "    </tr>\n",
       "    <tr>\n",
       "      <th>1839</th>\n",
       "      <td>/home/jpauli/ds001506/sub-03/ses-perceptionNat...</td>\n",
       "      <td>func</td>\n",
       "      <td>.json</td>\n",
       "      <td>08</td>\n",
       "      <td>perceptionNaturalImageTraining15</td>\n",
       "      <td>03</td>\n",
       "      <td>bold</td>\n",
       "      <td>perception</td>\n",
       "    </tr>\n",
       "    <tr>\n",
       "      <th>1840</th>\n",
       "      <td>/home/jpauli/ds001506/sub-03/ses-perceptionNat...</td>\n",
       "      <td>func</td>\n",
       "      <td>.nii.gz</td>\n",
       "      <td>08</td>\n",
       "      <td>perceptionNaturalImageTraining15</td>\n",
       "      <td>03</td>\n",
       "      <td>bold</td>\n",
       "      <td>perception</td>\n",
       "    </tr>\n",
       "    <tr>\n",
       "      <th>1841</th>\n",
       "      <td>/home/jpauli/ds001506/sub-03/ses-perceptionNat...</td>\n",
       "      <td>func</td>\n",
       "      <td>.tsv</td>\n",
       "      <td>08</td>\n",
       "      <td>perceptionNaturalImageTraining15</td>\n",
       "      <td>03</td>\n",
       "      <td>events</td>\n",
       "      <td>perception</td>\n",
       "    </tr>\n",
       "    <tr>\n",
       "      <th>1842</th>\n",
       "      <td>/home/jpauli/ds001506/CHANGES</td>\n",
       "      <td>NaN</td>\n",
       "      <td>NaN</td>\n",
       "      <td>NaN</td>\n",
       "      <td>NaN</td>\n",
       "      <td>NaN</td>\n",
       "      <td>NaN</td>\n",
       "      <td>NaN</td>\n",
       "    </tr>\n",
       "    <tr>\n",
       "      <th>1843</th>\n",
       "      <td>/home/jpauli/ds001506/README</td>\n",
       "      <td>NaN</td>\n",
       "      <td>NaN</td>\n",
       "      <td>NaN</td>\n",
       "      <td>NaN</td>\n",
       "      <td>NaN</td>\n",
       "      <td>NaN</td>\n",
       "      <td>NaN</td>\n",
       "    </tr>\n",
       "  </tbody>\n",
       "</table>\n",
       "<p>1844 rows × 8 columns</p>\n",
       "</div>"
      ],
      "text/plain": [
       "entity                                               path datatype extension  \\\n",
       "0          /home/jpauli/ds001506/dataset_description.json      NaN     .json   \n",
       "1       /home/jpauli/ds001506/sub-01/ses-anatomy/anat/...     anat   .nii.gz   \n",
       "2       /home/jpauli/ds001506/sub-01/ses-imagery01/ana...     anat   .nii.gz   \n",
       "3       /home/jpauli/ds001506/sub-01/ses-imagery01/fun...     func     .json   \n",
       "4       /home/jpauli/ds001506/sub-01/ses-imagery01/fun...     func   .nii.gz   \n",
       "...                                                   ...      ...       ...   \n",
       "1839    /home/jpauli/ds001506/sub-03/ses-perceptionNat...     func     .json   \n",
       "1840    /home/jpauli/ds001506/sub-03/ses-perceptionNat...     func   .nii.gz   \n",
       "1841    /home/jpauli/ds001506/sub-03/ses-perceptionNat...     func      .tsv   \n",
       "1842                        /home/jpauli/ds001506/CHANGES      NaN       NaN   \n",
       "1843                         /home/jpauli/ds001506/README      NaN       NaN   \n",
       "\n",
       "entity  run                           session subject       suffix        task  \n",
       "0       NaN                               NaN     NaN  description         NaN  \n",
       "1       NaN                           anatomy      01          T1w         NaN  \n",
       "2       NaN                         imagery01      01    inplaneT2         NaN  \n",
       "3        01                         imagery01      01         bold     imagery  \n",
       "4        01                         imagery01      01         bold     imagery  \n",
       "...     ...                               ...     ...          ...         ...  \n",
       "1839     08  perceptionNaturalImageTraining15      03         bold  perception  \n",
       "1840     08  perceptionNaturalImageTraining15      03         bold  perception  \n",
       "1841     08  perceptionNaturalImageTraining15      03       events  perception  \n",
       "1842    NaN                               NaN     NaN          NaN         NaN  \n",
       "1843    NaN                               NaN     NaN          NaN         NaN  \n",
       "\n",
       "[1844 rows x 8 columns]"
      ]
     },
     "execution_count": 40,
     "metadata": {},
     "output_type": "execute_result"
    }
   ],
   "source": [
    "dataframe = layout.to_df()\n",
    "dataframe"
   ]
  },
  {
   "cell_type": "markdown",
   "id": "04c14207",
   "metadata": {},
   "source": [
    "**Exploration of events.tsv**"
   ]
  },
  {
   "cell_type": "code",
   "execution_count": 1,
   "id": "a3d858ad",
   "metadata": {},
   "outputs": [],
   "source": [
    "#wie viele kategorien, kategorien über zeit\n",
    "#bilder plotten(anat, func), metadata anschauen(func)\n",
    "#datalad install mitreinnehmen\n",
    "\n",
    "#modell = svm? (also decision tree)\n",
    "\n",
    "#abbildung google docs (regressors of no interest)(https://peerherholz.github.io/Cog_Com_Neuro_ML_DL/introduction/notebooks/neuroscience/statistical_maps.html)\n",
    "#https://peerherholz.github.io/Cog_Com_Neuro_ML_DL/introduction/notebooks/neuroscience/statistical_analyses_MRI.html (BIDS ALS INPUT)\n",
    "#samples = run, features = voxel\n",
    "\n",
    "#https://peerherholz.github.io/Cog_Com_Neuro_ML_DL/introduction/notebooks/neuroscience/statistical_analyses_MRI.html#performing-statistical-analyses-on-bids-datasets"
   ]
  }
 ],
 "metadata": {
  "kernelspec": {
   "display_name": "neuro_ai",
   "language": "python",
   "name": "neuro_ai"
  },
  "language_info": {
   "codemirror_mode": {
    "name": "ipython",
    "version": 3
   },
   "file_extension": ".py",
   "mimetype": "text/x-python",
   "name": "python",
   "nbconvert_exporter": "python",
   "pygments_lexer": "ipython3",
   "version": "3.7.0"
  }
 },
 "nbformat": 4,
 "nbformat_minor": 5
}
