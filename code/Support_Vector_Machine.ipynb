{
 "cells": [
  {
   "cell_type": "markdown",
   "id": "c5dd6d05",
   "metadata": {},
   "source": [
    "## **0. Introduction**"
   ]
  },
  {
   "cell_type": "markdown",
   "id": "5a7ef9b8",
   "metadata": {},
   "source": [
    "This notebook follows after the \"Logistic_Regression.iypnb\" notebook. Aim of this notebook is to conduct the Support Vector Machine algorithm. "
   ]
  },
  {
   "cell_type": "markdown",
   "id": "95da3f27",
   "metadata": {},
   "source": [
    "## **1. Masking**"
   ]
  },
  {
   "cell_type": "markdown",
   "id": "98d68ef0",
   "metadata": {},
   "source": [
    "As in the Logistic Regression notebook, we will first load the masks, load the data and then apply the mask. I will not explain each step, because this has already been described in the aformentioned notebook."
   ]
  },
  {
   "cell_type": "code",
   "execution_count": 1,
   "id": "a7391cfc",
   "metadata": {},
   "outputs": [
    {
     "data": {
      "text/plain": [
       "['sub-01_mask_LH_FFA.nii.gz',\n",
       " 'sub-01_mask_LH_hV4.nii.gz',\n",
       " 'sub-01_mask_LH_HVC.nii.gz',\n",
       " 'sub-01_mask_LH_LOC.nii.gz',\n",
       " 'sub-01_mask_LH_PPA.nii.gz',\n",
       " 'sub-01_mask_LH_V1d.nii.gz',\n",
       " 'sub-01_mask_LH_V1v.nii.gz',\n",
       " 'sub-01_mask_LH_V2d.nii.gz',\n",
       " 'sub-01_mask_LH_V2v.nii.gz',\n",
       " 'sub-01_mask_LH_V3d.nii.gz',\n",
       " 'sub-01_mask_LH_V3v.nii.gz',\n",
       " 'sub-01_mask_RH_FFA.nii.gz',\n",
       " 'sub-01_mask_RH_hV4.nii.gz',\n",
       " 'sub-01_mask_RH_HVC.nii.gz',\n",
       " 'sub-01_mask_RH_LOC.nii.gz',\n",
       " 'sub-01_mask_RH_PPA.nii.gz',\n",
       " 'sub-01_mask_RH_V1d.nii.gz',\n",
       " 'sub-01_mask_RH_V1v.nii.gz',\n",
       " 'sub-01_mask_RH_V2d.nii.gz',\n",
       " 'sub-01_mask_RH_V2v.nii.gz',\n",
       " 'sub-01_mask_RH_V3d.nii.gz',\n",
       " 'sub-01_mask_RH_V3v.nii.gz']"
      ]
     },
     "execution_count": 1,
     "metadata": {},
     "output_type": "execute_result"
    }
   ],
   "source": [
    "import os\n",
    "\n",
    "os.chdir(\"/home/jpauli/ds001506/sourcedata/sub-01/anat\")\n",
    "os.listdir()"
   ]
  },
  {
   "cell_type": "code",
   "execution_count": 2,
   "id": "9d80f9ea",
   "metadata": {},
   "outputs": [],
   "source": [
    "mask_img_path = '/home/jpauli/ds001506/sourcedata/sub-01/anat'\n",
    "mask_img_L = os.path.join(mask_img_path,'sub-01_mask_LH_V2v.nii.gz')\n",
    "mask_img_R = os.path.join(mask_img_path,'sub-01_mask_RH_PPA.nii.gz')"
   ]
  },
  {
   "cell_type": "code",
   "execution_count": 3,
   "id": "85c4edfc",
   "metadata": {},
   "outputs": [],
   "source": [
    "from nilearn.maskers import NiftiMasker\n",
    "nifti_masker = NiftiMasker(mask_img=mask_img_R)"
   ]
  },
  {
   "cell_type": "code",
   "execution_count": 4,
   "id": "f8c8c0ce",
   "metadata": {},
   "outputs": [],
   "source": [
    "X = []\n",
    "Y = []\n",
    "Sessions = []\n",
    "category = 1\n",
    "for session in [\"1\",\"2\",\"3\",\"4\"]:\n",
    "    os.chdir('/mnt/c/Users/janos/git/sessions_new/z_maps_{}'.format(session))\n",
    "    for x in os.listdir():\n",
    "        if x == 'nilearn_cache':\n",
    "            continue\n",
    "        else:\n",
    "            X.append(nifti_masker.fit_transform(x))\n",
    "            Y.append(category)\n",
    "            Sessions.append(session)\n",
    "            category=category+1\n",
    "            if category == 27:\n",
    "                category = 1"
   ]
  },
  {
   "cell_type": "code",
   "execution_count": 5,
   "id": "317acda6",
   "metadata": {},
   "outputs": [],
   "source": [
    "import numpy as np\n",
    "import pandas as pd\n",
    "\n",
    "Y = np.array(Y)\n",
    "Y_ses = np.array(Sessions)\n",
    "df =  pd.DataFrame(np.concatenate(X))\n",
    "X_ = df.to_numpy()\n",
    "\n",
    "\n"
   ]
  },
  {
   "cell_type": "markdown",
   "id": "32cd11ab",
   "metadata": {},
   "source": [
    "## **1.0 Support Vector Machine**"
   ]
  },
  {
   "cell_type": "code",
   "execution_count": 6,
   "id": "4bca1830",
   "metadata": {},
   "outputs": [
    {
     "data": {
      "text/plain": [
       "(104, 10)"
      ]
     },
     "execution_count": 6,
     "metadata": {},
     "output_type": "execute_result"
    }
   ],
   "source": [
    "from sklearn.feature_selection import SelectKBest\n",
    "from sklearn.feature_selection import f_classif\n",
    "\n",
    "X_new = SelectKBest(f_classif, k=10).fit_transform(X_, Y)\n",
    "X_new.shape"
   ]
  },
  {
   "cell_type": "code",
   "execution_count": 7,
   "id": "636b91e9",
   "metadata": {},
   "outputs": [],
   "source": [
    "from sklearn.model_selection import train_test_split\n",
    "\n",
    "# Split dataset into training set and test set\n",
    "X_train, X_test, y_train, y_test = train_test_split(X_new, Y, test_size=0.2,random_state=42)"
   ]
  },
  {
   "cell_type": "code",
   "execution_count": 8,
   "id": "8f30c78c",
   "metadata": {},
   "outputs": [],
   "source": [
    "from sklearn import preprocessing\n",
    "scaler = preprocessing.StandardScaler()\n",
    "X_train_s = scaler.fit_transform(X_train)"
   ]
  },
  {
   "cell_type": "code",
   "execution_count": 9,
   "id": "ada35b8f",
   "metadata": {},
   "outputs": [
    {
     "name": "stdout",
     "output_type": "stream",
     "text": [
      "              precision    recall  f1-score   support\n",
      "\n",
      "           1       0.00      0.00      0.00       2.0\n",
      "           2       0.00      0.00      0.00       1.0\n",
      "           3       0.00      0.00      0.00       1.0\n",
      "           4       0.00      0.00      0.00       0.0\n",
      "           5       0.00      0.00      0.00       2.0\n",
      "           6       0.00      0.00      0.00       1.0\n",
      "           8       0.00      0.00      0.00       1.0\n",
      "           9       0.00      0.00      0.00       0.0\n",
      "          10       0.00      0.00      0.00       0.0\n",
      "          11       0.00      0.00      0.00       2.0\n",
      "          12       0.00      0.00      0.00       0.0\n",
      "          13       0.00      0.00      0.00       2.0\n",
      "          14       0.00      0.00      0.00       2.0\n",
      "          16       0.00      0.00      0.00       1.0\n",
      "          17       0.00      0.00      0.00       0.0\n",
      "          18       0.00      0.00      0.00       1.0\n",
      "          19       0.00      0.00      0.00       1.0\n",
      "          20       0.00      0.00      0.00       1.0\n",
      "          21       0.00      0.00      0.00       1.0\n",
      "          22       0.00      0.00      0.00       1.0\n",
      "          24       0.00      0.00      0.00       0.0\n",
      "          25       0.00      0.00      0.00       0.0\n",
      "          26       0.00      0.00      0.00       1.0\n",
      "\n",
      "    accuracy                           0.00      21.0\n",
      "   macro avg       0.00      0.00      0.00      21.0\n",
      "weighted avg       0.00      0.00      0.00      21.0\n",
      "\n"
     ]
    },
    {
     "name": "stderr",
     "output_type": "stream",
     "text": [
      "/home/jpauli/miniconda3/envs/neuro_ai/lib/python3.7/site-packages/sklearn/metrics/_classification.py:1318: UndefinedMetricWarning: Precision and F-score are ill-defined and being set to 0.0 in labels with no predicted samples. Use `zero_division` parameter to control this behavior.\n",
      "  _warn_prf(average, modifier, msg_start, len(result))\n",
      "/home/jpauli/miniconda3/envs/neuro_ai/lib/python3.7/site-packages/sklearn/metrics/_classification.py:1318: UndefinedMetricWarning: Recall and F-score are ill-defined and being set to 0.0 in labels with no true samples. Use `zero_division` parameter to control this behavior.\n",
      "  _warn_prf(average, modifier, msg_start, len(result))\n",
      "/home/jpauli/miniconda3/envs/neuro_ai/lib/python3.7/site-packages/sklearn/metrics/_classification.py:1318: UndefinedMetricWarning: Precision and F-score are ill-defined and being set to 0.0 in labels with no predicted samples. Use `zero_division` parameter to control this behavior.\n",
      "  _warn_prf(average, modifier, msg_start, len(result))\n",
      "/home/jpauli/miniconda3/envs/neuro_ai/lib/python3.7/site-packages/sklearn/metrics/_classification.py:1318: UndefinedMetricWarning: Recall and F-score are ill-defined and being set to 0.0 in labels with no true samples. Use `zero_division` parameter to control this behavior.\n",
      "  _warn_prf(average, modifier, msg_start, len(result))\n",
      "/home/jpauli/miniconda3/envs/neuro_ai/lib/python3.7/site-packages/sklearn/metrics/_classification.py:1318: UndefinedMetricWarning: Precision and F-score are ill-defined and being set to 0.0 in labels with no predicted samples. Use `zero_division` parameter to control this behavior.\n",
      "  _warn_prf(average, modifier, msg_start, len(result))\n",
      "/home/jpauli/miniconda3/envs/neuro_ai/lib/python3.7/site-packages/sklearn/metrics/_classification.py:1318: UndefinedMetricWarning: Recall and F-score are ill-defined and being set to 0.0 in labels with no true samples. Use `zero_division` parameter to control this behavior.\n",
      "  _warn_prf(average, modifier, msg_start, len(result))\n"
     ]
    }
   ],
   "source": [
    "from sklearn import svm\n",
    "from sklearn.metrics import classification_report, confusion_matrix\n",
    "clf = svm.SVC(C = 0.01, kernel='linear') # Linear Kernel\n",
    "\n",
    "clf.fit(X_train_s, y_train)\n",
    "\n",
    "y_pred = clf.predict(scaler.transform(X_test))\n",
    "print(classification_report(y_test, y_pred))"
   ]
  },
  {
   "cell_type": "code",
   "execution_count": 10,
   "id": "0f2b53d4",
   "metadata": {},
   "outputs": [
    {
     "name": "stdout",
     "output_type": "stream",
     "text": [
      "Fitting 2 folds for each of 100 candidates, totalling 200 fits\n",
      "[CV 1/2] END .....C=0.1, gamma=1, kernel=linear;, score=0.071 total time=   0.0s\n",
      "[CV 2/2] END .....C=0.1, gamma=1, kernel=linear;, score=0.098 total time=   0.0s\n",
      "[CV 1/2] END .......C=0.1, gamma=1, kernel=poly;, score=0.071 total time=   0.0s\n",
      "[CV 2/2] END .......C=0.1, gamma=1, kernel=poly;, score=0.049 total time=   0.0s\n",
      "[CV 1/2] END ........C=0.1, gamma=1, kernel=rbf;, score=0.071 total time=   0.0s\n",
      "[CV 2/2] END ........C=0.1, gamma=1, kernel=rbf;, score=0.024 total time=   0.0s\n",
      "[CV 1/2] END ....C=0.1, gamma=1, kernel=sigmoid;, score=0.048 total time=   0.0s\n",
      "[CV 2/2] END ....C=0.1, gamma=1, kernel=sigmoid;, score=0.049 total time=   0.0s\n",
      "[CV 1/2] END ...C=0.1, gamma=0.1, kernel=linear;, score=0.071 total time=   0.0s\n",
      "[CV 2/2] END ...C=0.1, gamma=0.1, kernel=linear;, score=0.098 total time=   0.0s\n",
      "[CV 1/2] END .....C=0.1, gamma=0.1, kernel=poly;, score=0.048 total time=   0.0s\n",
      "[CV 2/2] END .....C=0.1, gamma=0.1, kernel=poly;, score=0.049 total time=   0.0s\n",
      "[CV 1/2] END ......C=0.1, gamma=0.1, kernel=rbf;, score=0.071 total time=   0.0s\n",
      "[CV 2/2] END ......C=0.1, gamma=0.1, kernel=rbf;, score=0.073 total time=   0.0s\n",
      "[CV 1/2] END ..C=0.1, gamma=0.1, kernel=sigmoid;, score=0.048 total time=   0.0s\n",
      "[CV 2/2] END ..C=0.1, gamma=0.1, kernel=sigmoid;, score=0.049 total time=   0.0s\n",
      "[CV 1/2] END ..C=0.1, gamma=0.01, kernel=linear;, score=0.071 total time=   0.0s\n",
      "[CV 2/2] END ..C=0.1, gamma=0.01, kernel=linear;, score=0.098 total time=   0.0s\n",
      "[CV 1/2] END ....C=0.1, gamma=0.01, kernel=poly;, score=0.048 total time=   0.0s\n",
      "[CV 2/2] END ....C=0.1, gamma=0.01, kernel=poly;, score=0.049 total time=   0.0s\n",
      "[CV 1/2] END .....C=0.1, gamma=0.01, kernel=rbf;, score=0.048 total time=   0.0s\n",
      "[CV 2/2] END .....C=0.1, gamma=0.01, kernel=rbf;, score=0.073 total time=   0.0s\n",
      "[CV 1/2] END .C=0.1, gamma=0.01, kernel=sigmoid;, score=0.071 total time=   0.0s\n",
      "[CV 2/2] END .C=0.1, gamma=0.01, kernel=sigmoid;, score=0.049 total time=   0.0s\n",
      "[CV 1/2] END .C=0.1, gamma=0.001, kernel=linear;, score=0.071 total time=   0.0s\n",
      "[CV 2/2] END .C=0.1, gamma=0.001, kernel=linear;, score=0.098 total time=   0.0s\n",
      "[CV 1/2] END ...C=0.1, gamma=0.001, kernel=poly;, score=0.048 total time=   0.0s\n",
      "[CV 2/2] END ...C=0.1, gamma=0.001, kernel=poly;, score=0.049 total time=   0.0s\n",
      "[CV 1/2] END ....C=0.1, gamma=0.001, kernel=rbf;, score=0.071 total time=   0.0s\n",
      "[CV 2/2] END ....C=0.1, gamma=0.001, kernel=rbf;, score=0.049 total time=   0.0s\n",
      "[CV 1/2] END C=0.1, gamma=0.001, kernel=sigmoid;, score=0.071 total time=   0.0s\n",
      "[CV 2/2] END C=0.1, gamma=0.001, kernel=sigmoid;, score=0.049 total time=   0.0s\n",
      "[CV 1/2] END C=0.1, gamma=0.0001, kernel=linear;, score=0.071 total time=   0.0s\n",
      "[CV 2/2] END C=0.1, gamma=0.0001, kernel=linear;, score=0.098 total time=   0.0s\n",
      "[CV 1/2] END ..C=0.1, gamma=0.0001, kernel=poly;, score=0.048 total time=   0.0s\n",
      "[CV 2/2] END ..C=0.1, gamma=0.0001, kernel=poly;, score=0.049 total time=   0.0s\n",
      "[CV 1/2] END ...C=0.1, gamma=0.0001, kernel=rbf;, score=0.071 total time=   0.0s\n",
      "[CV 2/2] END ...C=0.1, gamma=0.0001, kernel=rbf;, score=0.049 total time=   0.0s\n",
      "[CV 1/2] END C=0.1, gamma=0.0001, kernel=sigmoid;, score=0.071 total time=   0.0s\n",
      "[CV 2/2] END C=0.1, gamma=0.0001, kernel=sigmoid;, score=0.049 total time=   0.0s\n",
      "[CV 1/2] END .......C=1, gamma=1, kernel=linear;, score=0.095 total time=   0.0s\n",
      "[CV 2/2] END .......C=1, gamma=1, kernel=linear;, score=0.049 total time=   0.0s\n",
      "[CV 1/2] END .........C=1, gamma=1, kernel=poly;, score=0.071 total time=   0.0s\n",
      "[CV 2/2] END .........C=1, gamma=1, kernel=poly;, score=0.049 total time=   0.0s\n",
      "[CV 1/2] END ..........C=1, gamma=1, kernel=rbf;, score=0.071 total time=   0.0s\n",
      "[CV 2/2] END ..........C=1, gamma=1, kernel=rbf;, score=0.024 total time=   0.0s\n",
      "[CV 1/2] END ......C=1, gamma=1, kernel=sigmoid;, score=0.048 total time=   0.0s\n",
      "[CV 2/2] END ......C=1, gamma=1, kernel=sigmoid;, score=0.024 total time=   0.0s\n",
      "[CV 1/2] END .....C=1, gamma=0.1, kernel=linear;, score=0.095 total time=   0.0s\n",
      "[CV 2/2] END .....C=1, gamma=0.1, kernel=linear;, score=0.049 total time=   0.0s\n",
      "[CV 1/2] END .......C=1, gamma=0.1, kernel=poly;, score=0.048 total time=   0.0s\n",
      "[CV 2/2] END .......C=1, gamma=0.1, kernel=poly;, score=0.049 total time=   0.0s\n",
      "[CV 1/2] END ........C=1, gamma=0.1, kernel=rbf;, score=0.071 total time=   0.0s\n",
      "[CV 2/2] END ........C=1, gamma=0.1, kernel=rbf;, score=0.073 total time=   0.0s\n",
      "[CV 1/2] END ....C=1, gamma=0.1, kernel=sigmoid;, score=0.048 total time=   0.0s\n",
      "[CV 2/2] END ....C=1, gamma=0.1, kernel=sigmoid;, score=0.049 total time=   0.0s\n",
      "[CV 1/2] END ....C=1, gamma=0.01, kernel=linear;, score=0.095 total time=   0.0s\n",
      "[CV 2/2] END ....C=1, gamma=0.01, kernel=linear;, score=0.049 total time=   0.0s\n",
      "[CV 1/2] END ......C=1, gamma=0.01, kernel=poly;, score=0.048 total time=   0.0s\n",
      "[CV 2/2] END ......C=1, gamma=0.01, kernel=poly;, score=0.049 total time=   0.0s\n",
      "[CV 1/2] END .......C=1, gamma=0.01, kernel=rbf;, score=0.048 total time=   0.0s\n",
      "[CV 2/2] END .......C=1, gamma=0.01, kernel=rbf;, score=0.073 total time=   0.0s\n",
      "[CV 1/2] END ...C=1, gamma=0.01, kernel=sigmoid;, score=0.071 total time=   0.0s\n",
      "[CV 2/2] END ...C=1, gamma=0.01, kernel=sigmoid;, score=0.049 total time=   0.0s\n",
      "[CV 1/2] END ...C=1, gamma=0.001, kernel=linear;, score=0.095 total time=   0.0s\n",
      "[CV 2/2] END ...C=1, gamma=0.001, kernel=linear;, score=0.049 total time=   0.0s\n",
      "[CV 1/2] END .....C=1, gamma=0.001, kernel=poly;, score=0.048 total time=   0.0s\n",
      "[CV 2/2] END .....C=1, gamma=0.001, kernel=poly;, score=0.049 total time=   0.0s\n",
      "[CV 1/2] END ......C=1, gamma=0.001, kernel=rbf;, score=0.071 total time=   0.0s\n",
      "[CV 2/2] END ......C=1, gamma=0.001, kernel=rbf;, score=0.049 total time=   0.0s\n",
      "[CV 1/2] END ..C=1, gamma=0.001, kernel=sigmoid;, score=0.071 total time=   0.0s\n",
      "[CV 2/2] END ..C=1, gamma=0.001, kernel=sigmoid;, score=0.049 total time=   0.0s\n",
      "[CV 1/2] END ..C=1, gamma=0.0001, kernel=linear;, score=0.095 total time=   0.0s\n",
      "[CV 2/2] END ..C=1, gamma=0.0001, kernel=linear;, score=0.049 total time=   0.0s\n",
      "[CV 1/2] END ....C=1, gamma=0.0001, kernel=poly;, score=0.048 total time=   0.0s\n",
      "[CV 2/2] END ....C=1, gamma=0.0001, kernel=poly;, score=0.049 total time=   0.0s\n",
      "[CV 1/2] END .....C=1, gamma=0.0001, kernel=rbf;, score=0.071 total time=   0.0s\n",
      "[CV 2/2] END .....C=1, gamma=0.0001, kernel=rbf;, score=0.049 total time=   0.0s\n",
      "[CV 1/2] END .C=1, gamma=0.0001, kernel=sigmoid;, score=0.071 total time=   0.0s\n",
      "[CV 2/2] END .C=1, gamma=0.0001, kernel=sigmoid;, score=0.049 total time=   0.0s\n",
      "[CV 1/2] END ......C=10, gamma=1, kernel=linear;, score=0.095 total time=   0.0s\n",
      "[CV 2/2] END ......C=10, gamma=1, kernel=linear;, score=0.049 total time=   0.0s\n",
      "[CV 1/2] END ........C=10, gamma=1, kernel=poly;, score=0.071 total time=   0.0s\n",
      "[CV 2/2] END ........C=10, gamma=1, kernel=poly;, score=0.049 total time=   0.0s\n",
      "[CV 1/2] END .........C=10, gamma=1, kernel=rbf;, score=0.071 total time=   0.0s\n",
      "[CV 2/2] END .........C=10, gamma=1, kernel=rbf;, score=0.024 total time=   0.0s\n",
      "[CV 1/2] END .....C=10, gamma=1, kernel=sigmoid;, score=0.048 total time=   0.0s\n",
      "[CV 2/2] END .....C=10, gamma=1, kernel=sigmoid;, score=0.049 total time=   0.0s\n",
      "[CV 1/2] END ....C=10, gamma=0.1, kernel=linear;, score=0.095 total time=   0.0s\n",
      "[CV 2/2] END ....C=10, gamma=0.1, kernel=linear;, score=0.049 total time=   0.0s\n",
      "[CV 1/2] END ......C=10, gamma=0.1, kernel=poly;, score=0.048 total time=   0.0s\n",
      "[CV 2/2] END ......C=10, gamma=0.1, kernel=poly;, score=0.049 total time=   0.0s\n",
      "[CV 1/2] END .......C=10, gamma=0.1, kernel=rbf;, score=0.071 total time=   0.0s\n",
      "[CV 2/2] END .......C=10, gamma=0.1, kernel=rbf;, score=0.049 total time=   0.0s\n",
      "[CV 1/2] END ...C=10, gamma=0.1, kernel=sigmoid;, score=0.071 total time=   0.0s\n",
      "[CV 2/2] END ...C=10, gamma=0.1, kernel=sigmoid;, score=0.049 total time=   0.0s\n",
      "[CV 1/2] END ...C=10, gamma=0.01, kernel=linear;, score=0.095 total time=   0.0s\n",
      "[CV 2/2] END ...C=10, gamma=0.01, kernel=linear;, score=0.049 total time=   0.0s\n",
      "[CV 1/2] END .....C=10, gamma=0.01, kernel=poly;, score=0.048 total time=   0.0s\n",
      "[CV 2/2] END .....C=10, gamma=0.01, kernel=poly;, score=0.049 total time=   0.0s\n",
      "[CV 1/2] END ......C=10, gamma=0.01, kernel=rbf;, score=0.071 total time=   0.0s\n",
      "[CV 2/2] END ......C=10, gamma=0.01, kernel=rbf;, score=0.073 total time=   0.0s\n",
      "[CV 1/2] END ..C=10, gamma=0.01, kernel=sigmoid;, score=0.071 total time=   0.0s\n",
      "[CV 2/2] END ..C=10, gamma=0.01, kernel=sigmoid;, score=0.098 total time=   0.0s\n",
      "[CV 1/2] END ..C=10, gamma=0.001, kernel=linear;, score=0.095 total time=   0.0s\n",
      "[CV 2/2] END ..C=10, gamma=0.001, kernel=linear;, score=0.049 total time=   0.0s\n",
      "[CV 1/2] END ....C=10, gamma=0.001, kernel=poly;, score=0.048 total time=   0.0s\n",
      "[CV 2/2] END ....C=10, gamma=0.001, kernel=poly;, score=0.049 total time=   0.0s\n",
      "[CV 1/2] END .....C=10, gamma=0.001, kernel=rbf;, score=0.071 total time=   0.0s\n",
      "[CV 2/2] END .....C=10, gamma=0.001, kernel=rbf;, score=0.049 total time=   0.0s\n",
      "[CV 1/2] END .C=10, gamma=0.001, kernel=sigmoid;, score=0.071 total time=   0.0s\n",
      "[CV 2/2] END .C=10, gamma=0.001, kernel=sigmoid;, score=0.049 total time=   0.0s\n",
      "[CV 1/2] END .C=10, gamma=0.0001, kernel=linear;, score=0.095 total time=   0.0s\n",
      "[CV 2/2] END .C=10, gamma=0.0001, kernel=linear;, score=0.049 total time=   0.0s\n",
      "[CV 1/2] END ...C=10, gamma=0.0001, kernel=poly;, score=0.048 total time=   0.0s\n",
      "[CV 2/2] END ...C=10, gamma=0.0001, kernel=poly;, score=0.049 total time=   0.0s\n"
     ]
    },
    {
     "name": "stdout",
     "output_type": "stream",
     "text": [
      "[CV 1/2] END ....C=10, gamma=0.0001, kernel=rbf;, score=0.071 total time=   0.0s\n",
      "[CV 2/2] END ....C=10, gamma=0.0001, kernel=rbf;, score=0.049 total time=   0.0s\n",
      "[CV 1/2] END C=10, gamma=0.0001, kernel=sigmoid;, score=0.071 total time=   0.0s\n",
      "[CV 2/2] END C=10, gamma=0.0001, kernel=sigmoid;, score=0.049 total time=   0.0s\n",
      "[CV 1/2] END .....C=100, gamma=1, kernel=linear;, score=0.095 total time=   0.0s\n",
      "[CV 2/2] END .....C=100, gamma=1, kernel=linear;, score=0.049 total time=   0.0s\n",
      "[CV 1/2] END .......C=100, gamma=1, kernel=poly;, score=0.071 total time=   0.0s\n",
      "[CV 2/2] END .......C=100, gamma=1, kernel=poly;, score=0.049 total time=   0.0s\n",
      "[CV 1/2] END ........C=100, gamma=1, kernel=rbf;, score=0.071 total time=   0.0s\n",
      "[CV 2/2] END ........C=100, gamma=1, kernel=rbf;, score=0.024 total time=   0.0s\n",
      "[CV 1/2] END ....C=100, gamma=1, kernel=sigmoid;, score=0.024 total time=   0.0s\n",
      "[CV 2/2] END ....C=100, gamma=1, kernel=sigmoid;, score=0.073 total time=   0.0s\n",
      "[CV 1/2] END ...C=100, gamma=0.1, kernel=linear;, score=0.095 total time=   0.0s\n",
      "[CV 2/2] END ...C=100, gamma=0.1, kernel=linear;, score=0.049 total time=   0.0s\n",
      "[CV 1/2] END .....C=100, gamma=0.1, kernel=poly;, score=0.071 total time=   0.0s\n",
      "[CV 2/2] END .....C=100, gamma=0.1, kernel=poly;, score=0.049 total time=   0.0s\n",
      "[CV 1/2] END ......C=100, gamma=0.1, kernel=rbf;, score=0.071 total time=   0.0s\n",
      "[CV 2/2] END ......C=100, gamma=0.1, kernel=rbf;, score=0.049 total time=   0.0s\n",
      "[CV 1/2] END ..C=100, gamma=0.1, kernel=sigmoid;, score=0.071 total time=   0.0s\n",
      "[CV 2/2] END ..C=100, gamma=0.1, kernel=sigmoid;, score=0.049 total time=   0.0s\n",
      "[CV 1/2] END ..C=100, gamma=0.01, kernel=linear;, score=0.095 total time=   0.0s\n",
      "[CV 2/2] END ..C=100, gamma=0.01, kernel=linear;, score=0.049 total time=   0.0s\n",
      "[CV 1/2] END ....C=100, gamma=0.01, kernel=poly;, score=0.048 total time=   0.0s\n",
      "[CV 2/2] END ....C=100, gamma=0.01, kernel=poly;, score=0.049 total time=   0.0s\n",
      "[CV 1/2] END .....C=100, gamma=0.01, kernel=rbf;, score=0.095 total time=   0.0s\n",
      "[CV 2/2] END .....C=100, gamma=0.01, kernel=rbf;, score=0.049 total time=   0.0s\n",
      "[CV 1/2] END .C=100, gamma=0.01, kernel=sigmoid;, score=0.095 total time=   0.0s\n",
      "[CV 2/2] END .C=100, gamma=0.01, kernel=sigmoid;, score=0.049 total time=   0.0s\n",
      "[CV 1/2] END .C=100, gamma=0.001, kernel=linear;, score=0.095 total time=   0.0s\n",
      "[CV 2/2] END .C=100, gamma=0.001, kernel=linear;, score=0.049 total time=   0.0s\n",
      "[CV 1/2] END ...C=100, gamma=0.001, kernel=poly;, score=0.048 total time=   0.0s\n",
      "[CV 2/2] END ...C=100, gamma=0.001, kernel=poly;, score=0.049 total time=   0.0s\n",
      "[CV 1/2] END ....C=100, gamma=0.001, kernel=rbf;, score=0.071 total time=   0.0s\n",
      "[CV 2/2] END ....C=100, gamma=0.001, kernel=rbf;, score=0.073 total time=   0.0s\n",
      "[CV 1/2] END C=100, gamma=0.001, kernel=sigmoid;, score=0.071 total time=   0.0s\n",
      "[CV 2/2] END C=100, gamma=0.001, kernel=sigmoid;, score=0.098 total time=   0.0s\n",
      "[CV 1/2] END C=100, gamma=0.0001, kernel=linear;, score=0.095 total time=   0.0s\n",
      "[CV 2/2] END C=100, gamma=0.0001, kernel=linear;, score=0.049 total time=   0.0s\n",
      "[CV 1/2] END ..C=100, gamma=0.0001, kernel=poly;, score=0.048 total time=   0.0s\n",
      "[CV 2/2] END ..C=100, gamma=0.0001, kernel=poly;, score=0.049 total time=   0.0s\n",
      "[CV 1/2] END ...C=100, gamma=0.0001, kernel=rbf;, score=0.071 total time=   0.0s\n",
      "[CV 2/2] END ...C=100, gamma=0.0001, kernel=rbf;, score=0.049 total time=   0.0s\n",
      "[CV 1/2] END C=100, gamma=0.0001, kernel=sigmoid;, score=0.071 total time=   0.0s\n",
      "[CV 2/2] END C=100, gamma=0.0001, kernel=sigmoid;, score=0.049 total time=   0.0s\n",
      "[CV 1/2] END ....C=1000, gamma=1, kernel=linear;, score=0.095 total time=   0.0s\n",
      "[CV 2/2] END ....C=1000, gamma=1, kernel=linear;, score=0.049 total time=   0.0s\n",
      "[CV 1/2] END ......C=1000, gamma=1, kernel=poly;, score=0.071 total time=   0.0s\n",
      "[CV 2/2] END ......C=1000, gamma=1, kernel=poly;, score=0.049 total time=   0.0s\n",
      "[CV 1/2] END .......C=1000, gamma=1, kernel=rbf;, score=0.071 total time=   0.0s\n",
      "[CV 2/2] END .......C=1000, gamma=1, kernel=rbf;, score=0.024 total time=   0.0s\n",
      "[CV 1/2] END ...C=1000, gamma=1, kernel=sigmoid;, score=0.024 total time=   0.0s\n",
      "[CV 2/2] END ...C=1000, gamma=1, kernel=sigmoid;, score=0.049 total time=   0.0s\n",
      "[CV 1/2] END ..C=1000, gamma=0.1, kernel=linear;, score=0.095 total time=   0.0s\n",
      "[CV 2/2] END ..C=1000, gamma=0.1, kernel=linear;, score=0.049 total time=   0.0s\n",
      "[CV 1/2] END ....C=1000, gamma=0.1, kernel=poly;, score=0.071 total time=   0.0s\n",
      "[CV 2/2] END ....C=1000, gamma=0.1, kernel=poly;, score=0.049 total time=   0.0s\n",
      "[CV 1/2] END .....C=1000, gamma=0.1, kernel=rbf;, score=0.071 total time=   0.0s\n",
      "[CV 2/2] END .....C=1000, gamma=0.1, kernel=rbf;, score=0.049 total time=   0.0s\n",
      "[CV 1/2] END .C=1000, gamma=0.1, kernel=sigmoid;, score=0.071 total time=   0.0s\n",
      "[CV 2/2] END .C=1000, gamma=0.1, kernel=sigmoid;, score=0.049 total time=   0.0s\n",
      "[CV 1/2] END .C=1000, gamma=0.01, kernel=linear;, score=0.095 total time=   0.0s\n",
      "[CV 2/2] END .C=1000, gamma=0.01, kernel=linear;, score=0.049 total time=   0.0s\n",
      "[CV 1/2] END ...C=1000, gamma=0.01, kernel=poly;, score=0.048 total time=   0.0s\n",
      "[CV 2/2] END ...C=1000, gamma=0.01, kernel=poly;, score=0.049 total time=   0.0s\n",
      "[CV 1/2] END ....C=1000, gamma=0.01, kernel=rbf;, score=0.095 total time=   0.0s\n",
      "[CV 2/2] END ....C=1000, gamma=0.01, kernel=rbf;, score=0.049 total time=   0.0s\n",
      "[CV 1/2] END C=1000, gamma=0.01, kernel=sigmoid;, score=0.095 total time=   0.0s\n",
      "[CV 2/2] END C=1000, gamma=0.01, kernel=sigmoid;, score=0.049 total time=   0.0s\n",
      "[CV 1/2] END C=1000, gamma=0.001, kernel=linear;, score=0.095 total time=   0.0s\n",
      "[CV 2/2] END C=1000, gamma=0.001, kernel=linear;, score=0.049 total time=   0.0s\n",
      "[CV 1/2] END ..C=1000, gamma=0.001, kernel=poly;, score=0.048 total time=   0.0s\n",
      "[CV 2/2] END ..C=1000, gamma=0.001, kernel=poly;, score=0.049 total time=   0.0s\n",
      "[CV 1/2] END ...C=1000, gamma=0.001, kernel=rbf;, score=0.095 total time=   0.0s\n",
      "[CV 2/2] END ...C=1000, gamma=0.001, kernel=rbf;, score=0.049 total time=   0.0s\n",
      "[CV 1/2] END C=1000, gamma=0.001, kernel=sigmoid;, score=0.095 total time=   0.0s\n",
      "[CV 2/2] END C=1000, gamma=0.001, kernel=sigmoid;, score=0.049 total time=   0.0s\n",
      "[CV 1/2] END C=1000, gamma=0.0001, kernel=linear;, score=0.095 total time=   0.0s\n",
      "[CV 2/2] END C=1000, gamma=0.0001, kernel=linear;, score=0.049 total time=   0.0s\n",
      "[CV 1/2] END .C=1000, gamma=0.0001, kernel=poly;, score=0.048 total time=   0.0s\n",
      "[CV 2/2] END .C=1000, gamma=0.0001, kernel=poly;, score=0.049 total time=   0.0s\n",
      "[CV 1/2] END ..C=1000, gamma=0.0001, kernel=rbf;, score=0.071 total time=   0.0s\n",
      "[CV 2/2] END ..C=1000, gamma=0.0001, kernel=rbf;, score=0.073 total time=   0.0s\n",
      "[CV 1/2] END C=1000, gamma=0.0001, kernel=sigmoid;, score=0.071 total time=   0.0s\n",
      "[CV 2/2] END C=1000, gamma=0.0001, kernel=sigmoid;, score=0.098 total time=   0.0s\n"
     ]
    },
    {
     "data": {
      "text/plain": [
       "GridSearchCV(cv=2, estimator=SVC(),\n",
       "             param_grid={'C': [0.1, 1, 10, 100, 1000],\n",
       "                         'gamma': [1, 0.1, 0.01, 0.001, 0.0001],\n",
       "                         'kernel': ['linear', 'poly', 'rbf', 'sigmoid']},\n",
       "             verbose=3)"
      ]
     },
     "execution_count": 10,
     "metadata": {},
     "output_type": "execute_result"
    }
   ],
   "source": [
    "from sklearn.model_selection import GridSearchCV\n",
    "  \n",
    "# defining parameter range\n",
    "param_grid = {'C': [0.1, 1, 10, 100, 1000], \n",
    "              'gamma': [1, 0.1, 0.01, 0.001, 0.0001],\n",
    "              'kernel': ['linear','poly','rbf','sigmoid']} \n",
    "  \n",
    "grid = GridSearchCV(svm.SVC(), param_grid,cv = 2,refit = True, verbose = 3)\n",
    "# fitting the model for grid search\n",
    "grid.fit(X_train_s, y_train)"
   ]
  },
  {
   "cell_type": "code",
   "execution_count": 11,
   "id": "2c2ffbad",
   "metadata": {},
   "outputs": [
    {
     "name": "stdout",
     "output_type": "stream",
     "text": [
      "{'C': 0.1, 'gamma': 1, 'kernel': 'linear'}\n",
      "SVC(C=0.1, gamma=1, kernel='linear')\n"
     ]
    }
   ],
   "source": [
    "#print best parameter after tuning\n",
    "print(grid.best_params_)\n",
    "  \n",
    "# print how our model looks after hyper-parameter tuning\n",
    "print(grid.best_estimator_)"
   ]
  },
  {
   "cell_type": "code",
   "execution_count": 12,
   "id": "71be0246",
   "metadata": {},
   "outputs": [
    {
     "name": "stdout",
     "output_type": "stream",
     "text": [
      "              precision    recall  f1-score   support\n",
      "\n",
      "           1       0.00      0.00      0.00       2.0\n",
      "           2       0.00      0.00      0.00       1.0\n",
      "           3       0.00      0.00      0.00       1.0\n",
      "           5       0.00      0.00      0.00       2.0\n",
      "           6       0.00      0.00      0.00       1.0\n",
      "           8       0.00      0.00      0.00       1.0\n",
      "           9       0.00      0.00      0.00       0.0\n",
      "          10       0.00      0.00      0.00       0.0\n",
      "          11       0.00      0.00      0.00       2.0\n",
      "          12       0.00      0.00      0.00       0.0\n",
      "          13       0.00      0.00      0.00       2.0\n",
      "          14       0.00      0.00      0.00       2.0\n",
      "          16       0.00      0.00      0.00       1.0\n",
      "          17       0.00      0.00      0.00       0.0\n",
      "          18       0.00      0.00      0.00       1.0\n",
      "          19       0.00      0.00      0.00       1.0\n",
      "          20       0.00      0.00      0.00       1.0\n",
      "          21       0.00      0.00      0.00       1.0\n",
      "          22       0.00      0.00      0.00       1.0\n",
      "          23       0.00      0.00      0.00       0.0\n",
      "          24       0.00      0.00      0.00       0.0\n",
      "          26       0.00      0.00      0.00       1.0\n",
      "\n",
      "    accuracy                           0.00      21.0\n",
      "   macro avg       0.00      0.00      0.00      21.0\n",
      "weighted avg       0.00      0.00      0.00      21.0\n",
      "\n"
     ]
    },
    {
     "name": "stderr",
     "output_type": "stream",
     "text": [
      "/home/jpauli/miniconda3/envs/neuro_ai/lib/python3.7/site-packages/sklearn/metrics/_classification.py:1318: UndefinedMetricWarning: Precision and F-score are ill-defined and being set to 0.0 in labels with no predicted samples. Use `zero_division` parameter to control this behavior.\n",
      "  _warn_prf(average, modifier, msg_start, len(result))\n",
      "/home/jpauli/miniconda3/envs/neuro_ai/lib/python3.7/site-packages/sklearn/metrics/_classification.py:1318: UndefinedMetricWarning: Recall and F-score are ill-defined and being set to 0.0 in labels with no true samples. Use `zero_division` parameter to control this behavior.\n",
      "  _warn_prf(average, modifier, msg_start, len(result))\n",
      "/home/jpauli/miniconda3/envs/neuro_ai/lib/python3.7/site-packages/sklearn/metrics/_classification.py:1318: UndefinedMetricWarning: Precision and F-score are ill-defined and being set to 0.0 in labels with no predicted samples. Use `zero_division` parameter to control this behavior.\n",
      "  _warn_prf(average, modifier, msg_start, len(result))\n",
      "/home/jpauli/miniconda3/envs/neuro_ai/lib/python3.7/site-packages/sklearn/metrics/_classification.py:1318: UndefinedMetricWarning: Recall and F-score are ill-defined and being set to 0.0 in labels with no true samples. Use `zero_division` parameter to control this behavior.\n",
      "  _warn_prf(average, modifier, msg_start, len(result))\n",
      "/home/jpauli/miniconda3/envs/neuro_ai/lib/python3.7/site-packages/sklearn/metrics/_classification.py:1318: UndefinedMetricWarning: Precision and F-score are ill-defined and being set to 0.0 in labels with no predicted samples. Use `zero_division` parameter to control this behavior.\n",
      "  _warn_prf(average, modifier, msg_start, len(result))\n",
      "/home/jpauli/miniconda3/envs/neuro_ai/lib/python3.7/site-packages/sklearn/metrics/_classification.py:1318: UndefinedMetricWarning: Recall and F-score are ill-defined and being set to 0.0 in labels with no true samples. Use `zero_division` parameter to control this behavior.\n",
      "  _warn_prf(average, modifier, msg_start, len(result))\n"
     ]
    }
   ],
   "source": [
    "grid_predictions = grid.predict(X_test)\n",
    "  \n",
    "# print classification report\n",
    "print(classification_report(y_test, grid_predictions))"
   ]
  },
  {
   "cell_type": "code",
   "execution_count": 13,
   "id": "c0413d1f",
   "metadata": {},
   "outputs": [
    {
     "data": {
      "text/plain": [
       "array([ 4, 23, 25, 19, 21, 16, 17, 15, 10,  8, 12, 26,  1,  3,  2,  6, 11,\n",
       "        5, 14, 10, 17, 15,  9,  8, 18, 17, 18,  2, 20,  7, 26, 22, 24, 14,\n",
       "       25,  4, 18, 13,  9,  4,  7, 16, 11, 13,  6,  3, 25, 19, 21, 22, 10,\n",
       "       23, 19, 16,  7, 23, 12,  6, 24,  7, 20,  8, 12, 24, 12,  4,  2,  1,\n",
       "       22,  3, 24, 10, 17, 23,  9,  5, 21,  9, 20, 15, 15, 26, 25])"
      ]
     },
     "execution_count": 13,
     "metadata": {},
     "output_type": "execute_result"
    }
   ],
   "source": [
    "y_train"
   ]
  },
  {
   "cell_type": "code",
   "execution_count": 14,
   "id": "cc74fdd3",
   "metadata": {},
   "outputs": [
    {
     "data": {
      "text/plain": [
       "array([19, 12, 25, 19, 17, 16, 17, 15, 10, 23,  9, 15, 12, 26, 25,  3, 25,\n",
       "        5, 15, 10,  9, 24,  9, 15, 21, 17, 23, 15,  9,  7, 26, 15, 24, 12,\n",
       "        7,  4,  9, 19,  9,  4,  7, 25, 15, 18, 15,  4, 25, 25, 21, 22, 17,\n",
       "       23, 25, 22,  7,  2, 18, 17, 10, 25, 17,  4, 12, 24, 22,  4, 17,  1,\n",
       "       12, 25, 24, 10, 17, 23,  9,  5, 12, 15, 17,  9, 23, 26, 17])"
      ]
     },
     "execution_count": 14,
     "metadata": {},
     "output_type": "execute_result"
    }
   ],
   "source": [
    "grid.predict(X_train_s)"
   ]
  },
  {
   "cell_type": "code",
   "execution_count": 15,
   "id": "b8b7145b",
   "metadata": {},
   "outputs": [
    {
     "data": {
      "text/plain": [
       "array([ 1,  2,  3,  4,  5,  6,  7,  8,  9, 10, 11, 12, 13, 14, 15, 16, 17,\n",
       "       18, 19, 20, 21, 22, 23, 24, 25, 26])"
      ]
     },
     "execution_count": 15,
     "metadata": {},
     "output_type": "execute_result"
    }
   ],
   "source": [
    "Y_unique = np.unique(Y)\n",
    "Y_unique"
   ]
  },
  {
   "cell_type": "code",
   "execution_count": 16,
   "id": "de48ff33",
   "metadata": {},
   "outputs": [],
   "source": [
    "np.random.shuffle(Y)\n",
    "y_train = []\n",
    "y_test = []\n",
    "\n",
    "\n",
    "for category in Y:\n",
    "        if len(y_test) == len(Y_unique):\n",
    "            y_train.append(category)\n",
    "        else:\n",
    "            y_test.append(category)\n",
    "            if y_test.count(category) > 1:\n",
    "                y_test.remove(category)\n",
    "                y_train.append(category)\n",
    "                continue\n",
    "            \n",
    "                "
   ]
  },
  {
   "cell_type": "code",
   "execution_count": 17,
   "id": "85585b98",
   "metadata": {},
   "outputs": [],
   "source": [
    "y_test = np.array(y_test)\n",
    "y_train = np.array(y_train)"
   ]
  },
  {
   "cell_type": "code",
   "execution_count": 18,
   "id": "0ea2d8a0",
   "metadata": {},
   "outputs": [],
   "source": [
    "X_train, X_test = train_test_split(X_new, test_size=0.25, random_state=42)"
   ]
  },
  {
   "cell_type": "code",
   "execution_count": 19,
   "id": "2f245d33",
   "metadata": {},
   "outputs": [],
   "source": [
    "X_train_s_new = scaler.fit_transform(X_train)"
   ]
  },
  {
   "cell_type": "code",
   "execution_count": 20,
   "id": "abc4fd57",
   "metadata": {},
   "outputs": [
    {
     "name": "stdout",
     "output_type": "stream",
     "text": [
      "Fitting 2 folds for each of 100 candidates, totalling 200 fits\n",
      "[CV 1/2] END .....C=0.1, gamma=1, kernel=linear;, score=0.026 total time=   0.0s\n",
      "[CV 2/2] END .....C=0.1, gamma=1, kernel=linear;, score=0.026 total time=   0.0s\n",
      "[CV 1/2] END .......C=0.1, gamma=1, kernel=poly;, score=0.000 total time=   0.0s\n",
      "[CV 2/2] END .......C=0.1, gamma=1, kernel=poly;, score=0.051 total time=   0.0s\n",
      "[CV 1/2] END ........C=0.1, gamma=1, kernel=rbf;, score=0.051 total time=   0.0s\n",
      "[CV 2/2] END ........C=0.1, gamma=1, kernel=rbf;, score=0.026 total time=   0.0s\n",
      "[CV 1/2] END ....C=0.1, gamma=1, kernel=sigmoid;, score=0.000 total time=   0.0s\n",
      "[CV 2/2] END ....C=0.1, gamma=1, kernel=sigmoid;, score=0.026 total time=   0.0s\n",
      "[CV 1/2] END ...C=0.1, gamma=0.1, kernel=linear;, score=0.026 total time=   0.0s\n",
      "[CV 2/2] END ...C=0.1, gamma=0.1, kernel=linear;, score=0.026 total time=   0.0s\n",
      "[CV 1/2] END .....C=0.1, gamma=0.1, kernel=poly;, score=0.026 total time=   0.0s\n",
      "[CV 2/2] END .....C=0.1, gamma=0.1, kernel=poly;, score=0.026 total time=   0.0s\n",
      "[CV 1/2] END ......C=0.1, gamma=0.1, kernel=rbf;, score=0.026 total time=   0.0s\n",
      "[CV 2/2] END ......C=0.1, gamma=0.1, kernel=rbf;, score=0.026 total time=   0.0s\n",
      "[CV 1/2] END ..C=0.1, gamma=0.1, kernel=sigmoid;, score=0.026 total time=   0.0s\n",
      "[CV 2/2] END ..C=0.1, gamma=0.1, kernel=sigmoid;, score=0.026 total time=   0.0s\n",
      "[CV 1/2] END ..C=0.1, gamma=0.01, kernel=linear;, score=0.026 total time=   0.0s\n",
      "[CV 2/2] END ..C=0.1, gamma=0.01, kernel=linear;, score=0.026 total time=   0.0s\n",
      "[CV 1/2] END ....C=0.1, gamma=0.01, kernel=poly;, score=0.026 total time=   0.0s\n",
      "[CV 2/2] END ....C=0.1, gamma=0.01, kernel=poly;, score=0.026 total time=   0.0s\n",
      "[CV 1/2] END .....C=0.1, gamma=0.01, kernel=rbf;, score=0.026 total time=   0.0s\n",
      "[CV 2/2] END .....C=0.1, gamma=0.01, kernel=rbf;, score=0.026 total time=   0.0s\n",
      "[CV 1/2] END .C=0.1, gamma=0.01, kernel=sigmoid;, score=0.026 total time=   0.0s\n",
      "[CV 2/2] END .C=0.1, gamma=0.01, kernel=sigmoid;, score=0.026 total time=   0.0s\n",
      "[CV 1/2] END .C=0.1, gamma=0.001, kernel=linear;, score=0.026 total time=   0.0s\n",
      "[CV 2/2] END .C=0.1, gamma=0.001, kernel=linear;, score=0.026 total time=   0.0s\n",
      "[CV 1/2] END ...C=0.1, gamma=0.001, kernel=poly;, score=0.026 total time=   0.0s\n",
      "[CV 2/2] END ...C=0.1, gamma=0.001, kernel=poly;, score=0.026 total time=   0.0s\n",
      "[CV 1/2] END ....C=0.1, gamma=0.001, kernel=rbf;, score=0.026 total time=   0.0s\n",
      "[CV 2/2] END ....C=0.1, gamma=0.001, kernel=rbf;, score=0.026 total time=   0.0s\n",
      "[CV 1/2] END C=0.1, gamma=0.001, kernel=sigmoid;, score=0.026 total time=   0.0s\n",
      "[CV 2/2] END C=0.1, gamma=0.001, kernel=sigmoid;, score=0.026 total time=   0.0s\n",
      "[CV 1/2] END C=0.1, gamma=0.0001, kernel=linear;, score=0.026 total time=   0.0s\n",
      "[CV 2/2] END C=0.1, gamma=0.0001, kernel=linear;, score=0.026 total time=   0.0s\n",
      "[CV 1/2] END ..C=0.1, gamma=0.0001, kernel=poly;, score=0.026 total time=   0.0s\n",
      "[CV 2/2] END ..C=0.1, gamma=0.0001, kernel=poly;, score=0.026 total time=   0.0s\n",
      "[CV 1/2] END ...C=0.1, gamma=0.0001, kernel=rbf;, score=0.026 total time=   0.0s\n",
      "[CV 2/2] END ...C=0.1, gamma=0.0001, kernel=rbf;, score=0.026 total time=   0.0s\n",
      "[CV 1/2] END C=0.1, gamma=0.0001, kernel=sigmoid;, score=0.026 total time=   0.0s\n",
      "[CV 2/2] END C=0.1, gamma=0.0001, kernel=sigmoid;, score=0.026 total time=   0.0s\n",
      "[CV 1/2] END .......C=1, gamma=1, kernel=linear;, score=0.077 total time=   0.0s\n",
      "[CV 2/2] END .......C=1, gamma=1, kernel=linear;, score=0.026 total time=   0.0s\n",
      "[CV 1/2] END .........C=1, gamma=1, kernel=poly;, score=0.000 total time=   0.0s\n",
      "[CV 2/2] END .........C=1, gamma=1, kernel=poly;, score=0.051 total time=   0.0s\n",
      "[CV 1/2] END ..........C=1, gamma=1, kernel=rbf;, score=0.051 total time=   0.0s\n",
      "[CV 2/2] END ..........C=1, gamma=1, kernel=rbf;, score=0.026 total time=   0.0s\n",
      "[CV 1/2] END ......C=1, gamma=1, kernel=sigmoid;, score=0.000 total time=   0.0s\n",
      "[CV 2/2] END ......C=1, gamma=1, kernel=sigmoid;, score=0.026 total time=   0.0s\n",
      "[CV 1/2] END .....C=1, gamma=0.1, kernel=linear;, score=0.077 total time=   0.0s\n",
      "[CV 2/2] END .....C=1, gamma=0.1, kernel=linear;, score=0.026 total time=   0.0s\n",
      "[CV 1/2] END .......C=1, gamma=0.1, kernel=poly;, score=0.026 total time=   0.0s\n",
      "[CV 2/2] END .......C=1, gamma=0.1, kernel=poly;, score=0.026 total time=   0.0s\n",
      "[CV 1/2] END ........C=1, gamma=0.1, kernel=rbf;, score=0.026 total time=   0.0s\n",
      "[CV 2/2] END ........C=1, gamma=0.1, kernel=rbf;, score=0.026 total time=   0.0s\n",
      "[CV 1/2] END ....C=1, gamma=0.1, kernel=sigmoid;, score=0.026 total time=   0.0s\n",
      "[CV 2/2] END ....C=1, gamma=0.1, kernel=sigmoid;, score=0.026 total time=   0.0s\n",
      "[CV 1/2] END ....C=1, gamma=0.01, kernel=linear;, score=0.077 total time=   0.0s\n",
      "[CV 2/2] END ....C=1, gamma=0.01, kernel=linear;, score=0.026 total time=   0.0s\n",
      "[CV 1/2] END ......C=1, gamma=0.01, kernel=poly;, score=0.026 total time=   0.0s\n",
      "[CV 2/2] END ......C=1, gamma=0.01, kernel=poly;, score=0.026 total time=   0.0s\n",
      "[CV 1/2] END .......C=1, gamma=0.01, kernel=rbf;, score=0.026 total time=   0.0s\n",
      "[CV 2/2] END .......C=1, gamma=0.01, kernel=rbf;, score=0.026 total time=   0.0s\n",
      "[CV 1/2] END ...C=1, gamma=0.01, kernel=sigmoid;, score=0.026 total time=   0.0s\n",
      "[CV 2/2] END ...C=1, gamma=0.01, kernel=sigmoid;, score=0.026 total time=   0.0s\n",
      "[CV 1/2] END ...C=1, gamma=0.001, kernel=linear;, score=0.077 total time=   0.0s\n",
      "[CV 2/2] END ...C=1, gamma=0.001, kernel=linear;, score=0.026 total time=   0.0s\n",
      "[CV 1/2] END .....C=1, gamma=0.001, kernel=poly;, score=0.026 total time=   0.0s\n",
      "[CV 2/2] END .....C=1, gamma=0.001, kernel=poly;, score=0.026 total time=   0.0s\n",
      "[CV 1/2] END ......C=1, gamma=0.001, kernel=rbf;, score=0.026 total time=   0.0s\n",
      "[CV 2/2] END ......C=1, gamma=0.001, kernel=rbf;, score=0.026 total time=   0.0s\n",
      "[CV 1/2] END ..C=1, gamma=0.001, kernel=sigmoid;, score=0.026 total time=   0.0s\n",
      "[CV 2/2] END ..C=1, gamma=0.001, kernel=sigmoid;, score=0.026 total time=   0.0s\n",
      "[CV 1/2] END ..C=1, gamma=0.0001, kernel=linear;, score=0.077 total time=   0.0s\n",
      "[CV 2/2] END ..C=1, gamma=0.0001, kernel=linear;, score=0.026 total time=   0.0s\n",
      "[CV 1/2] END ....C=1, gamma=0.0001, kernel=poly;, score=0.026 total time=   0.0s\n",
      "[CV 2/2] END ....C=1, gamma=0.0001, kernel=poly;, score=0.026 total time=   0.0s\n",
      "[CV 1/2] END .....C=1, gamma=0.0001, kernel=rbf;, score=0.026 total time=   0.0s\n",
      "[CV 2/2] END .....C=1, gamma=0.0001, kernel=rbf;, score=0.026 total time=   0.0s\n",
      "[CV 1/2] END .C=1, gamma=0.0001, kernel=sigmoid;, score=0.026 total time=   0.0s\n",
      "[CV 2/2] END .C=1, gamma=0.0001, kernel=sigmoid;, score=0.026 total time=   0.0s\n",
      "[CV 1/2] END ......C=10, gamma=1, kernel=linear;, score=0.077 total time=   0.0s\n",
      "[CV 2/2] END ......C=10, gamma=1, kernel=linear;, score=0.026 total time=   0.0s\n",
      "[CV 1/2] END ........C=10, gamma=1, kernel=poly;, score=0.000 total time=   0.0s\n",
      "[CV 2/2] END ........C=10, gamma=1, kernel=poly;, score=0.051 total time=   0.0s\n",
      "[CV 1/2] END .........C=10, gamma=1, kernel=rbf;, score=0.051 total time=   0.0s\n",
      "[CV 2/2] END .........C=10, gamma=1, kernel=rbf;, score=0.026 total time=   0.0s\n",
      "[CV 1/2] END .....C=10, gamma=1, kernel=sigmoid;, score=0.000 total time=   0.0s\n",
      "[CV 2/2] END .....C=10, gamma=1, kernel=sigmoid;, score=0.026 total time=   0.0s\n",
      "[CV 1/2] END ....C=10, gamma=0.1, kernel=linear;, score=0.077 total time=   0.0s\n",
      "[CV 2/2] END ....C=10, gamma=0.1, kernel=linear;, score=0.026 total time=   0.0s\n",
      "[CV 1/2] END ......C=10, gamma=0.1, kernel=poly;, score=0.026 total time=   0.0s\n",
      "[CV 2/2] END ......C=10, gamma=0.1, kernel=poly;, score=0.051 total time=   0.0s\n",
      "[CV 1/2] END .......C=10, gamma=0.1, kernel=rbf;, score=0.051 total time=   0.0s\n",
      "[CV 2/2] END .......C=10, gamma=0.1, kernel=rbf;, score=0.026 total time=   0.0s\n",
      "[CV 1/2] END ...C=10, gamma=0.1, kernel=sigmoid;, score=0.051 total time=   0.0s\n",
      "[CV 2/2] END ...C=10, gamma=0.1, kernel=sigmoid;, score=0.000 total time=   0.0s\n",
      "[CV 1/2] END ...C=10, gamma=0.01, kernel=linear;, score=0.077 total time=   0.0s\n",
      "[CV 2/2] END ...C=10, gamma=0.01, kernel=linear;, score=0.026 total time=   0.0s\n",
      "[CV 1/2] END .....C=10, gamma=0.01, kernel=poly;, score=0.026 total time=   0.0s\n",
      "[CV 2/2] END .....C=10, gamma=0.01, kernel=poly;, score=0.026 total time=   0.0s\n",
      "[CV 1/2] END ......C=10, gamma=0.01, kernel=rbf;, score=0.026 total time=   0.0s\n",
      "[CV 2/2] END ......C=10, gamma=0.01, kernel=rbf;, score=0.026 total time=   0.0s\n",
      "[CV 1/2] END ..C=10, gamma=0.01, kernel=sigmoid;, score=0.026 total time=   0.0s\n",
      "[CV 2/2] END ..C=10, gamma=0.01, kernel=sigmoid;, score=0.026 total time=   0.0s\n",
      "[CV 1/2] END ..C=10, gamma=0.001, kernel=linear;, score=0.077 total time=   0.0s\n",
      "[CV 2/2] END ..C=10, gamma=0.001, kernel=linear;, score=0.026 total time=   0.0s\n",
      "[CV 1/2] END ....C=10, gamma=0.001, kernel=poly;, score=0.026 total time=   0.0s\n",
      "[CV 2/2] END ....C=10, gamma=0.001, kernel=poly;, score=0.026 total time=   0.0s\n",
      "[CV 1/2] END .....C=10, gamma=0.001, kernel=rbf;, score=0.026 total time=   0.0s\n",
      "[CV 2/2] END .....C=10, gamma=0.001, kernel=rbf;, score=0.026 total time=   0.0s\n",
      "[CV 1/2] END .C=10, gamma=0.001, kernel=sigmoid;, score=0.026 total time=   0.0s\n",
      "[CV 2/2] END .C=10, gamma=0.001, kernel=sigmoid;, score=0.026 total time=   0.0s\n",
      "[CV 1/2] END .C=10, gamma=0.0001, kernel=linear;, score=0.077 total time=   0.0s\n",
      "[CV 2/2] END .C=10, gamma=0.0001, kernel=linear;, score=0.026 total time=   0.0s\n",
      "[CV 1/2] END ...C=10, gamma=0.0001, kernel=poly;, score=0.026 total time=   0.0s\n",
      "[CV 2/2] END ...C=10, gamma=0.0001, kernel=poly;, score=0.026 total time=   0.0s\n",
      "[CV 1/2] END ....C=10, gamma=0.0001, kernel=rbf;, score=0.026 total time=   0.0s\n",
      "[CV 2/2] END ....C=10, gamma=0.0001, kernel=rbf;, score=0.026 total time=   0.0s\n",
      "[CV 1/2] END C=10, gamma=0.0001, kernel=sigmoid;, score=0.026 total time=   0.0s\n",
      "[CV 2/2] END C=10, gamma=0.0001, kernel=sigmoid;, score=0.026 total time=   0.0s\n"
     ]
    },
    {
     "name": "stdout",
     "output_type": "stream",
     "text": [
      "[CV 1/2] END .....C=100, gamma=1, kernel=linear;, score=0.077 total time=   0.0s\n",
      "[CV 2/2] END .....C=100, gamma=1, kernel=linear;, score=0.026 total time=   0.0s\n",
      "[CV 1/2] END .......C=100, gamma=1, kernel=poly;, score=0.000 total time=   0.0s\n",
      "[CV 2/2] END .......C=100, gamma=1, kernel=poly;, score=0.051 total time=   0.0s\n",
      "[CV 1/2] END ........C=100, gamma=1, kernel=rbf;, score=0.051 total time=   0.0s\n",
      "[CV 2/2] END ........C=100, gamma=1, kernel=rbf;, score=0.026 total time=   0.0s\n",
      "[CV 1/2] END ....C=100, gamma=1, kernel=sigmoid;, score=0.000 total time=   0.0s\n",
      "[CV 2/2] END ....C=100, gamma=1, kernel=sigmoid;, score=0.026 total time=   0.0s\n",
      "[CV 1/2] END ...C=100, gamma=0.1, kernel=linear;, score=0.077 total time=   0.0s\n",
      "[CV 2/2] END ...C=100, gamma=0.1, kernel=linear;, score=0.026 total time=   0.0s\n",
      "[CV 1/2] END .....C=100, gamma=0.1, kernel=poly;, score=0.000 total time=   0.0s\n",
      "[CV 2/2] END .....C=100, gamma=0.1, kernel=poly;, score=0.051 total time=   0.0s\n",
      "[CV 1/2] END ......C=100, gamma=0.1, kernel=rbf;, score=0.051 total time=   0.0s\n",
      "[CV 2/2] END ......C=100, gamma=0.1, kernel=rbf;, score=0.026 total time=   0.0s\n",
      "[CV 1/2] END ..C=100, gamma=0.1, kernel=sigmoid;, score=0.051 total time=   0.0s\n",
      "[CV 2/2] END ..C=100, gamma=0.1, kernel=sigmoid;, score=0.000 total time=   0.0s\n",
      "[CV 1/2] END ..C=100, gamma=0.01, kernel=linear;, score=0.077 total time=   0.0s\n",
      "[CV 2/2] END ..C=100, gamma=0.01, kernel=linear;, score=0.026 total time=   0.0s\n",
      "[CV 1/2] END ....C=100, gamma=0.01, kernel=poly;, score=0.026 total time=   0.0s\n",
      "[CV 2/2] END ....C=100, gamma=0.01, kernel=poly;, score=0.026 total time=   0.0s\n",
      "[CV 1/2] END .....C=100, gamma=0.01, kernel=rbf;, score=0.077 total time=   0.0s\n",
      "[CV 2/2] END .....C=100, gamma=0.01, kernel=rbf;, score=0.026 total time=   0.0s\n",
      "[CV 1/2] END .C=100, gamma=0.01, kernel=sigmoid;, score=0.077 total time=   0.0s\n",
      "[CV 2/2] END .C=100, gamma=0.01, kernel=sigmoid;, score=0.026 total time=   0.0s\n",
      "[CV 1/2] END .C=100, gamma=0.001, kernel=linear;, score=0.077 total time=   0.0s\n",
      "[CV 2/2] END .C=100, gamma=0.001, kernel=linear;, score=0.026 total time=   0.0s\n",
      "[CV 1/2] END ...C=100, gamma=0.001, kernel=poly;, score=0.026 total time=   0.0s\n",
      "[CV 2/2] END ...C=100, gamma=0.001, kernel=poly;, score=0.026 total time=   0.0s\n",
      "[CV 1/2] END ....C=100, gamma=0.001, kernel=rbf;, score=0.026 total time=   0.0s\n",
      "[CV 2/2] END ....C=100, gamma=0.001, kernel=rbf;, score=0.026 total time=   0.0s\n",
      "[CV 1/2] END C=100, gamma=0.001, kernel=sigmoid;, score=0.026 total time=   0.0s\n",
      "[CV 2/2] END C=100, gamma=0.001, kernel=sigmoid;, score=0.026 total time=   0.0s\n",
      "[CV 1/2] END C=100, gamma=0.0001, kernel=linear;, score=0.077 total time=   0.0s\n",
      "[CV 2/2] END C=100, gamma=0.0001, kernel=linear;, score=0.026 total time=   0.0s\n",
      "[CV 1/2] END ..C=100, gamma=0.0001, kernel=poly;, score=0.026 total time=   0.0s\n",
      "[CV 2/2] END ..C=100, gamma=0.0001, kernel=poly;, score=0.026 total time=   0.0s\n",
      "[CV 1/2] END ...C=100, gamma=0.0001, kernel=rbf;, score=0.026 total time=   0.0s\n",
      "[CV 2/2] END ...C=100, gamma=0.0001, kernel=rbf;, score=0.026 total time=   0.0s\n",
      "[CV 1/2] END C=100, gamma=0.0001, kernel=sigmoid;, score=0.026 total time=   0.0s\n",
      "[CV 2/2] END C=100, gamma=0.0001, kernel=sigmoid;, score=0.026 total time=   0.0s\n",
      "[CV 1/2] END ....C=1000, gamma=1, kernel=linear;, score=0.077 total time=   0.0s\n",
      "[CV 2/2] END ....C=1000, gamma=1, kernel=linear;, score=0.026 total time=   0.0s\n",
      "[CV 1/2] END ......C=1000, gamma=1, kernel=poly;, score=0.000 total time=   0.0s\n",
      "[CV 2/2] END ......C=1000, gamma=1, kernel=poly;, score=0.051 total time=   0.0s\n",
      "[CV 1/2] END .......C=1000, gamma=1, kernel=rbf;, score=0.051 total time=   0.0s\n",
      "[CV 2/2] END .......C=1000, gamma=1, kernel=rbf;, score=0.026 total time=   0.0s\n",
      "[CV 1/2] END ...C=1000, gamma=1, kernel=sigmoid;, score=0.026 total time=   0.0s\n",
      "[CV 2/2] END ...C=1000, gamma=1, kernel=sigmoid;, score=0.026 total time=   0.0s\n",
      "[CV 1/2] END ..C=1000, gamma=0.1, kernel=linear;, score=0.077 total time=   0.0s\n",
      "[CV 2/2] END ..C=1000, gamma=0.1, kernel=linear;, score=0.026 total time=   0.0s\n",
      "[CV 1/2] END ....C=1000, gamma=0.1, kernel=poly;, score=0.000 total time=   0.0s\n",
      "[CV 2/2] END ....C=1000, gamma=0.1, kernel=poly;, score=0.051 total time=   0.0s\n",
      "[CV 1/2] END .....C=1000, gamma=0.1, kernel=rbf;, score=0.051 total time=   0.0s\n",
      "[CV 2/2] END .....C=1000, gamma=0.1, kernel=rbf;, score=0.026 total time=   0.0s\n",
      "[CV 1/2] END .C=1000, gamma=0.1, kernel=sigmoid;, score=0.051 total time=   0.0s\n",
      "[CV 2/2] END .C=1000, gamma=0.1, kernel=sigmoid;, score=0.000 total time=   0.0s\n",
      "[CV 1/2] END .C=1000, gamma=0.01, kernel=linear;, score=0.077 total time=   0.0s\n",
      "[CV 2/2] END .C=1000, gamma=0.01, kernel=linear;, score=0.026 total time=   0.0s\n",
      "[CV 1/2] END ...C=1000, gamma=0.01, kernel=poly;, score=0.026 total time=   0.0s\n",
      "[CV 2/2] END ...C=1000, gamma=0.01, kernel=poly;, score=0.026 total time=   0.0s\n",
      "[CV 1/2] END ....C=1000, gamma=0.01, kernel=rbf;, score=0.077 total time=   0.0s\n",
      "[CV 2/2] END ....C=1000, gamma=0.01, kernel=rbf;, score=0.026 total time=   0.0s\n",
      "[CV 1/2] END C=1000, gamma=0.01, kernel=sigmoid;, score=0.077 total time=   0.0s\n",
      "[CV 2/2] END C=1000, gamma=0.01, kernel=sigmoid;, score=0.026 total time=   0.0s\n",
      "[CV 1/2] END C=1000, gamma=0.001, kernel=linear;, score=0.077 total time=   0.0s\n",
      "[CV 2/2] END C=1000, gamma=0.001, kernel=linear;, score=0.026 total time=   0.0s\n",
      "[CV 1/2] END ..C=1000, gamma=0.001, kernel=poly;, score=0.026 total time=   0.0s\n",
      "[CV 2/2] END ..C=1000, gamma=0.001, kernel=poly;, score=0.026 total time=   0.0s\n",
      "[CV 1/2] END ...C=1000, gamma=0.001, kernel=rbf;, score=0.077 total time=   0.0s\n",
      "[CV 2/2] END ...C=1000, gamma=0.001, kernel=rbf;, score=0.026 total time=   0.0s\n",
      "[CV 1/2] END C=1000, gamma=0.001, kernel=sigmoid;, score=0.077 total time=   0.0s\n",
      "[CV 2/2] END C=1000, gamma=0.001, kernel=sigmoid;, score=0.026 total time=   0.0s\n",
      "[CV 1/2] END C=1000, gamma=0.0001, kernel=linear;, score=0.077 total time=   0.0s\n",
      "[CV 2/2] END C=1000, gamma=0.0001, kernel=linear;, score=0.026 total time=   0.0s\n",
      "[CV 1/2] END .C=1000, gamma=0.0001, kernel=poly;, score=0.026 total time=   0.0s\n",
      "[CV 2/2] END .C=1000, gamma=0.0001, kernel=poly;, score=0.026 total time=   0.0s\n",
      "[CV 1/2] END ..C=1000, gamma=0.0001, kernel=rbf;, score=0.026 total time=   0.0s\n",
      "[CV 2/2] END ..C=1000, gamma=0.0001, kernel=rbf;, score=0.026 total time=   0.0s\n",
      "[CV 1/2] END C=1000, gamma=0.0001, kernel=sigmoid;, score=0.026 total time=   0.0s\n",
      "[CV 2/2] END C=1000, gamma=0.0001, kernel=sigmoid;, score=0.026 total time=   0.0s\n"
     ]
    },
    {
     "data": {
      "text/plain": [
       "GridSearchCV(cv=2, estimator=SVC(),\n",
       "             param_grid={'C': [0.1, 1, 10, 100, 1000],\n",
       "                         'gamma': [1, 0.1, 0.01, 0.001, 0.0001],\n",
       "                         'kernel': ['linear', 'poly', 'rbf', 'sigmoid']},\n",
       "             verbose=3)"
      ]
     },
     "execution_count": 20,
     "metadata": {},
     "output_type": "execute_result"
    }
   ],
   "source": [
    "param_grid = {'C': [0.1, 1, 10, 100, 1000], \n",
    "              'gamma': [1, 0.1, 0.01, 0.001, 0.0001],\n",
    "              'kernel': ['linear','poly','rbf','sigmoid']} \n",
    "  \n",
    "grid = GridSearchCV(svm.SVC(), param_grid,cv = 2,refit = True, verbose = 3)\n",
    "# fitting the model for grid search\n",
    "grid.fit(X_train_s_new, y_train)"
   ]
  },
  {
   "cell_type": "code",
   "execution_count": 21,
   "id": "2e167bfc",
   "metadata": {},
   "outputs": [
    {
     "name": "stdout",
     "output_type": "stream",
     "text": [
      "              precision    recall  f1-score   support\n",
      "\n",
      "           1       0.00      0.00      0.00         1\n",
      "           2       0.00      0.00      0.00         1\n",
      "           3       0.00      0.00      0.00         1\n",
      "           4       0.00      0.00      0.00         1\n",
      "           5       0.00      0.00      0.00         1\n",
      "           6       0.00      0.00      0.00         1\n",
      "           7       0.00      0.00      0.00         1\n",
      "           8       0.00      0.00      0.00         1\n",
      "           9       0.00      0.00      0.00         1\n",
      "          10       0.00      0.00      0.00         1\n",
      "          11       0.00      0.00      0.00         1\n",
      "          12       0.00      0.00      0.00         1\n",
      "          13       0.00      0.00      0.00         1\n",
      "          14       1.00      1.00      1.00         1\n",
      "          15       0.00      0.00      0.00         1\n",
      "          16       0.00      0.00      0.00         1\n",
      "          17       0.07      1.00      0.12         1\n",
      "          18       0.00      0.00      0.00         1\n",
      "          19       0.00      0.00      0.00         1\n",
      "          20       0.00      0.00      0.00         1\n",
      "          21       0.00      0.00      0.00         1\n",
      "          22       1.00      1.00      1.00         1\n",
      "          23       0.00      0.00      0.00         1\n",
      "          24       0.00      0.00      0.00         1\n",
      "          25       0.00      0.00      0.00         1\n",
      "          26       0.00      0.00      0.00         1\n",
      "\n",
      "    accuracy                           0.12        26\n",
      "   macro avg       0.08      0.12      0.08        26\n",
      "weighted avg       0.08      0.12      0.08        26\n",
      "\n"
     ]
    },
    {
     "name": "stderr",
     "output_type": "stream",
     "text": [
      "/home/jpauli/miniconda3/envs/neuro_ai/lib/python3.7/site-packages/sklearn/metrics/_classification.py:1318: UndefinedMetricWarning: Precision and F-score are ill-defined and being set to 0.0 in labels with no predicted samples. Use `zero_division` parameter to control this behavior.\n",
      "  _warn_prf(average, modifier, msg_start, len(result))\n",
      "/home/jpauli/miniconda3/envs/neuro_ai/lib/python3.7/site-packages/sklearn/metrics/_classification.py:1318: UndefinedMetricWarning: Precision and F-score are ill-defined and being set to 0.0 in labels with no predicted samples. Use `zero_division` parameter to control this behavior.\n",
      "  _warn_prf(average, modifier, msg_start, len(result))\n",
      "/home/jpauli/miniconda3/envs/neuro_ai/lib/python3.7/site-packages/sklearn/metrics/_classification.py:1318: UndefinedMetricWarning: Precision and F-score are ill-defined and being set to 0.0 in labels with no predicted samples. Use `zero_division` parameter to control this behavior.\n",
      "  _warn_prf(average, modifier, msg_start, len(result))\n"
     ]
    }
   ],
   "source": [
    "grid_predictions = grid.predict(X_test)\n",
    "  \n",
    "# print classification report\n",
    "print(classification_report(y_test, grid_predictions))"
   ]
  },
  {
   "cell_type": "code",
   "execution_count": 22,
   "id": "3011b142",
   "metadata": {},
   "outputs": [
    {
     "data": {
      "text/plain": [
       "0.07692307692307693"
      ]
     },
     "execution_count": 22,
     "metadata": {},
     "output_type": "execute_result"
    }
   ],
   "source": [
    "grid.score(scaler.transform(X_test), y_test)"
   ]
  },
  {
   "cell_type": "code",
   "execution_count": 23,
   "id": "0edca8e5",
   "metadata": {},
   "outputs": [
    {
     "data": {
      "text/plain": [
       "0.9615384615384616"
      ]
     },
     "execution_count": 23,
     "metadata": {},
     "output_type": "execute_result"
    }
   ],
   "source": [
    "grid.score(X_train_s_new, y_train)"
   ]
  },
  {
   "cell_type": "code",
   "execution_count": 2,
   "id": "f6d6cb4c",
   "metadata": {},
   "outputs": [
    {
     "data": {
      "text/plain": [
       "['bold.nii.gz', '_info.json']"
      ]
     },
     "execution_count": 2,
     "metadata": {},
     "output_type": "execute_result"
    }
   ],
   "source": [
    "import os\n",
    "os.chdir(\"/mnt/c/Users/janos/git/proj-638b2a566881d56fbfac223e/sub-02.ses-imagery01/dt-neuro-func-task.tag-imagery.tag-preprocessed.run-01.id-63b886103aaf91d15e1cd447\")\n",
    "os.listdir()"
   ]
  },
  {
   "cell_type": "code",
   "execution_count": 3,
   "id": "3463c006",
   "metadata": {},
   "outputs": [],
   "source": [
    "import pandas as pd\n",
    "from nilearn.image import mean_img\n",
    "from nilearn.plotting import plot_img"
   ]
  },
  {
   "cell_type": "code",
   "execution_count": 4,
   "id": "65a27916",
   "metadata": {},
   "outputs": [
    {
     "ename": "ValueError",
     "evalue": "File not found: 'sub-02_ses-imagery01_run-01_tag-imagery_tag-preprocessed_task-imagery_desc-63b886103aaf91d15e1cd447_bold.nii.gz'",
     "output_type": "error",
     "traceback": [
      "\u001b[0;31m---------------------------------------------------------------------------\u001b[0m",
      "\u001b[0;31mValueError\u001b[0m                                Traceback (most recent call last)",
      "\u001b[0;32m/tmp/ipykernel_1297/1311853881.py\u001b[0m in \u001b[0;36m<module>\u001b[0;34m\u001b[0m\n\u001b[0;32m----> 1\u001b[0;31m \u001b[0mmean_img_\u001b[0m \u001b[0;34m=\u001b[0m \u001b[0mmean_img\u001b[0m\u001b[0;34m(\u001b[0m\u001b[0;34m\"sub-02_ses-imagery01_run-01_tag-imagery_tag-preprocessed_task-imagery_desc-63b886103aaf91d15e1cd447_bold.nii.gz\"\u001b[0m\u001b[0;34m)\u001b[0m\u001b[0;34m\u001b[0m\u001b[0m\n\u001b[0m\u001b[1;32m      2\u001b[0m \u001b[0mplot_img\u001b[0m\u001b[0;34m(\u001b[0m\u001b[0mmean_img_\u001b[0m\u001b[0;34m)\u001b[0m\u001b[0;34m\u001b[0m\u001b[0m\n",
      "\u001b[0;32m~/miniconda3/envs/neuro_ai/lib/python3.7/site-packages/nilearn/image/image.py\u001b[0m in \u001b[0;36mmean_img\u001b[0;34m(imgs, target_affine, target_shape, verbose, n_jobs)\u001b[0m\n\u001b[1;32m    532\u001b[0m \u001b[0;34m\u001b[0m\u001b[0m\n\u001b[1;32m    533\u001b[0m     \u001b[0mimgs_iter\u001b[0m \u001b[0;34m=\u001b[0m \u001b[0miter\u001b[0m\u001b[0;34m(\u001b[0m\u001b[0mimgs\u001b[0m\u001b[0;34m)\u001b[0m\u001b[0;34m\u001b[0m\u001b[0m\n\u001b[0;32m--> 534\u001b[0;31m     \u001b[0mfirst_img\u001b[0m \u001b[0;34m=\u001b[0m \u001b[0mcheck_niimg\u001b[0m\u001b[0;34m(\u001b[0m\u001b[0mnext\u001b[0m\u001b[0;34m(\u001b[0m\u001b[0mimgs_iter\u001b[0m\u001b[0;34m)\u001b[0m\u001b[0;34m)\u001b[0m\u001b[0;34m\u001b[0m\u001b[0m\n\u001b[0m\u001b[1;32m    535\u001b[0m \u001b[0;34m\u001b[0m\u001b[0m\n\u001b[1;32m    536\u001b[0m     \u001b[0;31m# Compute the first mean to retrieve the reference\u001b[0m\u001b[0;34m\u001b[0m\u001b[0;34m\u001b[0m\u001b[0m\n",
      "\u001b[0;32m~/miniconda3/envs/neuro_ai/lib/python3.7/site-packages/nilearn/_utils/niimg_conversions.py\u001b[0m in \u001b[0;36mcheck_niimg\u001b[0;34m(niimg, ensure_ndim, atleast_4d, dtype, return_iterator, wildcards)\u001b[0m\n\u001b[1;32m    272\u001b[0m                 \u001b[0;32mraise\u001b[0m \u001b[0mValueError\u001b[0m\u001b[0;34m(\u001b[0m\u001b[0mmessage\u001b[0m\u001b[0;34m)\u001b[0m\u001b[0;34m\u001b[0m\u001b[0m\n\u001b[1;32m    273\u001b[0m             \u001b[0;32melse\u001b[0m\u001b[0;34m:\u001b[0m\u001b[0;34m\u001b[0m\u001b[0m\n\u001b[0;32m--> 274\u001b[0;31m                 \u001b[0;32mraise\u001b[0m \u001b[0mValueError\u001b[0m\u001b[0;34m(\u001b[0m\u001b[0;34m\"File not found: '%s'\"\u001b[0m \u001b[0;34m%\u001b[0m \u001b[0mniimg\u001b[0m\u001b[0;34m)\u001b[0m\u001b[0;34m\u001b[0m\u001b[0m\n\u001b[0m\u001b[1;32m    275\u001b[0m         \u001b[0;32melif\u001b[0m \u001b[0;32mnot\u001b[0m \u001b[0mos\u001b[0m\u001b[0;34m.\u001b[0m\u001b[0mpath\u001b[0m\u001b[0;34m.\u001b[0m\u001b[0mexists\u001b[0m\u001b[0;34m(\u001b[0m\u001b[0mniimg\u001b[0m\u001b[0;34m)\u001b[0m\u001b[0;34m:\u001b[0m\u001b[0;34m\u001b[0m\u001b[0m\n\u001b[1;32m    276\u001b[0m             \u001b[0;32mraise\u001b[0m \u001b[0mValueError\u001b[0m\u001b[0;34m(\u001b[0m\u001b[0;34m\"File not found: '%s'\"\u001b[0m \u001b[0;34m%\u001b[0m \u001b[0mniimg\u001b[0m\u001b[0;34m)\u001b[0m\u001b[0;34m\u001b[0m\u001b[0m\n",
      "\u001b[0;31mValueError\u001b[0m: File not found: 'sub-02_ses-imagery01_run-01_tag-imagery_tag-preprocessed_task-imagery_desc-63b886103aaf91d15e1cd447_bold.nii.gz'"
     ]
    }
   ],
   "source": [
    "mean_img_ = mean_img(\"sub-02_ses-imagery01_run-01_tag-imagery_tag-preprocessed_task-imagery_desc-63b886103aaf91d15e1cd447_bold.nii.gz\")\n",
    "plot_img(mean_img_)"
   ]
  },
  {
   "cell_type": "code",
   "execution_count": 5,
   "id": "fd7f8f29",
   "metadata": {},
   "outputs": [
    {
     "data": {
      "text/plain": [
       "<nilearn.plotting.displays._slicers.OrthoSlicer at 0x7fe3a35eebe0>"
      ]
     },
     "execution_count": 5,
     "metadata": {},
     "output_type": "execute_result"
    },
    {
     "data": {
      "image/png": "[encoded data removed]",
      "text/plain": [
       "<Figure size 475.2x187.2 with 4 Axes>"
      ]
     },
     "metadata": {},
     "output_type": "display_data"
    }
   ],
   "source": [
    "mean_img_ = mean_img(\"bold.nii.gz\")\n",
    "plot_img(mean_img_)\n"
   ]
  }
 ],
 "metadata": {
  "kernelspec": {
   "display_name": "neuro_ai",
   "language": "python",
   "name": "neuro_ai"
  },
  "language_info": {
   "codemirror_mode": {
    "name": "ipython",
    "version": 3
   },
   "file_extension": ".py",
   "mimetype": "text/x-python",
   "name": "python",
   "nbconvert_exporter": "python",
   "pygments_lexer": "ipython3",
   "version": "3.7.0"
  }
 },
 "nbformat": 4,
 "nbformat_minor": 5
}
