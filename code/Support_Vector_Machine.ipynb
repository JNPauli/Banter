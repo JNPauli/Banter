{
 "cells": [
  {
   "cell_type": "markdown",
   "id": "c5dd6d05",
   "metadata": {},
   "source": [
    "## **0. Introduction**"
   ]
  },
  {
   "cell_type": "markdown",
   "id": "5a7ef9b8",
   "metadata": {},
   "source": [
    "This notebook follows after the \"Logistic_Regression.iypnb\" notebook. Aim of this notebook is to conduct the Support Vector Machine algorithm. "
   ]
  },
  {
   "cell_type": "markdown",
   "id": "95da3f27",
   "metadata": {},
   "source": [
    "## **1. Masking**"
   ]
  },
  {
   "cell_type": "markdown",
   "id": "98d68ef0",
   "metadata": {},
   "source": [
    "As in the Logistic Regression notebook, we will first load the masks, load the data and then apply the mask. I will not explain each step, because this has already been described in the aformentioned notebook."
   ]
  },
  {
   "cell_type": "code",
   "execution_count": 1,
   "id": "a7391cfc",
   "metadata": {},
   "outputs": [
    {
     "data": {
      "text/plain": [
       "['sub-02_mask_LH_FFA.nii.gz',\n",
       " 'sub-02_mask_LH_hV4.nii.gz',\n",
       " 'sub-02_mask_LH_HVC.nii.gz',\n",
       " 'sub-02_mask_LH_LOC.nii.gz',\n",
       " 'sub-02_mask_LH_PPA.nii.gz',\n",
       " 'sub-02_mask_LH_V1d.nii.gz',\n",
       " 'sub-02_mask_LH_V1v.nii.gz',\n",
       " 'sub-02_mask_LH_V2d.nii.gz',\n",
       " 'sub-02_mask_LH_V2v.nii.gz',\n",
       " 'sub-02_mask_LH_V3d.nii.gz',\n",
       " 'sub-02_mask_LH_V3v.nii.gz',\n",
       " 'sub-02_mask_RH_FFA.nii.gz',\n",
       " 'sub-02_mask_RH_hV4.nii.gz',\n",
       " 'sub-02_mask_RH_HVC.nii.gz',\n",
       " 'sub-02_mask_RH_LOC.nii.gz',\n",
       " 'sub-02_mask_RH_PPA.nii.gz',\n",
       " 'sub-02_mask_RH_V1d.nii.gz',\n",
       " 'sub-02_mask_RH_V1v.nii.gz',\n",
       " 'sub-02_mask_RH_V2d.nii.gz',\n",
       " 'sub-02_mask_RH_V2v.nii.gz',\n",
       " 'sub-02_mask_RH_V3d.nii.gz',\n",
       " 'sub-02_mask_RH_V3v.nii.gz']"
      ]
     },
     "execution_count": 1,
     "metadata": {},
     "output_type": "execute_result"
    }
   ],
   "source": [
    "import os\n",
    "\n",
    "os.chdir(\"/home/jpauli/ds001506/sourcedata/sub-02/anat\")\n",
    "os.listdir()"
   ]
  },
  {
   "cell_type": "code",
   "execution_count": 5,
   "id": "9d80f9ea",
   "metadata": {},
   "outputs": [],
   "source": [
    "mask_img_path = '/home/jpauli/ds001506/sourcedata/sub-02/anat'\n",
    "mask_img_L = os.path.join(mask_img_path,'sub-02_mask_LH_LOC.nii.gz')\n",
    "mask_img_R = os.path.join(mask_img_path,'sub-01_mask_RH_PPA.nii.gz')"
   ]
  },
  {
   "cell_type": "code",
   "execution_count": 6,
   "id": "85c4edfc",
   "metadata": {},
   "outputs": [],
   "source": [
    "from nilearn.maskers import NiftiMasker\n",
    "nifti_masker = NiftiMasker(mask_img=mask_img_L)"
   ]
  },
  {
   "cell_type": "code",
   "execution_count": 84,
   "id": "f8c8c0ce",
   "metadata": {},
   "outputs": [],
   "source": [
    "X = []\n",
    "Y = []\n",
    "Sessions = []\n",
    "category = 1\n",
    "for session in [\"1\",\"2\",\"3\"]:\n",
    "    os.chdir('/mnt/c/Users/janos/git/sessions_2/z_maps_{}_masked'.format(session))\n",
    "    for x in os.listdir():\n",
    "        if x == 'nilearn_cache':\n",
    "            continue\n",
    "        else:\n",
    "            X.append(nifti_masker.fit_transform(x))\n",
    "            Y.append(category)\n",
    "            Sessions.append(session)\n",
    "            category=category+1\n",
    "            if category == 27:\n",
    "                category = 1"
   ]
  },
  {
   "cell_type": "code",
   "execution_count": 86,
   "id": "317acda6",
   "metadata": {},
   "outputs": [],
   "source": [
    "import numpy as np\n",
    "import pandas as pd\n",
    "\n",
    "Y = np.array(Y)\n",
    "Y_ses = np.array(Sessions)\n",
    "df =  pd.DataFrame(np.concatenate(X))\n",
    "X_ = df.to_numpy()\n",
    "\n",
    "\n"
   ]
  },
  {
   "cell_type": "markdown",
   "id": "32cd11ab",
   "metadata": {},
   "source": [
    "## **1.0 Support Vector Machine**"
   ]
  },
  {
   "cell_type": "code",
   "execution_count": 46,
   "id": "4bca1830",
   "metadata": {},
   "outputs": [
    {
     "data": {
      "text/plain": [
       "(78, 10)"
      ]
     },
     "execution_count": 46,
     "metadata": {},
     "output_type": "execute_result"
    }
   ],
   "source": [
    "from sklearn.feature_selection import SelectKBest\n",
    "from sklearn.feature_selection import f_classif\n",
    "\n",
    "X_new = SelectKBest(f_classif, k=10).fit_transform(X_, Y)\n",
    "X_new.shape"
   ]
  },
  {
   "cell_type": "code",
   "execution_count": 88,
   "id": "636b91e9",
   "metadata": {},
   "outputs": [],
   "source": [
    "from sklearn.model_selection import train_test_split\n",
    "\n",
    "# Split dataset into training set and test set\n",
    "X_train, X_test, y_train, y_test = train_test_split(X_, Y, test_size=0.2,random_state=42)"
   ]
  },
  {
   "cell_type": "code",
   "execution_count": 89,
   "id": "8f30c78c",
   "metadata": {},
   "outputs": [],
   "source": [
    "from sklearn import preprocessing\n",
    "scaler = preprocessing.StandardScaler()\n",
    "X_train_s = scaler.fit_transform(X_train)"
   ]
  },
  {
   "cell_type": "code",
   "execution_count": 90,
   "id": "ada35b8f",
   "metadata": {},
   "outputs": [
    {
     "name": "stdout",
     "output_type": "stream",
     "text": [
      "              precision    recall  f1-score   support\n",
      "\n",
      "           1       0.00      0.00      0.00       1.0\n",
      "           2       0.00      0.00      0.00       0.0\n",
      "           3       0.00      0.00      0.00       1.0\n",
      "           4       0.00      0.00      0.00       0.0\n",
      "           5       0.00      0.00      0.00       2.0\n",
      "           6       0.00      0.00      0.00       0.0\n",
      "           7       0.00      0.00      0.00       0.0\n",
      "           8       0.00      0.00      0.00       1.0\n",
      "           9       0.00      0.00      0.00       1.0\n",
      "          10       0.00      0.00      0.00       1.0\n",
      "          11       0.00      0.00      0.00       1.0\n",
      "          13       0.00      0.00      0.00       1.0\n",
      "          15       0.00      0.00      0.00       1.0\n",
      "          17       0.00      0.00      0.00       0.0\n",
      "          19       0.00      0.00      0.00       2.0\n",
      "          20       0.00      0.00      0.00       0.0\n",
      "          21       0.00      0.00      0.00       1.0\n",
      "          23       0.00      0.00      0.00       1.0\n",
      "          24       0.00      0.00      0.00       1.0\n",
      "          26       0.00      0.00      0.00       1.0\n",
      "\n",
      "    accuracy                           0.00      16.0\n",
      "   macro avg       0.00      0.00      0.00      16.0\n",
      "weighted avg       0.00      0.00      0.00      16.0\n",
      "\n"
     ]
    },
    {
     "name": "stderr",
     "output_type": "stream",
     "text": [
      "/home/jpauli/miniconda3/envs/neuro_ai/lib/python3.7/site-packages/sklearn/metrics/_classification.py:1318: UndefinedMetricWarning: Precision and F-score are ill-defined and being set to 0.0 in labels with no predicted samples. Use `zero_division` parameter to control this behavior.\n",
      "  _warn_prf(average, modifier, msg_start, len(result))\n",
      "/home/jpauli/miniconda3/envs/neuro_ai/lib/python3.7/site-packages/sklearn/metrics/_classification.py:1318: UndefinedMetricWarning: Recall and F-score are ill-defined and being set to 0.0 in labels with no true samples. Use `zero_division` parameter to control this behavior.\n",
      "  _warn_prf(average, modifier, msg_start, len(result))\n",
      "/home/jpauli/miniconda3/envs/neuro_ai/lib/python3.7/site-packages/sklearn/metrics/_classification.py:1318: UndefinedMetricWarning: Precision and F-score are ill-defined and being set to 0.0 in labels with no predicted samples. Use `zero_division` parameter to control this behavior.\n",
      "  _warn_prf(average, modifier, msg_start, len(result))\n",
      "/home/jpauli/miniconda3/envs/neuro_ai/lib/python3.7/site-packages/sklearn/metrics/_classification.py:1318: UndefinedMetricWarning: Recall and F-score are ill-defined and being set to 0.0 in labels with no true samples. Use `zero_division` parameter to control this behavior.\n",
      "  _warn_prf(average, modifier, msg_start, len(result))\n",
      "/home/jpauli/miniconda3/envs/neuro_ai/lib/python3.7/site-packages/sklearn/metrics/_classification.py:1318: UndefinedMetricWarning: Precision and F-score are ill-defined and being set to 0.0 in labels with no predicted samples. Use `zero_division` parameter to control this behavior.\n",
      "  _warn_prf(average, modifier, msg_start, len(result))\n",
      "/home/jpauli/miniconda3/envs/neuro_ai/lib/python3.7/site-packages/sklearn/metrics/_classification.py:1318: UndefinedMetricWarning: Recall and F-score are ill-defined and being set to 0.0 in labels with no true samples. Use `zero_division` parameter to control this behavior.\n",
      "  _warn_prf(average, modifier, msg_start, len(result))\n"
     ]
    }
   ],
   "source": [
    "from sklearn import svm\n",
    "from sklearn.metrics import classification_report, confusion_matrix\n",
    "clf = svm.SVC(C = 0.01, kernel='linear') # Linear Kernel\n",
    "\n",
    "clf.fit(X_train_s, y_train)\n",
    "\n",
    "y_pred = clf.predict(scaler.transform(X_test))\n",
    "print(classification_report(y_test, y_pred))"
   ]
  },
  {
   "cell_type": "code",
   "execution_count": 91,
   "id": "0f2b53d4",
   "metadata": {},
   "outputs": [
    {
     "name": "stdout",
     "output_type": "stream",
     "text": [
      "Fitting 2 folds for each of 100 candidates, totalling 200 fits\n",
      "[CV 1/2] END .....C=0.1, gamma=1, kernel=linear;, score=0.000 total time=   0.0s\n",
      "[CV 2/2] END .....C=0.1, gamma=1, kernel=linear;, score=0.000 total time=   0.0s\n",
      "[CV 1/2] END .......C=0.1, gamma=1, kernel=poly;, score=0.000 total time=   0.0s\n",
      "[CV 2/2] END .......C=0.1, gamma=1, kernel=poly;, score=0.000 total time=   0.0s\n",
      "[CV 1/2] END ........C=0.1, gamma=1, kernel=rbf;, score=0.000 total time=   0.0s\n",
      "[CV 2/2] END ........C=0.1, gamma=1, kernel=rbf;, score=0.000 total time=   0.0s\n",
      "[CV 1/2] END ....C=0.1, gamma=1, kernel=sigmoid;, score=0.000 total time=   0.0s\n",
      "[CV 2/2] END ....C=0.1, gamma=1, kernel=sigmoid;, score=0.000 total time=   0.0s\n",
      "[CV 1/2] END ...C=0.1, gamma=0.1, kernel=linear;, score=0.000 total time=   0.0s\n",
      "[CV 2/2] END ...C=0.1, gamma=0.1, kernel=linear;, score=0.000 total time=   0.0s\n",
      "[CV 1/2] END .....C=0.1, gamma=0.1, kernel=poly;, score=0.000 total time=   0.0s\n",
      "[CV 2/2] END .....C=0.1, gamma=0.1, kernel=poly;, score=0.000 total time=   0.0s\n",
      "[CV 1/2] END ......C=0.1, gamma=0.1, kernel=rbf;, score=0.000 total time=   0.0s\n",
      "[CV 2/2] END ......C=0.1, gamma=0.1, kernel=rbf;, score=0.000 total time=   0.0s\n",
      "[CV 1/2] END ..C=0.1, gamma=0.1, kernel=sigmoid;, score=0.000 total time=   0.0s\n",
      "[CV 2/2] END ..C=0.1, gamma=0.1, kernel=sigmoid;, score=0.000 total time=   0.0s\n",
      "[CV 1/2] END ..C=0.1, gamma=0.01, kernel=linear;, score=0.000 total time=   0.0s\n",
      "[CV 2/2] END ..C=0.1, gamma=0.01, kernel=linear;, score=0.000 total time=   0.0s\n",
      "[CV 1/2] END ....C=0.1, gamma=0.01, kernel=poly;, score=0.000 total time=   0.0s\n",
      "[CV 2/2] END ....C=0.1, gamma=0.01, kernel=poly;, score=0.000 total time=   0.0s\n",
      "[CV 1/2] END .....C=0.1, gamma=0.01, kernel=rbf;, score=0.000 total time=   0.0s\n",
      "[CV 2/2] END .....C=0.1, gamma=0.01, kernel=rbf;, score=0.000 total time=   0.0s\n",
      "[CV 1/2] END .C=0.1, gamma=0.01, kernel=sigmoid;, score=0.000 total time=   0.0s\n",
      "[CV 2/2] END .C=0.1, gamma=0.01, kernel=sigmoid;, score=0.000 total time=   0.0s\n",
      "[CV 1/2] END .C=0.1, gamma=0.001, kernel=linear;, score=0.000 total time=   0.0s\n",
      "[CV 2/2] END .C=0.1, gamma=0.001, kernel=linear;, score=0.000 total time=   0.0s\n",
      "[CV 1/2] END ...C=0.1, gamma=0.001, kernel=poly;, score=0.000 total time=   0.0s\n",
      "[CV 2/2] END ...C=0.1, gamma=0.001, kernel=poly;, score=0.000 total time=   0.0s\n",
      "[CV 1/2] END ....C=0.1, gamma=0.001, kernel=rbf;, score=0.000 total time=   0.0s\n",
      "[CV 2/2] END ....C=0.1, gamma=0.001, kernel=rbf;, score=0.000 total time=   0.0s\n",
      "[CV 1/2] END C=0.1, gamma=0.001, kernel=sigmoid;, score=0.000 total time=   0.0s\n",
      "[CV 2/2] END C=0.1, gamma=0.001, kernel=sigmoid;, score=0.000 total time=   0.0s\n",
      "[CV 1/2] END C=0.1, gamma=0.0001, kernel=linear;, score=0.000 total time=   0.0s\n",
      "[CV 2/2] END C=0.1, gamma=0.0001, kernel=linear;, score=0.000 total time=   0.0s\n",
      "[CV 1/2] END ..C=0.1, gamma=0.0001, kernel=poly;, score=0.000 total time=   0.0s\n",
      "[CV 2/2] END ..C=0.1, gamma=0.0001, kernel=poly;, score=0.000 total time=   0.0s\n",
      "[CV 1/2] END ...C=0.1, gamma=0.0001, kernel=rbf;, score=0.000 total time=   0.0s\n",
      "[CV 2/2] END ...C=0.1, gamma=0.0001, kernel=rbf;, score=0.000 total time=   0.0s\n",
      "[CV 1/2] END C=0.1, gamma=0.0001, kernel=sigmoid;, score=0.000 total time=   0.0s\n",
      "[CV 2/2] END C=0.1, gamma=0.0001, kernel=sigmoid;, score=0.000 total time=   0.0s\n",
      "[CV 1/2] END .......C=1, gamma=1, kernel=linear;, score=0.000 total time=   0.0s\n",
      "[CV 2/2] END .......C=1, gamma=1, kernel=linear;, score=0.000 total time=   0.0s\n",
      "[CV 1/2] END .........C=1, gamma=1, kernel=poly;, score=0.000 total time=   0.0s\n",
      "[CV 2/2] END .........C=1, gamma=1, kernel=poly;, score=0.000 total time=   0.0s\n",
      "[CV 1/2] END ..........C=1, gamma=1, kernel=rbf;, score=0.000 total time=   0.0s\n",
      "[CV 2/2] END ..........C=1, gamma=1, kernel=rbf;, score=0.000 total time=   0.0s\n",
      "[CV 1/2] END ......C=1, gamma=1, kernel=sigmoid;, score=0.000 total time=   0.0s\n",
      "[CV 2/2] END ......C=1, gamma=1, kernel=sigmoid;, score=0.000 total time=   0.0s\n",
      "[CV 1/2] END .....C=1, gamma=0.1, kernel=linear;, score=0.000 total time=   0.0s\n",
      "[CV 2/2] END .....C=1, gamma=0.1, kernel=linear;, score=0.000 total time=   0.0s\n",
      "[CV 1/2] END .......C=1, gamma=0.1, kernel=poly;, score=0.000 total time=   0.0s\n",
      "[CV 2/2] END .......C=1, gamma=0.1, kernel=poly;, score=0.000 total time=   0.0s\n",
      "[CV 1/2] END ........C=1, gamma=0.1, kernel=rbf;, score=0.000 total time=   0.0s\n",
      "[CV 2/2] END ........C=1, gamma=0.1, kernel=rbf;, score=0.000 total time=   0.0s\n",
      "[CV 1/2] END ....C=1, gamma=0.1, kernel=sigmoid;, score=0.000 total time=   0.0s\n",
      "[CV 2/2] END ....C=1, gamma=0.1, kernel=sigmoid;, score=0.000 total time=   0.0s\n",
      "[CV 1/2] END ....C=1, gamma=0.01, kernel=linear;, score=0.000 total time=   0.0s\n",
      "[CV 2/2] END ....C=1, gamma=0.01, kernel=linear;, score=0.000 total time=   0.0s\n",
      "[CV 1/2] END ......C=1, gamma=0.01, kernel=poly;, score=0.000 total time=   0.0s\n",
      "[CV 2/2] END ......C=1, gamma=0.01, kernel=poly;, score=0.000 total time=   0.0s\n",
      "[CV 1/2] END .......C=1, gamma=0.01, kernel=rbf;, score=0.000 total time=   0.0s\n",
      "[CV 2/2] END .......C=1, gamma=0.01, kernel=rbf;, score=0.000 total time=   0.0s\n"
     ]
    },
    {
     "name": "stderr",
     "output_type": "stream",
     "text": [
      "/home/jpauli/miniconda3/envs/neuro_ai/lib/python3.7/site-packages/sklearn/model_selection/_split.py:680: UserWarning: The least populated class in y has only 1 members, which is less than n_splits=2.\n",
      "  UserWarning,\n"
     ]
    },
    {
     "name": "stdout",
     "output_type": "stream",
     "text": [
      "[CV 1/2] END ...C=1, gamma=0.01, kernel=sigmoid;, score=0.000 total time=   0.0s\n",
      "[CV 2/2] END ...C=1, gamma=0.01, kernel=sigmoid;, score=0.000 total time=   0.0s\n",
      "[CV 1/2] END ...C=1, gamma=0.001, kernel=linear;, score=0.000 total time=   0.0s\n",
      "[CV 2/2] END ...C=1, gamma=0.001, kernel=linear;, score=0.000 total time=   0.0s\n",
      "[CV 1/2] END .....C=1, gamma=0.001, kernel=poly;, score=0.000 total time=   0.0s\n",
      "[CV 2/2] END .....C=1, gamma=0.001, kernel=poly;, score=0.000 total time=   0.0s\n",
      "[CV 1/2] END ......C=1, gamma=0.001, kernel=rbf;, score=0.000 total time=   0.0s\n",
      "[CV 2/2] END ......C=1, gamma=0.001, kernel=rbf;, score=0.000 total time=   0.0s\n",
      "[CV 1/2] END ..C=1, gamma=0.001, kernel=sigmoid;, score=0.000 total time=   0.0s\n",
      "[CV 2/2] END ..C=1, gamma=0.001, kernel=sigmoid;, score=0.000 total time=   0.0s\n",
      "[CV 1/2] END ..C=1, gamma=0.0001, kernel=linear;, score=0.000 total time=   0.0s\n",
      "[CV 2/2] END ..C=1, gamma=0.0001, kernel=linear;, score=0.000 total time=   0.0s\n",
      "[CV 1/2] END ....C=1, gamma=0.0001, kernel=poly;, score=0.000 total time=   0.0s\n",
      "[CV 2/2] END ....C=1, gamma=0.0001, kernel=poly;, score=0.000 total time=   0.0s\n",
      "[CV 1/2] END .....C=1, gamma=0.0001, kernel=rbf;, score=0.000 total time=   0.0s\n",
      "[CV 2/2] END .....C=1, gamma=0.0001, kernel=rbf;, score=0.000 total time=   0.0s\n",
      "[CV 1/2] END .C=1, gamma=0.0001, kernel=sigmoid;, score=0.000 total time=   0.0s\n",
      "[CV 2/2] END .C=1, gamma=0.0001, kernel=sigmoid;, score=0.000 total time=   0.0s\n",
      "[CV 1/2] END ......C=10, gamma=1, kernel=linear;, score=0.000 total time=   0.0s\n",
      "[CV 2/2] END ......C=10, gamma=1, kernel=linear;, score=0.000 total time=   0.0s\n",
      "[CV 1/2] END ........C=10, gamma=1, kernel=poly;, score=0.000 total time=   0.0s\n",
      "[CV 2/2] END ........C=10, gamma=1, kernel=poly;, score=0.000 total time=   0.0s\n",
      "[CV 1/2] END .........C=10, gamma=1, kernel=rbf;, score=0.000 total time=   0.0s\n",
      "[CV 2/2] END .........C=10, gamma=1, kernel=rbf;, score=0.000 total time=   0.0s\n",
      "[CV 1/2] END .....C=10, gamma=1, kernel=sigmoid;, score=0.000 total time=   0.0s\n",
      "[CV 2/2] END .....C=10, gamma=1, kernel=sigmoid;, score=0.000 total time=   0.0s\n",
      "[CV 1/2] END ....C=10, gamma=0.1, kernel=linear;, score=0.000 total time=   0.0s\n",
      "[CV 2/2] END ....C=10, gamma=0.1, kernel=linear;, score=0.000 total time=   0.0s\n",
      "[CV 1/2] END ......C=10, gamma=0.1, kernel=poly;, score=0.000 total time=   0.0s\n",
      "[CV 2/2] END ......C=10, gamma=0.1, kernel=poly;, score=0.000 total time=   0.0s\n",
      "[CV 1/2] END .......C=10, gamma=0.1, kernel=rbf;, score=0.000 total time=   0.0s\n",
      "[CV 2/2] END .......C=10, gamma=0.1, kernel=rbf;, score=0.000 total time=   0.0s\n",
      "[CV 1/2] END ...C=10, gamma=0.1, kernel=sigmoid;, score=0.000 total time=   0.0s\n",
      "[CV 2/2] END ...C=10, gamma=0.1, kernel=sigmoid;, score=0.000 total time=   0.0s\n",
      "[CV 1/2] END ...C=10, gamma=0.01, kernel=linear;, score=0.000 total time=   0.0s\n",
      "[CV 2/2] END ...C=10, gamma=0.01, kernel=linear;, score=0.000 total time=   0.0s\n",
      "[CV 1/2] END .....C=10, gamma=0.01, kernel=poly;, score=0.000 total time=   0.0s\n",
      "[CV 2/2] END .....C=10, gamma=0.01, kernel=poly;, score=0.000 total time=   0.0s\n",
      "[CV 1/2] END ......C=10, gamma=0.01, kernel=rbf;, score=0.000 total time=   0.0s\n",
      "[CV 2/2] END ......C=10, gamma=0.01, kernel=rbf;, score=0.000 total time=   0.0s\n",
      "[CV 1/2] END ..C=10, gamma=0.01, kernel=sigmoid;, score=0.000 total time=   0.0s\n",
      "[CV 2/2] END ..C=10, gamma=0.01, kernel=sigmoid;, score=0.000 total time=   0.0s\n",
      "[CV 1/2] END ..C=10, gamma=0.001, kernel=linear;, score=0.000 total time=   0.0s\n",
      "[CV 2/2] END ..C=10, gamma=0.001, kernel=linear;, score=0.000 total time=   0.0s\n",
      "[CV 1/2] END ....C=10, gamma=0.001, kernel=poly;, score=0.000 total time=   0.0s\n",
      "[CV 2/2] END ....C=10, gamma=0.001, kernel=poly;, score=0.000 total time=   0.0s\n",
      "[CV 1/2] END .....C=10, gamma=0.001, kernel=rbf;, score=0.000 total time=   0.0s\n",
      "[CV 2/2] END .....C=10, gamma=0.001, kernel=rbf;, score=0.000 total time=   0.0s\n",
      "[CV 1/2] END .C=10, gamma=0.001, kernel=sigmoid;, score=0.000 total time=   0.0s\n",
      "[CV 2/2] END .C=10, gamma=0.001, kernel=sigmoid;, score=0.000 total time=   0.0s\n",
      "[CV 1/2] END .C=10, gamma=0.0001, kernel=linear;, score=0.000 total time=   0.0s\n",
      "[CV 2/2] END .C=10, gamma=0.0001, kernel=linear;, score=0.000 total time=   0.0s\n",
      "[CV 1/2] END ...C=10, gamma=0.0001, kernel=poly;, score=0.000 total time=   0.0s\n",
      "[CV 2/2] END ...C=10, gamma=0.0001, kernel=poly;, score=0.000 total time=   0.0s\n",
      "[CV 1/2] END ....C=10, gamma=0.0001, kernel=rbf;, score=0.000 total time=   0.0s\n",
      "[CV 2/2] END ....C=10, gamma=0.0001, kernel=rbf;, score=0.000 total time=   0.0s\n",
      "[CV 1/2] END C=10, gamma=0.0001, kernel=sigmoid;, score=0.000 total time=   0.0s\n",
      "[CV 2/2] END C=10, gamma=0.0001, kernel=sigmoid;, score=0.000 total time=   0.0s\n",
      "[CV 1/2] END .....C=100, gamma=1, kernel=linear;, score=0.000 total time=   0.0s\n",
      "[CV 2/2] END .....C=100, gamma=1, kernel=linear;, score=0.000 total time=   0.0s\n",
      "[CV 1/2] END .......C=100, gamma=1, kernel=poly;, score=0.000 total time=   0.0s\n",
      "[CV 2/2] END .......C=100, gamma=1, kernel=poly;, score=0.000 total time=   0.0s\n",
      "[CV 1/2] END ........C=100, gamma=1, kernel=rbf;, score=0.000 total time=   0.0s\n",
      "[CV 2/2] END ........C=100, gamma=1, kernel=rbf;, score=0.000 total time=   0.0s\n",
      "[CV 1/2] END ....C=100, gamma=1, kernel=sigmoid;, score=0.000 total time=   0.0s\n",
      "[CV 2/2] END ....C=100, gamma=1, kernel=sigmoid;, score=0.000 total time=   0.0s\n",
      "[CV 1/2] END ...C=100, gamma=0.1, kernel=linear;, score=0.000 total time=   0.0s\n",
      "[CV 2/2] END ...C=100, gamma=0.1, kernel=linear;, score=0.000 total time=   0.0s\n",
      "[CV 1/2] END .....C=100, gamma=0.1, kernel=poly;, score=0.000 total time=   0.0s\n",
      "[CV 2/2] END .....C=100, gamma=0.1, kernel=poly;, score=0.000 total time=   0.0s\n",
      "[CV 1/2] END ......C=100, gamma=0.1, kernel=rbf;, score=0.000 total time=   0.0s\n",
      "[CV 2/2] END ......C=100, gamma=0.1, kernel=rbf;, score=0.000 total time=   0.0s\n",
      "[CV 1/2] END ..C=100, gamma=0.1, kernel=sigmoid;, score=0.000 total time=   0.0s\n",
      "[CV 2/2] END ..C=100, gamma=0.1, kernel=sigmoid;, score=0.000 total time=   0.0s\n",
      "[CV 1/2] END ..C=100, gamma=0.01, kernel=linear;, score=0.000 total time=   0.0s\n",
      "[CV 2/2] END ..C=100, gamma=0.01, kernel=linear;, score=0.000 total time=   0.0s\n",
      "[CV 1/2] END ....C=100, gamma=0.01, kernel=poly;, score=0.000 total time=   0.0s\n",
      "[CV 2/2] END ....C=100, gamma=0.01, kernel=poly;, score=0.000 total time=   0.0s\n",
      "[CV 1/2] END .....C=100, gamma=0.01, kernel=rbf;, score=0.000 total time=   0.0s\n",
      "[CV 2/2] END .....C=100, gamma=0.01, kernel=rbf;, score=0.000 total time=   0.0s\n",
      "[CV 1/2] END .C=100, gamma=0.01, kernel=sigmoid;, score=0.000 total time=   0.0s\n",
      "[CV 2/2] END .C=100, gamma=0.01, kernel=sigmoid;, score=0.000 total time=   0.0s\n",
      "[CV 1/2] END .C=100, gamma=0.001, kernel=linear;, score=0.000 total time=   0.0s\n",
      "[CV 2/2] END .C=100, gamma=0.001, kernel=linear;, score=0.000 total time=   0.0s\n",
      "[CV 1/2] END ...C=100, gamma=0.001, kernel=poly;, score=0.000 total time=   0.0s\n",
      "[CV 2/2] END ...C=100, gamma=0.001, kernel=poly;, score=0.000 total time=   0.0s\n",
      "[CV 1/2] END ....C=100, gamma=0.001, kernel=rbf;, score=0.000 total time=   0.0s\n",
      "[CV 2/2] END ....C=100, gamma=0.001, kernel=rbf;, score=0.000 total time=   0.0s\n",
      "[CV 1/2] END C=100, gamma=0.001, kernel=sigmoid;, score=0.000 total time=   0.0s\n",
      "[CV 2/2] END C=100, gamma=0.001, kernel=sigmoid;, score=0.000 total time=   0.0s\n",
      "[CV 1/2] END C=100, gamma=0.0001, kernel=linear;, score=0.000 total time=   0.0s\n",
      "[CV 2/2] END C=100, gamma=0.0001, kernel=linear;, score=0.000 total time=   0.0s\n",
      "[CV 1/2] END ..C=100, gamma=0.0001, kernel=poly;, score=0.000 total time=   0.0s\n",
      "[CV 2/2] END ..C=100, gamma=0.0001, kernel=poly;, score=0.000 total time=   0.0s\n",
      "[CV 1/2] END ...C=100, gamma=0.0001, kernel=rbf;, score=0.000 total time=   0.0s\n",
      "[CV 2/2] END ...C=100, gamma=0.0001, kernel=rbf;, score=0.000 total time=   0.0s\n",
      "[CV 1/2] END C=100, gamma=0.0001, kernel=sigmoid;, score=0.000 total time=   0.0s\n",
      "[CV 2/2] END C=100, gamma=0.0001, kernel=sigmoid;, score=0.000 total time=   0.0s\n",
      "[CV 1/2] END ....C=1000, gamma=1, kernel=linear;, score=0.000 total time=   0.0s\n",
      "[CV 2/2] END ....C=1000, gamma=1, kernel=linear;, score=0.000 total time=   0.0s\n",
      "[CV 1/2] END ......C=1000, gamma=1, kernel=poly;, score=0.000 total time=   0.0s\n",
      "[CV 2/2] END ......C=1000, gamma=1, kernel=poly;, score=0.000 total time=   0.0s\n",
      "[CV 1/2] END .......C=1000, gamma=1, kernel=rbf;, score=0.000 total time=   0.0s\n",
      "[CV 2/2] END .......C=1000, gamma=1, kernel=rbf;, score=0.000 total time=   0.0s\n",
      "[CV 1/2] END ...C=1000, gamma=1, kernel=sigmoid;, score=0.000 total time=   0.0s\n",
      "[CV 2/2] END ...C=1000, gamma=1, kernel=sigmoid;, score=0.000 total time=   0.0s\n",
      "[CV 1/2] END ..C=1000, gamma=0.1, kernel=linear;, score=0.000 total time=   0.0s\n"
     ]
    },
    {
     "name": "stdout",
     "output_type": "stream",
     "text": [
      "[CV 2/2] END ..C=1000, gamma=0.1, kernel=linear;, score=0.000 total time=   0.0s\n",
      "[CV 1/2] END ....C=1000, gamma=0.1, kernel=poly;, score=0.000 total time=   0.0s\n",
      "[CV 2/2] END ....C=1000, gamma=0.1, kernel=poly;, score=0.000 total time=   0.0s\n",
      "[CV 1/2] END .....C=1000, gamma=0.1, kernel=rbf;, score=0.000 total time=   0.0s\n",
      "[CV 2/2] END .....C=1000, gamma=0.1, kernel=rbf;, score=0.000 total time=   0.0s\n",
      "[CV 1/2] END .C=1000, gamma=0.1, kernel=sigmoid;, score=0.000 total time=   0.0s\n",
      "[CV 2/2] END .C=1000, gamma=0.1, kernel=sigmoid;, score=0.000 total time=   0.0s\n",
      "[CV 1/2] END .C=1000, gamma=0.01, kernel=linear;, score=0.000 total time=   0.0s\n",
      "[CV 2/2] END .C=1000, gamma=0.01, kernel=linear;, score=0.000 total time=   0.0s\n",
      "[CV 1/2] END ...C=1000, gamma=0.01, kernel=poly;, score=0.000 total time=   0.0s\n",
      "[CV 2/2] END ...C=1000, gamma=0.01, kernel=poly;, score=0.000 total time=   0.0s\n",
      "[CV 1/2] END ....C=1000, gamma=0.01, kernel=rbf;, score=0.000 total time=   0.0s\n",
      "[CV 2/2] END ....C=1000, gamma=0.01, kernel=rbf;, score=0.000 total time=   0.0s\n",
      "[CV 1/2] END C=1000, gamma=0.01, kernel=sigmoid;, score=0.000 total time=   0.0s\n",
      "[CV 2/2] END C=1000, gamma=0.01, kernel=sigmoid;, score=0.000 total time=   0.0s\n",
      "[CV 1/2] END C=1000, gamma=0.001, kernel=linear;, score=0.000 total time=   0.0s\n",
      "[CV 2/2] END C=1000, gamma=0.001, kernel=linear;, score=0.000 total time=   0.0s\n",
      "[CV 1/2] END ..C=1000, gamma=0.001, kernel=poly;, score=0.000 total time=   0.0s\n",
      "[CV 2/2] END ..C=1000, gamma=0.001, kernel=poly;, score=0.000 total time=   0.0s\n",
      "[CV 1/2] END ...C=1000, gamma=0.001, kernel=rbf;, score=0.000 total time=   0.0s\n",
      "[CV 2/2] END ...C=1000, gamma=0.001, kernel=rbf;, score=0.000 total time=   0.0s\n",
      "[CV 1/2] END C=1000, gamma=0.001, kernel=sigmoid;, score=0.000 total time=   0.0s\n",
      "[CV 2/2] END C=1000, gamma=0.001, kernel=sigmoid;, score=0.000 total time=   0.0s\n",
      "[CV 1/2] END C=1000, gamma=0.0001, kernel=linear;, score=0.000 total time=   0.0s\n",
      "[CV 2/2] END C=1000, gamma=0.0001, kernel=linear;, score=0.000 total time=   0.0s\n",
      "[CV 1/2] END .C=1000, gamma=0.0001, kernel=poly;, score=0.000 total time=   0.0s\n",
      "[CV 2/2] END .C=1000, gamma=0.0001, kernel=poly;, score=0.000 total time=   0.0s\n",
      "[CV 1/2] END ..C=1000, gamma=0.0001, kernel=rbf;, score=0.000 total time=   0.0s\n",
      "[CV 2/2] END ..C=1000, gamma=0.0001, kernel=rbf;, score=0.000 total time=   0.0s\n",
      "[CV 1/2] END C=1000, gamma=0.0001, kernel=sigmoid;, score=0.000 total time=   0.0s\n",
      "[CV 2/2] END C=1000, gamma=0.0001, kernel=sigmoid;, score=0.000 total time=   0.0s\n"
     ]
    },
    {
     "data": {
      "text/plain": [
       "GridSearchCV(cv=2, estimator=SVC(),\n",
       "             param_grid={'C': [0.1, 1, 10, 100, 1000],\n",
       "                         'gamma': [1, 0.1, 0.01, 0.001, 0.0001],\n",
       "                         'kernel': ['linear', 'poly', 'rbf', 'sigmoid']},\n",
       "             verbose=3)"
      ]
     },
     "execution_count": 91,
     "metadata": {},
     "output_type": "execute_result"
    }
   ],
   "source": [
    "from sklearn.model_selection import GridSearchCV\n",
    "  \n",
    "# defining parameter range\n",
    "param_grid = {'C': [0.1, 1, 10, 100, 1000], \n",
    "              'gamma': [1, 0.1, 0.01, 0.001, 0.0001],\n",
    "              'kernel': ['linear','poly','rbf','sigmoid']} \n",
    "  \n",
    "grid = GridSearchCV(svm.SVC(), param_grid,cv = 2,refit = True, verbose = 3)\n",
    "# fitting the model for grid search\n",
    "grid.fit(X_train_s, y_train)"
   ]
  },
  {
   "cell_type": "code",
   "execution_count": 51,
   "id": "2c2ffbad",
   "metadata": {},
   "outputs": [
    {
     "name": "stdout",
     "output_type": "stream",
     "text": [
      "{'C': 1000, 'gamma': 0.01, 'kernel': 'sigmoid'}\n",
      "SVC(C=1000, gamma=0.01, kernel='sigmoid')\n"
     ]
    }
   ],
   "source": [
    "#print best parameter after tuning\n",
    "print(grid.best_params_)\n",
    "  \n",
    "# print how our model looks after hyper-parameter tuning\n",
    "print(grid.best_estimator_)"
   ]
  },
  {
   "cell_type": "code",
   "execution_count": 92,
   "id": "71be0246",
   "metadata": {},
   "outputs": [
    {
     "name": "stdout",
     "output_type": "stream",
     "text": [
      "              precision    recall  f1-score   support\n",
      "\n",
      "           1       0.00      0.00      0.00       1.0\n",
      "           2       0.00      0.00      0.00       0.0\n",
      "           3       0.00      0.00      0.00       1.0\n",
      "           4       0.00      0.00      0.00       0.0\n",
      "           5       0.00      0.00      0.00       2.0\n",
      "           8       0.00      0.00      0.00       1.0\n",
      "           9       0.00      0.00      0.00       1.0\n",
      "          10       0.00      0.00      0.00       1.0\n",
      "          11       0.00      0.00      0.00       1.0\n",
      "          13       0.00      0.00      0.00       1.0\n",
      "          15       0.00      0.00      0.00       1.0\n",
      "          19       0.00      0.00      0.00       2.0\n",
      "          21       0.00      0.00      0.00       1.0\n",
      "          22       0.00      0.00      0.00       0.0\n",
      "          23       0.00      0.00      0.00       1.0\n",
      "          24       0.00      0.00      0.00       1.0\n",
      "          26       0.00      0.00      0.00       1.0\n",
      "\n",
      "    accuracy                           0.00      16.0\n",
      "   macro avg       0.00      0.00      0.00      16.0\n",
      "weighted avg       0.00      0.00      0.00      16.0\n",
      "\n"
     ]
    },
    {
     "name": "stderr",
     "output_type": "stream",
     "text": [
      "/home/jpauli/miniconda3/envs/neuro_ai/lib/python3.7/site-packages/sklearn/metrics/_classification.py:1318: UndefinedMetricWarning: Precision and F-score are ill-defined and being set to 0.0 in labels with no predicted samples. Use `zero_division` parameter to control this behavior.\n",
      "  _warn_prf(average, modifier, msg_start, len(result))\n",
      "/home/jpauli/miniconda3/envs/neuro_ai/lib/python3.7/site-packages/sklearn/metrics/_classification.py:1318: UndefinedMetricWarning: Recall and F-score are ill-defined and being set to 0.0 in labels with no true samples. Use `zero_division` parameter to control this behavior.\n",
      "  _warn_prf(average, modifier, msg_start, len(result))\n",
      "/home/jpauli/miniconda3/envs/neuro_ai/lib/python3.7/site-packages/sklearn/metrics/_classification.py:1318: UndefinedMetricWarning: Precision and F-score are ill-defined and being set to 0.0 in labels with no predicted samples. Use `zero_division` parameter to control this behavior.\n",
      "  _warn_prf(average, modifier, msg_start, len(result))\n",
      "/home/jpauli/miniconda3/envs/neuro_ai/lib/python3.7/site-packages/sklearn/metrics/_classification.py:1318: UndefinedMetricWarning: Recall and F-score are ill-defined and being set to 0.0 in labels with no true samples. Use `zero_division` parameter to control this behavior.\n",
      "  _warn_prf(average, modifier, msg_start, len(result))\n",
      "/home/jpauli/miniconda3/envs/neuro_ai/lib/python3.7/site-packages/sklearn/metrics/_classification.py:1318: UndefinedMetricWarning: Precision and F-score are ill-defined and being set to 0.0 in labels with no predicted samples. Use `zero_division` parameter to control this behavior.\n",
      "  _warn_prf(average, modifier, msg_start, len(result))\n",
      "/home/jpauli/miniconda3/envs/neuro_ai/lib/python3.7/site-packages/sklearn/metrics/_classification.py:1318: UndefinedMetricWarning: Recall and F-score are ill-defined and being set to 0.0 in labels with no true samples. Use `zero_division` parameter to control this behavior.\n",
      "  _warn_prf(average, modifier, msg_start, len(result))\n"
     ]
    }
   ],
   "source": [
    "grid_predictions = grid.predict(X_test)\n",
    "  \n",
    "# print classification report\n",
    "print(classification_report(y_test, grid_predictions))"
   ]
  },
  {
   "cell_type": "code",
   "execution_count": 93,
   "id": "c0413d1f",
   "metadata": {},
   "outputs": [
    {
     "data": {
      "text/plain": [
       "array([ 6,  7, 10,  6, 10, 14, 16,  2, 15, 17, 17, 22, 25,  8,  3, 23, 20,\n",
       "       18, 20, 14, 26,  4, 14,  5,  4, 18, 13,  9, 11,  7, 11, 24, 13, 21,\n",
       "       25, 16,  2, 16,  1, 23, 25, 18, 19,  6, 12,  7, 22,  8, 12, 17, 12,\n",
       "        4,  2,  1, 22,  3, 24, 21,  9, 20, 15, 26])"
      ]
     },
     "execution_count": 93,
     "metadata": {},
     "output_type": "execute_result"
    }
   ],
   "source": [
    "y_train"
   ]
  },
  {
   "cell_type": "code",
   "execution_count": 94,
   "id": "cc74fdd3",
   "metadata": {},
   "outputs": [
    {
     "data": {
      "text/plain": [
       "array([ 6,  7, 10,  6, 10, 14, 16,  2, 15, 17, 17, 22, 25,  8,  3, 23, 20,\n",
       "       18, 20, 14, 26,  4, 14,  5,  4, 18, 13,  9, 11,  7, 11, 24, 13, 21,\n",
       "       25, 16,  2, 16,  1, 23, 25, 18, 19,  6, 12,  7, 22,  8, 12, 17, 12,\n",
       "        4,  2,  1, 22,  3, 24, 21,  9, 20, 15, 26])"
      ]
     },
     "execution_count": 94,
     "metadata": {},
     "output_type": "execute_result"
    }
   ],
   "source": [
    "grid.predict(X_train_s)"
   ]
  },
  {
   "cell_type": "code",
   "execution_count": 95,
   "id": "c244c22b",
   "metadata": {},
   "outputs": [
    {
     "data": {
      "text/plain": [
       "1.0"
      ]
     },
     "execution_count": 95,
     "metadata": {},
     "output_type": "execute_result"
    }
   ],
   "source": [
    "grid.score(X_train_s,y_train)"
   ]
  },
  {
   "cell_type": "code",
   "execution_count": 96,
   "id": "090f732b",
   "metadata": {},
   "outputs": [
    {
     "data": {
      "text/plain": [
       "0.0"
      ]
     },
     "execution_count": 96,
     "metadata": {},
     "output_type": "execute_result"
    }
   ],
   "source": [
    "grid.score(X_test,y_test)"
   ]
  },
  {
   "cell_type": "code",
   "execution_count": 21,
   "id": "b8b7145b",
   "metadata": {},
   "outputs": [
    {
     "data": {
      "text/plain": [
       "array([ 1,  2,  3,  4,  5,  6,  7,  8,  9, 10, 11, 12, 13, 14, 15, 16, 17,\n",
       "       18, 19, 20, 21, 22, 23, 24, 25, 26])"
      ]
     },
     "execution_count": 21,
     "metadata": {},
     "output_type": "execute_result"
    }
   ],
   "source": [
    "Y_unique = np.unique(Y)\n",
    "Y_unique"
   ]
  },
  {
   "cell_type": "code",
   "execution_count": 97,
   "id": "de48ff33",
   "metadata": {},
   "outputs": [],
   "source": [
    "np.random.shuffle(Y)\n",
    "y_train = []\n",
    "y_test = []\n",
    "\n",
    "\n",
    "for category in Y:\n",
    "        if len(y_test) == len(Y_unique):\n",
    "            y_train.append(category)\n",
    "        else:\n",
    "            y_test.append(category)\n",
    "            if y_test.count(category) > 1:\n",
    "                y_test.remove(category)\n",
    "                y_train.append(category)\n",
    "                continue\n",
    "            \n",
    "                "
   ]
  },
  {
   "cell_type": "code",
   "execution_count": 98,
   "id": "85585b98",
   "metadata": {},
   "outputs": [],
   "source": [
    "y_test = np.array(y_test)\n",
    "y_train = np.array(y_train)"
   ]
  },
  {
   "cell_type": "code",
   "execution_count": 99,
   "id": "0ea2d8a0",
   "metadata": {},
   "outputs": [],
   "source": [
    "X_train, X_test = train_test_split(X_, test_size=0.33, random_state=42)"
   ]
  },
  {
   "cell_type": "code",
   "execution_count": 100,
   "id": "2f245d33",
   "metadata": {},
   "outputs": [],
   "source": [
    "X_train_s_new = scaler.fit_transform(X_train)"
   ]
  },
  {
   "cell_type": "code",
   "execution_count": 101,
   "id": "462502a0",
   "metadata": {},
   "outputs": [
    {
     "data": {
      "text/plain": [
       "(52, 888)"
      ]
     },
     "execution_count": 101,
     "metadata": {},
     "output_type": "execute_result"
    }
   ],
   "source": [
    "X_train.shape"
   ]
  },
  {
   "cell_type": "code",
   "execution_count": 102,
   "id": "abc4fd57",
   "metadata": {},
   "outputs": [
    {
     "name": "stdout",
     "output_type": "stream",
     "text": [
      "Fitting 2 folds for each of 100 candidates, totalling 200 fits\n",
      "[CV 1/2] END .....C=0.1, gamma=1, kernel=linear;, score=0.038 total time=   0.0s\n",
      "[CV 2/2] END .....C=0.1, gamma=1, kernel=linear;, score=0.115 total time=   0.0s\n",
      "[CV 1/2] END .......C=0.1, gamma=1, kernel=poly;, score=0.077 total time=   0.0s\n",
      "[CV 2/2] END .......C=0.1, gamma=1, kernel=poly;, score=0.038 total time=   0.0s\n",
      "[CV 1/2] END ........C=0.1, gamma=1, kernel=rbf;, score=0.038 total time=   0.0s\n",
      "[CV 2/2] END ........C=0.1, gamma=1, kernel=rbf;, score=0.115 total time=   0.0s\n",
      "[CV 1/2] END ....C=0.1, gamma=1, kernel=sigmoid;, score=0.000 total time=   0.0s\n",
      "[CV 2/2] END ....C=0.1, gamma=1, kernel=sigmoid;, score=0.000 total time=   0.0s\n",
      "[CV 1/2] END ...C=0.1, gamma=0.1, kernel=linear;, score=0.038 total time=   0.0s\n",
      "[CV 2/2] END ...C=0.1, gamma=0.1, kernel=linear;, score=0.115 total time=   0.0s\n",
      "[CV 1/2] END .....C=0.1, gamma=0.1, kernel=poly;, score=0.077 total time=   0.0s\n",
      "[CV 2/2] END .....C=0.1, gamma=0.1, kernel=poly;, score=0.038 total time=   0.0s\n",
      "[CV 1/2] END ......C=0.1, gamma=0.1, kernel=rbf;, score=0.038 total time=   0.0s\n",
      "[CV 2/2] END ......C=0.1, gamma=0.1, kernel=rbf;, score=0.115 total time=   0.0s\n",
      "[CV 1/2] END ..C=0.1, gamma=0.1, kernel=sigmoid;, score=0.000 total time=   0.0s\n",
      "[CV 2/2] END ..C=0.1, gamma=0.1, kernel=sigmoid;, score=0.000 total time=   0.0s\n",
      "[CV 1/2] END ..C=0.1, gamma=0.01, kernel=linear;, score=0.038 total time=   0.0s\n",
      "[CV 2/2] END ..C=0.1, gamma=0.01, kernel=linear;, score=0.115 total time=   0.0s\n",
      "[CV 1/2] END ....C=0.1, gamma=0.01, kernel=poly;, score=0.077 total time=   0.0s\n",
      "[CV 2/2] END ....C=0.1, gamma=0.01, kernel=poly;, score=0.038 total time=   0.0s\n",
      "[CV 1/2] END .....C=0.1, gamma=0.01, kernel=rbf;, score=0.038 total time=   0.0s\n",
      "[CV 2/2] END .....C=0.1, gamma=0.01, kernel=rbf;, score=0.115 total time=   0.0s\n",
      "[CV 1/2] END .C=0.1, gamma=0.01, kernel=sigmoid;, score=0.115 total time=   0.0s\n",
      "[CV 2/2] END .C=0.1, gamma=0.01, kernel=sigmoid;, score=0.038 total time=   0.0s\n",
      "[CV 1/2] END .C=0.1, gamma=0.001, kernel=linear;, score=0.038 total time=   0.0s\n",
      "[CV 2/2] END .C=0.1, gamma=0.001, kernel=linear;, score=0.115 total time=   0.0s\n",
      "[CV 1/2] END ...C=0.1, gamma=0.001, kernel=poly;, score=0.077 total time=   0.0s\n",
      "[CV 2/2] END ...C=0.1, gamma=0.001, kernel=poly;, score=0.038 total time=   0.0s\n",
      "[CV 1/2] END ....C=0.1, gamma=0.001, kernel=rbf;, score=0.038 total time=   0.0s\n",
      "[CV 2/2] END ....C=0.1, gamma=0.001, kernel=rbf;, score=0.115 total time=   0.0s\n",
      "[CV 1/2] END C=0.1, gamma=0.001, kernel=sigmoid;, score=0.115 total time=   0.0s\n",
      "[CV 2/2] END C=0.1, gamma=0.001, kernel=sigmoid;, score=0.038 total time=   0.0s\n",
      "[CV 1/2] END C=0.1, gamma=0.0001, kernel=linear;, score=0.038 total time=   0.0s\n",
      "[CV 2/2] END C=0.1, gamma=0.0001, kernel=linear;, score=0.115 total time=   0.0s\n",
      "[CV 1/2] END ..C=0.1, gamma=0.0001, kernel=poly;, score=0.077 total time=   0.0s\n",
      "[CV 2/2] END ..C=0.1, gamma=0.0001, kernel=poly;, score=0.038 total time=   0.0s\n",
      "[CV 1/2] END ...C=0.1, gamma=0.0001, kernel=rbf;, score=0.038 total time=   0.0s\n",
      "[CV 2/2] END ...C=0.1, gamma=0.0001, kernel=rbf;, score=0.115 total time=   0.0s\n",
      "[CV 1/2] END C=0.1, gamma=0.0001, kernel=sigmoid;, score=0.038 total time=   0.0s\n",
      "[CV 2/2] END C=0.1, gamma=0.0001, kernel=sigmoid;, score=0.115 total time=   0.0s\n",
      "[CV 1/2] END .......C=1, gamma=1, kernel=linear;, score=0.038 total time=   0.0s\n",
      "[CV 2/2] END .......C=1, gamma=1, kernel=linear;, score=0.115 total time=   0.0s\n",
      "[CV 1/2] END .........C=1, gamma=1, kernel=poly;, score=0.077 total time=   0.0s\n",
      "[CV 2/2] END .........C=1, gamma=1, kernel=poly;, score=0.038 total time=   0.0s\n",
      "[CV 1/2] END ..........C=1, gamma=1, kernel=rbf;, score=0.038 total time=   0.0s\n",
      "[CV 2/2] END ..........C=1, gamma=1, kernel=rbf;, score=0.115 total time=   0.0s\n",
      "[CV 1/2] END ......C=1, gamma=1, kernel=sigmoid;, score=0.000 total time=   0.0s\n",
      "[CV 2/2] END ......C=1, gamma=1, kernel=sigmoid;, score=0.000 total time=   0.0s\n",
      "[CV 1/2] END .....C=1, gamma=0.1, kernel=linear;, score=0.038 total time=   0.0s\n",
      "[CV 2/2] END .....C=1, gamma=0.1, kernel=linear;, score=0.115 total time=   0.0s\n",
      "[CV 1/2] END .......C=1, gamma=0.1, kernel=poly;, score=0.077 total time=   0.0s\n",
      "[CV 2/2] END .......C=1, gamma=0.1, kernel=poly;, score=0.038 total time=   0.0s\n",
      "[CV 1/2] END ........C=1, gamma=0.1, kernel=rbf;, score=0.038 total time=   0.0s\n",
      "[CV 2/2] END ........C=1, gamma=0.1, kernel=rbf;, score=0.115 total time=   0.0s\n",
      "[CV 1/2] END ....C=1, gamma=0.1, kernel=sigmoid;, score=0.000 total time=   0.0s\n",
      "[CV 2/2] END ....C=1, gamma=0.1, kernel=sigmoid;, score=0.000 total time=   0.0s\n",
      "[CV 1/2] END ....C=1, gamma=0.01, kernel=linear;, score=0.038 total time=   0.0s\n",
      "[CV 2/2] END ....C=1, gamma=0.01, kernel=linear;, score=0.115 total time=   0.0s\n",
      "[CV 1/2] END ......C=1, gamma=0.01, kernel=poly;, score=0.077 total time=   0.0s\n",
      "[CV 2/2] END ......C=1, gamma=0.01, kernel=poly;, score=0.038 total time=   0.0s\n",
      "[CV 1/2] END .......C=1, gamma=0.01, kernel=rbf;, score=0.038 total time=   0.0s\n",
      "[CV 2/2] END .......C=1, gamma=0.01, kernel=rbf;, score=0.115 total time=   0.0s\n",
      "[CV 1/2] END ...C=1, gamma=0.01, kernel=sigmoid;, score=0.115 total time=   0.0s\n",
      "[CV 2/2] END ...C=1, gamma=0.01, kernel=sigmoid;, score=0.038 total time=   0.0s\n",
      "[CV 1/2] END ...C=1, gamma=0.001, kernel=linear;, score=0.038 total time=   0.0s\n",
      "[CV 2/2] END ...C=1, gamma=0.001, kernel=linear;, score=0.115 total time=   0.0s\n",
      "[CV 1/2] END .....C=1, gamma=0.001, kernel=poly;, score=0.077 total time=   0.0s\n",
      "[CV 2/2] END .....C=1, gamma=0.001, kernel=poly;, score=0.038 total time=   0.0s\n",
      "[CV 1/2] END ......C=1, gamma=0.001, kernel=rbf;, score=0.038 total time=   0.0s\n",
      "[CV 2/2] END ......C=1, gamma=0.001, kernel=rbf;, score=0.115 total time=   0.0s\n",
      "[CV 1/2] END ..C=1, gamma=0.001, kernel=sigmoid;, score=0.115 total time=   0.0s\n",
      "[CV 2/2] END ..C=1, gamma=0.001, kernel=sigmoid;, score=0.038 total time=   0.0s\n",
      "[CV 1/2] END ..C=1, gamma=0.0001, kernel=linear;, score=0.038 total time=   0.0s\n",
      "[CV 2/2] END ..C=1, gamma=0.0001, kernel=linear;, score=0.115 total time=   0.0s\n",
      "[CV 1/2] END ....C=1, gamma=0.0001, kernel=poly;, score=0.077 total time=   0.0s\n",
      "[CV 2/2] END ....C=1, gamma=0.0001, kernel=poly;, score=0.038 total time=   0.0s\n",
      "[CV 1/2] END .....C=1, gamma=0.0001, kernel=rbf;, score=0.038 total time=   0.0s\n",
      "[CV 2/2] END .....C=1, gamma=0.0001, kernel=rbf;, score=0.115 total time=   0.0s\n",
      "[CV 1/2] END .C=1, gamma=0.0001, kernel=sigmoid;, score=0.038 total time=   0.0s\n",
      "[CV 2/2] END .C=1, gamma=0.0001, kernel=sigmoid;, score=0.115 total time=   0.0s\n",
      "[CV 1/2] END ......C=10, gamma=1, kernel=linear;, score=0.038 total time=   0.0s\n",
      "[CV 2/2] END ......C=10, gamma=1, kernel=linear;, score=0.115 total time=   0.0s\n",
      "[CV 1/2] END ........C=10, gamma=1, kernel=poly;, score=0.077 total time=   0.0s\n",
      "[CV 2/2] END ........C=10, gamma=1, kernel=poly;, score=0.038 total time=   0.0s\n",
      "[CV 1/2] END .........C=10, gamma=1, kernel=rbf;, score=0.038 total time=   0.0s\n",
      "[CV 2/2] END .........C=10, gamma=1, kernel=rbf;, score=0.115 total time=   0.0s\n",
      "[CV 1/2] END .....C=10, gamma=1, kernel=sigmoid;, score=0.000 total time=   0.0s\n",
      "[CV 2/2] END .....C=10, gamma=1, kernel=sigmoid;, score=0.000 total time=   0.0s\n",
      "[CV 1/2] END ....C=10, gamma=0.1, kernel=linear;, score=0.038 total time=   0.0s\n",
      "[CV 2/2] END ....C=10, gamma=0.1, kernel=linear;, score=0.115 total time=   0.0s\n",
      "[CV 1/2] END ......C=10, gamma=0.1, kernel=poly;, score=0.077 total time=   0.0s\n",
      "[CV 2/2] END ......C=10, gamma=0.1, kernel=poly;, score=0.038 total time=   0.0s\n",
      "[CV 1/2] END .......C=10, gamma=0.1, kernel=rbf;, score=0.038 total time=   0.0s\n",
      "[CV 2/2] END .......C=10, gamma=0.1, kernel=rbf;, score=0.115 total time=   0.0s\n",
      "[CV 1/2] END ...C=10, gamma=0.1, kernel=sigmoid;, score=0.000 total time=   0.0s\n",
      "[CV 2/2] END ...C=10, gamma=0.1, kernel=sigmoid;, score=0.000 total time=   0.0s\n",
      "[CV 1/2] END ...C=10, gamma=0.01, kernel=linear;, score=0.038 total time=   0.0s\n",
      "[CV 2/2] END ...C=10, gamma=0.01, kernel=linear;, score=0.115 total time=   0.0s\n",
      "[CV 1/2] END .....C=10, gamma=0.01, kernel=poly;, score=0.077 total time=   0.0s\n",
      "[CV 2/2] END .....C=10, gamma=0.01, kernel=poly;, score=0.038 total time=   0.0s\n",
      "[CV 1/2] END ......C=10, gamma=0.01, kernel=rbf;, score=0.038 total time=   0.0s\n",
      "[CV 2/2] END ......C=10, gamma=0.01, kernel=rbf;, score=0.115 total time=   0.0s\n",
      "[CV 1/2] END ..C=10, gamma=0.01, kernel=sigmoid;, score=0.115 total time=   0.0s\n",
      "[CV 2/2] END ..C=10, gamma=0.01, kernel=sigmoid;, score=0.038 total time=   0.0s\n",
      "[CV 1/2] END ..C=10, gamma=0.001, kernel=linear;, score=0.038 total time=   0.0s\n",
      "[CV 2/2] END ..C=10, gamma=0.001, kernel=linear;, score=0.115 total time=   0.0s\n",
      "[CV 1/2] END ....C=10, gamma=0.001, kernel=poly;, score=0.077 total time=   0.0s\n",
      "[CV 2/2] END ....C=10, gamma=0.001, kernel=poly;, score=0.038 total time=   0.0s\n",
      "[CV 1/2] END .....C=10, gamma=0.001, kernel=rbf;, score=0.038 total time=   0.0s\n",
      "[CV 2/2] END .....C=10, gamma=0.001, kernel=rbf;, score=0.115 total time=   0.0s\n",
      "[CV 1/2] END .C=10, gamma=0.001, kernel=sigmoid;, score=0.115 total time=   0.0s\n",
      "[CV 2/2] END .C=10, gamma=0.001, kernel=sigmoid;, score=0.038 total time=   0.0s\n",
      "[CV 1/2] END .C=10, gamma=0.0001, kernel=linear;, score=0.038 total time=   0.0s\n",
      "[CV 2/2] END .C=10, gamma=0.0001, kernel=linear;, score=0.115 total time=   0.0s\n",
      "[CV 1/2] END ...C=10, gamma=0.0001, kernel=poly;, score=0.077 total time=   0.0s\n",
      "[CV 2/2] END ...C=10, gamma=0.0001, kernel=poly;, score=0.038 total time=   0.0s\n",
      "[CV 1/2] END ....C=10, gamma=0.0001, kernel=rbf;, score=0.038 total time=   0.0s\n",
      "[CV 2/2] END ....C=10, gamma=0.0001, kernel=rbf;, score=0.115 total time=   0.0s\n",
      "[CV 1/2] END C=10, gamma=0.0001, kernel=sigmoid;, score=0.038 total time=   0.0s\n",
      "[CV 2/2] END C=10, gamma=0.0001, kernel=sigmoid;, score=0.115 total time=   0.0s\n",
      "[CV 1/2] END .....C=100, gamma=1, kernel=linear;, score=0.038 total time=   0.0s\n",
      "[CV 2/2] END .....C=100, gamma=1, kernel=linear;, score=0.115 total time=   0.0s\n",
      "[CV 1/2] END .......C=100, gamma=1, kernel=poly;, score=0.077 total time=   0.0s\n",
      "[CV 2/2] END .......C=100, gamma=1, kernel=poly;, score=0.038 total time=   0.0s\n",
      "[CV 1/2] END ........C=100, gamma=1, kernel=rbf;, score=0.038 total time=   0.0s\n",
      "[CV 2/2] END ........C=100, gamma=1, kernel=rbf;, score=0.115 total time=   0.0s\n",
      "[CV 1/2] END ....C=100, gamma=1, kernel=sigmoid;, score=0.000 total time=   0.0s\n"
     ]
    },
    {
     "name": "stdout",
     "output_type": "stream",
     "text": [
      "[CV 2/2] END ....C=100, gamma=1, kernel=sigmoid;, score=0.000 total time=   0.0s\n",
      "[CV 1/2] END ...C=100, gamma=0.1, kernel=linear;, score=0.038 total time=   0.0s\n",
      "[CV 2/2] END ...C=100, gamma=0.1, kernel=linear;, score=0.115 total time=   0.0s\n",
      "[CV 1/2] END .....C=100, gamma=0.1, kernel=poly;, score=0.077 total time=   0.0s\n",
      "[CV 2/2] END .....C=100, gamma=0.1, kernel=poly;, score=0.038 total time=   0.0s\n",
      "[CV 1/2] END ......C=100, gamma=0.1, kernel=rbf;, score=0.038 total time=   0.0s\n",
      "[CV 2/2] END ......C=100, gamma=0.1, kernel=rbf;, score=0.115 total time=   0.0s\n",
      "[CV 1/2] END ..C=100, gamma=0.1, kernel=sigmoid;, score=0.000 total time=   0.0s\n",
      "[CV 2/2] END ..C=100, gamma=0.1, kernel=sigmoid;, score=0.000 total time=   0.0s\n",
      "[CV 1/2] END ..C=100, gamma=0.01, kernel=linear;, score=0.038 total time=   0.0s\n",
      "[CV 2/2] END ..C=100, gamma=0.01, kernel=linear;, score=0.115 total time=   0.0s\n",
      "[CV 1/2] END ....C=100, gamma=0.01, kernel=poly;, score=0.077 total time=   0.0s\n",
      "[CV 2/2] END ....C=100, gamma=0.01, kernel=poly;, score=0.038 total time=   0.0s\n",
      "[CV 1/2] END .....C=100, gamma=0.01, kernel=rbf;, score=0.038 total time=   0.0s\n",
      "[CV 2/2] END .....C=100, gamma=0.01, kernel=rbf;, score=0.115 total time=   0.0s\n",
      "[CV 1/2] END .C=100, gamma=0.01, kernel=sigmoid;, score=0.115 total time=   0.0s\n",
      "[CV 2/2] END .C=100, gamma=0.01, kernel=sigmoid;, score=0.038 total time=   0.0s\n",
      "[CV 1/2] END .C=100, gamma=0.001, kernel=linear;, score=0.038 total time=   0.0s\n",
      "[CV 2/2] END .C=100, gamma=0.001, kernel=linear;, score=0.115 total time=   0.0s\n",
      "[CV 1/2] END ...C=100, gamma=0.001, kernel=poly;, score=0.077 total time=   0.0s\n",
      "[CV 2/2] END ...C=100, gamma=0.001, kernel=poly;, score=0.038 total time=   0.0s\n",
      "[CV 1/2] END ....C=100, gamma=0.001, kernel=rbf;, score=0.038 total time=   0.0s\n",
      "[CV 2/2] END ....C=100, gamma=0.001, kernel=rbf;, score=0.115 total time=   0.0s\n",
      "[CV 1/2] END C=100, gamma=0.001, kernel=sigmoid;, score=0.115 total time=   0.0s\n",
      "[CV 2/2] END C=100, gamma=0.001, kernel=sigmoid;, score=0.038 total time=   0.0s\n",
      "[CV 1/2] END C=100, gamma=0.0001, kernel=linear;, score=0.038 total time=   0.0s\n",
      "[CV 2/2] END C=100, gamma=0.0001, kernel=linear;, score=0.115 total time=   0.0s\n",
      "[CV 1/2] END ..C=100, gamma=0.0001, kernel=poly;, score=0.077 total time=   0.0s\n",
      "[CV 2/2] END ..C=100, gamma=0.0001, kernel=poly;, score=0.038 total time=   0.0s\n",
      "[CV 1/2] END ...C=100, gamma=0.0001, kernel=rbf;, score=0.038 total time=   0.0s\n",
      "[CV 2/2] END ...C=100, gamma=0.0001, kernel=rbf;, score=0.115 total time=   0.0s\n",
      "[CV 1/2] END C=100, gamma=0.0001, kernel=sigmoid;, score=0.038 total time=   0.0s\n",
      "[CV 2/2] END C=100, gamma=0.0001, kernel=sigmoid;, score=0.115 total time=   0.0s\n",
      "[CV 1/2] END ....C=1000, gamma=1, kernel=linear;, score=0.038 total time=   0.0s\n",
      "[CV 2/2] END ....C=1000, gamma=1, kernel=linear;, score=0.115 total time=   0.0s\n",
      "[CV 1/2] END ......C=1000, gamma=1, kernel=poly;, score=0.077 total time=   0.0s\n",
      "[CV 2/2] END ......C=1000, gamma=1, kernel=poly;, score=0.038 total time=   0.0s\n",
      "[CV 1/2] END .......C=1000, gamma=1, kernel=rbf;, score=0.038 total time=   0.0s\n",
      "[CV 2/2] END .......C=1000, gamma=1, kernel=rbf;, score=0.115 total time=   0.0s\n",
      "[CV 1/2] END ...C=1000, gamma=1, kernel=sigmoid;, score=0.000 total time=   0.0s\n",
      "[CV 2/2] END ...C=1000, gamma=1, kernel=sigmoid;, score=0.000 total time=   0.0s\n",
      "[CV 1/2] END ..C=1000, gamma=0.1, kernel=linear;, score=0.038 total time=   0.0s\n",
      "[CV 2/2] END ..C=1000, gamma=0.1, kernel=linear;, score=0.115 total time=   0.0s\n",
      "[CV 1/2] END ....C=1000, gamma=0.1, kernel=poly;, score=0.077 total time=   0.0s\n",
      "[CV 2/2] END ....C=1000, gamma=0.1, kernel=poly;, score=0.038 total time=   0.0s\n",
      "[CV 1/2] END .....C=1000, gamma=0.1, kernel=rbf;, score=0.038 total time=   0.0s\n",
      "[CV 2/2] END .....C=1000, gamma=0.1, kernel=rbf;, score=0.115 total time=   0.0s\n",
      "[CV 1/2] END .C=1000, gamma=0.1, kernel=sigmoid;, score=0.000 total time=   0.0s\n",
      "[CV 2/2] END .C=1000, gamma=0.1, kernel=sigmoid;, score=0.000 total time=   0.0s\n",
      "[CV 1/2] END .C=1000, gamma=0.01, kernel=linear;, score=0.038 total time=   0.0s\n",
      "[CV 2/2] END .C=1000, gamma=0.01, kernel=linear;, score=0.115 total time=   0.0s\n",
      "[CV 1/2] END ...C=1000, gamma=0.01, kernel=poly;, score=0.077 total time=   0.0s\n",
      "[CV 2/2] END ...C=1000, gamma=0.01, kernel=poly;, score=0.038 total time=   0.0s\n",
      "[CV 1/2] END ....C=1000, gamma=0.01, kernel=rbf;, score=0.038 total time=   0.0s\n",
      "[CV 2/2] END ....C=1000, gamma=0.01, kernel=rbf;, score=0.115 total time=   0.0s\n",
      "[CV 1/2] END C=1000, gamma=0.01, kernel=sigmoid;, score=0.115 total time=   0.0s\n",
      "[CV 2/2] END C=1000, gamma=0.01, kernel=sigmoid;, score=0.038 total time=   0.0s\n",
      "[CV 1/2] END C=1000, gamma=0.001, kernel=linear;, score=0.038 total time=   0.0s\n",
      "[CV 2/2] END C=1000, gamma=0.001, kernel=linear;, score=0.115 total time=   0.0s\n",
      "[CV 1/2] END ..C=1000, gamma=0.001, kernel=poly;, score=0.077 total time=   0.0s\n",
      "[CV 2/2] END ..C=1000, gamma=0.001, kernel=poly;, score=0.038 total time=   0.0s\n",
      "[CV 1/2] END ...C=1000, gamma=0.001, kernel=rbf;, score=0.038 total time=   0.0s\n",
      "[CV 2/2] END ...C=1000, gamma=0.001, kernel=rbf;, score=0.115 total time=   0.0s\n",
      "[CV 1/2] END C=1000, gamma=0.001, kernel=sigmoid;, score=0.115 total time=   0.0s\n",
      "[CV 2/2] END C=1000, gamma=0.001, kernel=sigmoid;, score=0.038 total time=   0.0s\n",
      "[CV 1/2] END C=1000, gamma=0.0001, kernel=linear;, score=0.038 total time=   0.0s\n",
      "[CV 2/2] END C=1000, gamma=0.0001, kernel=linear;, score=0.115 total time=   0.0s\n",
      "[CV 1/2] END .C=1000, gamma=0.0001, kernel=poly;, score=0.077 total time=   0.0s\n",
      "[CV 2/2] END .C=1000, gamma=0.0001, kernel=poly;, score=0.038 total time=   0.0s\n",
      "[CV 1/2] END ..C=1000, gamma=0.0001, kernel=rbf;, score=0.038 total time=   0.0s\n",
      "[CV 2/2] END ..C=1000, gamma=0.0001, kernel=rbf;, score=0.115 total time=   0.0s\n",
      "[CV 1/2] END C=1000, gamma=0.0001, kernel=sigmoid;, score=0.038 total time=   0.0s\n",
      "[CV 2/2] END C=1000, gamma=0.0001, kernel=sigmoid;, score=0.115 total time=   0.0s\n"
     ]
    },
    {
     "data": {
      "text/plain": [
       "GridSearchCV(cv=2, estimator=SVC(),\n",
       "             param_grid={'C': [0.1, 1, 10, 100, 1000],\n",
       "                         'gamma': [1, 0.1, 0.01, 0.001, 0.0001],\n",
       "                         'kernel': ['linear', 'poly', 'rbf', 'sigmoid']},\n",
       "             verbose=3)"
      ]
     },
     "execution_count": 102,
     "metadata": {},
     "output_type": "execute_result"
    }
   ],
   "source": [
    "param_grid = {'C': [0.1, 1, 10, 100, 1000], \n",
    "              'gamma': [1, 0.1, 0.01, 0.001, 0.0001],\n",
    "              'kernel': ['linear','poly','rbf','sigmoid']} \n",
    "  \n",
    "grid = GridSearchCV(svm.SVC(), param_grid,cv = 2,refit = True, verbose = 3)\n",
    "# fitting the model for grid search\n",
    "grid.fit(X_train_s_new, y_train)"
   ]
  },
  {
   "cell_type": "code",
   "execution_count": 103,
   "id": "3011b142",
   "metadata": {},
   "outputs": [
    {
     "data": {
      "text/plain": [
       "0.038461538461538464"
      ]
     },
     "execution_count": 103,
     "metadata": {},
     "output_type": "execute_result"
    }
   ],
   "source": [
    "grid.score(scaler.transform(X_test), y_test)"
   ]
  },
  {
   "cell_type": "code",
   "execution_count": 104,
   "id": "0edca8e5",
   "metadata": {},
   "outputs": [
    {
     "data": {
      "text/plain": [
       "1.0"
      ]
     },
     "execution_count": 104,
     "metadata": {},
     "output_type": "execute_result"
    }
   ],
   "source": [
    "grid.score(X_train_s_new, y_train)"
   ]
  },
  {
   "cell_type": "code",
   "execution_count": 70,
   "id": "a7bbbaf7",
   "metadata": {},
   "outputs": [],
   "source": [
    "from sklearn.decomposition import PCA"
   ]
  },
  {
   "cell_type": "code",
   "execution_count": 71,
   "id": "8bfe5f4a",
   "metadata": {},
   "outputs": [
    {
     "data": {
      "text/plain": [
       "PCA()"
      ]
     },
     "execution_count": 71,
     "metadata": {},
     "output_type": "execute_result"
    }
   ],
   "source": [
    "pca = PCA() #n_components = 10\n",
    "pca.fit(X_)"
   ]
  },
  {
   "cell_type": "code",
   "execution_count": 72,
   "id": "2d3f029a",
   "metadata": {},
   "outputs": [
    {
     "data": {
      "text/plain": [
       "[<matplotlib.lines.Line2D at 0x7ff0031ccba8>]"
      ]
     },
     "execution_count": 72,
     "metadata": {},
     "output_type": "execute_result"
    },
    {
     "data": {
      "image/png": "[encoded data removed]",
      "text/plain": [
       "<Figure size 432x288 with 1 Axes>"
      ]
     },
     "metadata": {
      "needs_background": "light"
     },
     "output_type": "display_data"
    }
   ],
   "source": [
    "plt.plot(pca.explained_variance_ratio_)"
   ]
  },
  {
   "cell_type": "code",
   "execution_count": 73,
   "id": "78008110",
   "metadata": {},
   "outputs": [],
   "source": [
    "X_transform = pca.transform(X_)"
   ]
  },
  {
   "cell_type": "code",
   "execution_count": 74,
   "id": "0b165fd1",
   "metadata": {},
   "outputs": [
    {
     "data": {
      "text/plain": [
       "Text(0, 0.5, 'Samples')"
      ]
     },
     "execution_count": 74,
     "metadata": {},
     "output_type": "execute_result"
    },
    {
     "data": {
      "image/png": "[encoded data removed]",
      "text/plain": [
       "<Figure size 288x288 with 2 Axes>"
      ]
     },
     "metadata": {
      "needs_background": "light"
     },
     "output_type": "display_data"
    }
   ],
   "source": [
    "import matplotlib.pyplot as plt\n",
    "corr =np.corrcoef(X_transform)\n",
    "plt.matshow(corr, cmap='coolwarm')\n",
    "plt.colorbar()\n",
    "plt.xlabel('Samples')\n",
    "plt.ylabel('Samples')"
   ]
  },
  {
   "cell_type": "code",
   "execution_count": 81,
   "id": "08d2cc43",
   "metadata": {},
   "outputs": [
    {
     "data": {
      "text/plain": [
       "Text(0, 0.5, 'PC 2')"
      ]
     },
     "execution_count": 81,
     "metadata": {},
     "output_type": "execute_result"
    },
    {
     "data": {
      "image/png": "[encoded data removed]",
      "text/plain": [
       "<Figure size 864x288 with 3 Axes>"
      ]
     },
     "metadata": {
      "needs_background": "light"
     },
     "output_type": "display_data"
    }
   ],
   "source": [
    "fig, ax =plt.subplots(figsize=(12, 4), ncols=3, sharey=True, sharex=True)\n",
    "ax[0].scatter(X_transform[:, 0], X_transform[:, 1])\n",
    "ax[1].scatter(X_transform[:, 1], X_transform[:, 2])\n",
    "ax[2].scatter(X_transform[:, 0], X_transform[:, 2])\n",
    "plt.xlabel('PC 1')\n",
    "plt.ylabel('PC 2')"
   ]
  },
  {
   "cell_type": "code",
   "execution_count": 82,
   "id": "d59684ca",
   "metadata": {},
   "outputs": [
    {
     "data": {
      "text/plain": [
       "PCA()"
      ]
     },
     "execution_count": 82,
     "metadata": {},
     "output_type": "execute_result"
    }
   ],
   "source": [
    "rand_X = np.random.normal(size=X_.shape)\n",
    "pca_rand = PCA()\n",
    "pca_rand.fit(rand_X)"
   ]
  },
  {
   "cell_type": "code",
   "execution_count": 83,
   "id": "aa153eff",
   "metadata": {},
   "outputs": [
    {
     "data": {
      "text/plain": [
       "[<matplotlib.lines.Line2D at 0x7ff00289edd8>]"
      ]
     },
     "execution_count": 83,
     "metadata": {},
     "output_type": "execute_result"
    },
    {
     "data": {
      "image/png": "[encoded data removed]",
      "text/plain": [
       "<Figure size 432x288 with 1 Axes>"
      ]
     },
     "metadata": {
      "needs_background": "light"
     },
     "output_type": "display_data"
    }
   ],
   "source": [
    "plt.plot(pca.explained_variance_ratio_[:10])\n",
    "plt.plot(pca_rand.explained_variance_ratio_[:10])"
   ]
  }
 ],
 "metadata": {
  "kernelspec": {
   "display_name": "neuro_ai",
   "language": "python",
   "name": "neuro_ai"
  },
  "language_info": {
   "codemirror_mode": {
    "name": "ipython",
    "version": 3
   },
   "file_extension": ".py",
   "mimetype": "text/x-python",
   "name": "python",
   "nbconvert_exporter": "python",
   "pygments_lexer": "ipython3",
   "version": "3.7.0"
  }
 },
 "nbformat": 4,
 "nbformat_minor": 5
}
