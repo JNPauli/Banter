{
 "cells": [
  {
   "cell_type": "markdown",
   "id": "842c25bf",
   "metadata": {},
   "source": [
    "## **0. Introduction**"
   ]
  },
  {
   "cell_type": "markdown",
   "id": "289e0a97",
   "metadata": {},
   "source": [
    "This notebook continues the series of machine learning techniques with the goal to decode the brain activitiy given the respective categories. Unfortunately, neither the LogReg nor the SVM produced any results that back the initial hypothesis. Still, we will set up the Neuralnetwork for the purpose of learning the respective technique."
   ]
  },
  {
   "cell_type": "markdown",
   "id": "94fa829d",
   "metadata": {},
   "source": [
    "## **1.0 Loading the data**"
   ]
  },
  {
   "cell_type": "code",
   "execution_count": 1,
   "id": "51973365",
   "metadata": {},
   "outputs": [],
   "source": [
    "import os\n",
    "os.chdir(\"/home/jpauli/ds001506/sourcedata/sub-01/anat\")"
   ]
  },
  {
   "cell_type": "code",
   "execution_count": 2,
   "id": "7e5dd4f2",
   "metadata": {},
   "outputs": [],
   "source": [
    "mask_img_path = '/home/jpauli/ds001506/sourcedata/sub-01/anat'\n",
    "mask_img_L = os.path.join(mask_img_path,'sub-01_mask_LH_V1v.nii.gz')\n",
    "mask_img_R = os.path.join(mask_img_path,'sub-01_mask_RH_LOC.nii.gz')"
   ]
  },
  {
   "cell_type": "code",
   "execution_count": 3,
   "id": "58c2269a",
   "metadata": {},
   "outputs": [],
   "source": [
    "from nilearn.maskers import NiftiMasker\n",
    "nifti_masker = NiftiMasker(mask_img=mask_img_L)"
   ]
  },
  {
   "cell_type": "code",
   "execution_count": 4,
   "id": "32e72e27",
   "metadata": {},
   "outputs": [],
   "source": [
    "import numpy as np\n",
    "import pandas as pd\n",
    "X = []\n",
    "Y = []\n",
    "Sessions = []\n",
    "category = 1\n",
    "for session in [\"1\",\"2\",\"3\",\"4\"]:\n",
    "    os.chdir('/mnt/c/Users/janos/git/sessions_new/z_maps_{}'.format(session))\n",
    "    for x in os.listdir():\n",
    "        if x == 'nilearn_cache':\n",
    "            continue\n",
    "        else:\n",
    "            X.append(nifti_masker.fit_transform(x))\n",
    "            Y.append(category)\n",
    "            Sessions.append(session)\n",
    "            category=category+1\n",
    "            if category == 27:\n",
    "                category = 1\n",
    "\n",
    "Y = np.array(Y)\n",
    "df =  pd.DataFrame(np.concatenate(X))\n",
    "X_ = df.to_numpy()"
   ]
  },
  {
   "cell_type": "markdown",
   "id": "3cb0f8e1",
   "metadata": {},
   "source": [
    "Rescaling, because PyTorch requires Y labels to range from 0 to 1."
   ]
  },
  {
   "cell_type": "code",
   "execution_count": 122,
   "id": "afe022db",
   "metadata": {},
   "outputs": [
    {
     "data": {
      "text/plain": [
       "array([ 0,  1,  2,  3,  4,  5,  6,  7,  8,  9, 10, 11, 12, 13, 14, 15, 16,\n",
       "       17, 18, 19, 20, 21, 22, 23, 24, 25,  0,  1,  2,  3,  4,  5,  6,  7,\n",
       "        8,  9, 10, 11, 12, 13, 14, 15, 16, 17, 18, 19, 20, 21, 22, 23, 24,\n",
       "       25,  0,  1,  2,  3,  4,  5,  6,  7,  8,  9, 10, 11, 12, 13, 14, 15,\n",
       "       16, 17, 18, 19, 20, 21, 22, 23, 24, 25,  0,  1,  2,  3,  4,  5,  6,\n",
       "        7,  8,  9, 10, 11, 12, 13, 14, 15, 16, 17, 18, 19, 20, 21, 22, 23,\n",
       "       24, 25])"
      ]
     },
     "execution_count": 122,
     "metadata": {},
     "output_type": "execute_result"
    }
   ],
   "source": [
    "i = Y-1\n",
    "i"
   ]
  },
  {
   "cell_type": "markdown",
   "id": "f30c21c0",
   "metadata": {},
   "source": [
    "Split data"
   ]
  },
  {
   "cell_type": "code",
   "execution_count": 5,
   "id": "511f44f4",
   "metadata": {},
   "outputs": [],
   "source": [
    "from sklearn.model_selection import train_test_split\n",
    "\n",
    "# Split dataset into training set and test set\n",
    "X_train, X_test, y_train, y_test = train_test_split(X_, Y, test_size=0.2,random_state=42)"
   ]
  },
  {
   "cell_type": "markdown",
   "id": "f78c5251",
   "metadata": {},
   "source": [
    "General imports of pytorch modules needed to define the network. NN stands for Neural Network and is part of the pytorch library."
   ]
  },
  {
   "cell_type": "code",
   "execution_count": 6,
   "id": "a72a1e0a",
   "metadata": {},
   "outputs": [],
   "source": [
    "import torch\n",
    "import torch.nn.functional as F\n",
    "from torch import nn"
   ]
  },
  {
   "cell_type": "markdown",
   "id": "ac79b232",
   "metadata": {},
   "source": [
    "Numpy arrays to pytorch tensor"
   ]
  },
  {
   "cell_type": "code",
   "execution_count": 7,
   "id": "26b9d36c",
   "metadata": {},
   "outputs": [],
   "source": [
    "X_tensor_train = torch.from_numpy(X_train)\n",
    "Y_tensor_train = torch.from_numpy(y_train)\n",
    "X_tensor = torch.from_numpy(X_)\n",
    "Y_tensor = torch.from_numpy(Y)"
   ]
  },
  {
   "cell_type": "code",
   "execution_count": 123,
   "id": "f3c00c96",
   "metadata": {},
   "outputs": [],
   "source": [
    "i_tensor = torch.from_numpy(i)\n",
    "i_tensor = i_tensor.type(torch.LongTensor)\n"
   ]
  },
  {
   "cell_type": "code",
   "execution_count": 61,
   "id": "c5100521",
   "metadata": {},
   "outputs": [
    {
     "name": "stderr",
     "output_type": "stream",
     "text": [
      "/home/jpauli/miniconda3/envs/neuro_ai/lib/python3.7/site-packages/ipykernel_launcher.py:2: UserWarning: To copy construct from a tensor, it is recommended to use sourceTensor.clone().detach() or sourceTensor.clone().detach().requires_grad_(True), rather than torch.tensor(sourceTensor).\n",
      "  \n",
      "/home/jpauli/miniconda3/envs/neuro_ai/lib/python3.7/site-packages/ipykernel_launcher.py:4: UserWarning: To copy construct from a tensor, it is recommended to use sourceTensor.clone().detach() or sourceTensor.clone().detach().requires_grad_(True), rather than torch.tensor(sourceTensor).\n",
      "  after removing the cwd from sys.path.\n"
     ]
    }
   ],
   "source": [
    "Y_tensor_train = Y_tensor_train.type(torch.LongTensor)\n",
    "X_tensor_train = torch.tensor(X_tensor_train,dtype = torch.float32)\n",
    "\n",
    "XX = torch.tensor(X_tensor,dtype = torch.float32)\n",
    "YYY = Y_tensor.type(torch.LongTensor)"
   ]
  },
  {
   "cell_type": "markdown",
   "id": "717f3c08",
   "metadata": {},
   "source": [
    "First things first, we should define our neural network by using pythons *classes* and more important, the pytorch nn.Module. Then, we initialize and determine the inputs: The class takes three arguments: Itself (so nn.Module), n inputs and n outputs, corresponding to our x and y data. \n",
    "We apply the super function in order to invoke the properties of the class.\n",
    "\n",
    "Then we define our first variables: \"self.in_layer\" and \"self.out_layer\".\n",
    "By using the linear function of the nn module, we define for the first variable, that it takes n inputs and n hidden layers. This is our input layer, so the information is forwarded from the n_input to n_hidden layers. The out_layer variable passed the input from the n_hidden layers to 26 output layers. 26 is chosen, because we want to predict 26 classes.\n",
    "\n",
    "We go on by defining the forward method. The forward method runs when calling the class as a function. It takes the z_maps as an input and passes it through the hidden layer to produce the weights and to finally pass it to the output layer, in order to predict the respective category."
   ]
  },
  {
   "cell_type": "code",
   "execution_count": 9,
   "id": "4dd0102c",
   "metadata": {},
   "outputs": [],
   "source": [
    "class DecodingNN(nn.Module):\n",
    "    def __init__(self,n_inputs,n_hidden):\n",
    "        super().__init__()\n",
    "        self.in_layer = nn.linear(n_inputs,n_hidden)\n",
    "        self.out_layer = nn.linear(n_hidden, 26)\n",
    "    def forward(self,V_P):\n",
    "        h = self.in_layer(V_P)\n",
    "        y = self.out_layer(h)\n",
    "        return y\n"
   ]
  },
  {
   "cell_type": "code",
   "execution_count": 135,
   "id": "0f4f75a7",
   "metadata": {},
   "outputs": [],
   "source": [
    "class DecodingReLuNN(nn.Module):\n",
    "    def __init__(self,n_inputs,n_hidden):\n",
    "        super().__init__()\n",
    "        self.in_layer = nn.Linear(n_inputs,n_hidden)\n",
    "        self.out_layer = nn.Linear(n_hidden, 26)\n",
    "    def forward(self,V_P):\n",
    "    #Decode category from voxel pattern\n",
    "\n",
    "    #Args:\n",
    "     # Voxel_pattern (torch.Tensor): vector of neural responses to decode, must be of\n",
    "      #  length n_inputs. Can also be a tensor of shape n_stimuli x n_inputs,\n",
    "       # containing n_stimuli vectors of neural responses\n",
    "\n",
    "    #Returns:\n",
    "    #torch.Tensor: network outputs for each input provided in Voxel_pattern. If\n",
    "    #Voxel_pattern is a vector, then y is a 1D tensor of length 1. If Voxel_pattern is a 2D\n",
    "    #tensor then y is a 2D tensor of shape n_stimuli x 1.\n",
    "    \n",
    "        h = torch.relu(self.in_layer(V_P))\n",
    "        y = self.out_layer(h)\n",
    "        return y"
   ]
  },
  {
   "cell_type": "code",
   "execution_count": 136,
   "id": "d9efa1a5",
   "metadata": {},
   "outputs": [
    {
     "name": "stdout",
     "output_type": "stream",
     "text": [
      "Col:Class, Row: Dataset; decoded category: tensor([[-0.3610,  0.0791,  0.1679,  ..., -0.5639,  0.0261, -0.4699],\n",
      "        [-0.2619, -0.0509,  0.1375,  ..., -0.3843, -0.0896, -0.4163],\n",
      "        [-0.2372, -0.0593,  0.1384,  ..., -0.3368, -0.1264, -0.4074],\n",
      "        ...,\n",
      "        [ 0.5154,  0.1397,  0.5809,  ...,  0.4438,  0.2225, -0.2594],\n",
      "        [ 0.3561,  0.0099,  0.5038,  ...,  0.3179,  0.1096, -0.2533],\n",
      "        [ 0.7662, -0.0938,  0.7326,  ...,  0.4211, -0.0095, -0.3803]],\n",
      "       grad_fn=<AddmmBackward0>)\n",
      "true category: tensor([ 0,  1,  2,  3,  4,  5,  6,  7,  8,  9, 10, 11, 12, 13, 14, 15, 16, 17,\n",
      "        18, 19, 20, 21, 22, 23, 24, 25,  0,  1,  2,  3,  4,  5,  6,  7,  8,  9,\n",
      "        10, 11, 12, 13, 14, 15, 16, 17, 18, 19, 20, 21, 22, 23, 24, 25,  0,  1,\n",
      "         2,  3,  4,  5,  6,  7,  8,  9, 10, 11, 12, 13, 14, 15, 16, 17, 18, 19,\n",
      "        20, 21, 22, 23, 24, 25,  0,  1,  2,  3,  4,  5,  6,  7,  8,  9, 10, 11,\n",
      "        12, 13, 14, 15, 16, 17, 18, 19, 20, 21, 22, 23, 24, 25])\n",
      "cross entropy loss 3.328284740447998\n"
     ]
    }
   ],
   "source": [
    "np.random.seed(1)\n",
    "torch.manual_seed(1)\n",
    "\n",
    "#Initialize a deep network with 10 hidden units\n",
    "net = DecodingReLuNN(X_tensor.shape[1], 10)\n",
    "\n",
    "# Get voxel pattern and predicted category to one stimulus in dataset\n",
    "V_P, category = XX, i_tensor # using helper function get_data\n",
    "\n",
    "# Decode category from these neural responses using initialized network\n",
    "out = net(V_P)  # compute output from network, equivalent to net.forward(r)\n",
    "loss_fn = nn.CrossEntropyLoss()\n",
    "\n",
    "# Evaluate mean squared error\n",
    "loss = loss_fn(out, category)\n",
    "\n",
    "print('Col:Class, Row: Dataset; decoded category: {}'.format(out))\n",
    "print('true category: {}'.format(category))\n",
    "print('cross entropy loss {}'.format(loss))"
   ]
  },
  {
   "cell_type": "code",
   "execution_count": 140,
   "id": "fb00b4de",
   "metadata": {},
   "outputs": [
    {
     "data": {
      "text/plain": [
       "tensor([-0.3610,  0.0791,  0.1679,  0.0757, -0.4607,  0.1684,  0.2325,  0.2218,\n",
       "         0.3411,  0.4045,  0.2273, -0.0617, -0.2611, -0.0990, -0.1770, -0.3354,\n",
       "        -0.1097,  0.3703,  0.4470,  0.3015,  0.0404,  0.4555, -0.2341, -0.5639,\n",
       "         0.0261, -0.4699], grad_fn=<SelectBackward0>)"
      ]
     },
     "execution_count": 140,
     "metadata": {},
     "output_type": "execute_result"
    }
   ],
   "source": [
    "out[0]"
   ]
  },
  {
   "cell_type": "code",
   "execution_count": 131,
   "id": "26e12fc9",
   "metadata": {},
   "outputs": [
    {
     "data": {
      "text/plain": [
       "torch.Size([4])"
      ]
     },
     "execution_count": 131,
     "metadata": {},
     "output_type": "execute_result"
    }
   ],
   "source": [
    "category.shape"
   ]
  },
  {
   "cell_type": "code",
   "execution_count": 133,
   "id": "97c46e4a",
   "metadata": {},
   "outputs": [
    {
     "data": {
      "text/plain": [
       "torch.Size([104])"
      ]
     },
     "execution_count": 133,
     "metadata": {},
     "output_type": "execute_result"
    }
   ],
   "source": [
    "i_tensor.shape"
   ]
  }
 ],
 "metadata": {
  "kernelspec": {
   "display_name": "neuro_ai",
   "language": "python",
   "name": "neuro_ai"
  },
  "language_info": {
   "codemirror_mode": {
    "name": "ipython",
    "version": 3
   },
   "file_extension": ".py",
   "mimetype": "text/x-python",
   "name": "python",
   "nbconvert_exporter": "python",
   "pygments_lexer": "ipython3",
   "version": "3.7.0"
  }
 },
 "nbformat": 4,
 "nbformat_minor": 5
}
