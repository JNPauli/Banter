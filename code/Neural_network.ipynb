{
 "cells": [
  {
   "cell_type": "markdown",
   "id": "842c25bf",
   "metadata": {},
   "source": [
    "## **0. Introduction**"
   ]
  },
  {
   "cell_type": "markdown",
   "id": "289e0a97",
   "metadata": {},
   "source": [
    "This notebook continues the series of machine learning techniques with the goal to decode the brain activitiy given the respective categories. Unfortunately, neither the LogReg nor the SVM produced any results that back the initial hypothesis. Still, we will set up the Neuralnetwork for the purpose of learning the respective technique."
   ]
  },
  {
   "cell_type": "markdown",
   "id": "94fa829d",
   "metadata": {},
   "source": [
    "## **1.0 Loading the data**"
   ]
  },
  {
   "cell_type": "code",
   "execution_count": 1,
   "id": "51973365",
   "metadata": {},
   "outputs": [],
   "source": [
    "import os\n",
    "os.chdir(\"/home/jpauli/ds001506/sourcedata/sub-01/anat\")"
   ]
  },
  {
   "cell_type": "code",
   "execution_count": 2,
   "id": "7e5dd4f2",
   "metadata": {},
   "outputs": [],
   "source": [
    "mask_img_path = '/home/jpauli/ds001506/sourcedata/sub-01/anat'\n",
    "mask_img_L = os.path.join(mask_img_path,'sub-01_mask_LH_V1v.nii.gz')\n",
    "mask_img_R = os.path.join(mask_img_path,'sub-01_mask_RH_LOC.nii.gz')"
   ]
  },
  {
   "cell_type": "code",
   "execution_count": 3,
   "id": "58c2269a",
   "metadata": {},
   "outputs": [],
   "source": [
    "from nilearn.maskers import NiftiMasker\n",
    "nifti_masker = NiftiMasker(mask_img=mask_img_L)"
   ]
  },
  {
   "cell_type": "code",
   "execution_count": 4,
   "id": "32e72e27",
   "metadata": {},
   "outputs": [],
   "source": [
    "import numpy as np\n",
    "import pandas as pd\n",
    "X = []\n",
    "Y = []\n",
    "Sessions = []\n",
    "category = 1\n",
    "for session in [\"1\",\"2\",\"3\",\"4\"]:\n",
    "    os.chdir('/mnt/c/Users/janos/git/sessions_new/z_maps_{}'.format(session))\n",
    "    for x in os.listdir():\n",
    "        if x == 'nilearn_cache':\n",
    "            continue\n",
    "        else:\n",
    "            X.append(nifti_masker.fit_transform(x))\n",
    "            Y.append(category)\n",
    "            Sessions.append(session)\n",
    "            category=category+1\n",
    "            if category == 27:\n",
    "                category = 1\n",
    "\n",
    "Y = np.array(Y)\n",
    "df =  pd.DataFrame(np.concatenate(X))\n",
    "X_ = df.to_numpy()"
   ]
  },
  {
   "cell_type": "markdown",
   "id": "a6c32f46",
   "metadata": {},
   "source": [
    "Split data"
   ]
  },
  {
   "cell_type": "code",
   "execution_count": 6,
   "id": "da2ea2a9",
   "metadata": {},
   "outputs": [],
   "source": [
    "from sklearn.model_selection import train_test_split\n",
    "\n",
    "# Split dataset into training set and test set\n",
    "X_train, X_test, y_train, y_test = train_test_split(X_, Y, test_size=0.2,random_state=42)"
   ]
  },
  {
   "cell_type": "markdown",
   "id": "f78c5251",
   "metadata": {},
   "source": [
    "General imports of pytorch modules needed to define the network. NN stands for Neural Network and is part of the pytorch library."
   ]
  },
  {
   "cell_type": "code",
   "execution_count": 5,
   "id": "a72a1e0a",
   "metadata": {},
   "outputs": [],
   "source": [
    "import torch\n",
    "import torch.nn.functional as F\n",
    "from torch import nn"
   ]
  },
  {
   "cell_type": "markdown",
   "id": "98a7c437",
   "metadata": {},
   "source": [
    "First things first, we should define our neural network by using pythons *classes* and more important, the pytorch nn.Module. Then, we initialize and determine the inputs: The class takes three arguments: Itself (so nn.Module), n inputs and n outputs, corresponding to our x and y data. \n",
    "We apply the super function in order to invoke the properties of the class.\n",
    "\n",
    "Then we define our first variables: \"self.in_layer\" and \"self.out_layer\".\n",
    "By using the linear function of the nn module, we define for the first variable, that it takes n inputs and n hidden layers. This is our input layer, so the information is forwarded from the n_input to n_hidden layers. The out_layer variable passed the input from the n_hidden layers to 26 output layers. 26 is chosen, because we want to predict 26 classes.\n",
    "\n",
    "We go on by defining the forward method. The forward method runs when calling the class as a function. It takes the z_maps as an input and passes it through the hidden layer to produce the weights and to finally pass it to the output layer, in order to create the choosen category."
   ]
  },
  {
   "cell_type": "code",
   "execution_count": 9,
   "id": "e8a76ccb",
   "metadata": {},
   "outputs": [],
   "source": [
    "class DecodingNN(nn.Module):\n",
    "    def __init__(self,n_inputs,n_hidden):\n",
    "        super().__init__()\n",
    "        self.in_layer = nn.linear(n_inputs,n_hidden)\n",
    "        self.out_layer = nn.linear(n_hidden, 26)\n",
    "    def forward(self,z_maps):\n",
    "        h = self.in_layer(z_maps)\n",
    "        y = self.out_layer(h)\n",
    "        return y\n",
    "        "
   ]
  },
  {
   "cell_type": "code",
   "execution_count": 10,
   "id": "07e13c3a",
   "metadata": {},
   "outputs": [
    {
     "data": {
      "text/plain": [
       "__main__.DecodingNN"
      ]
     },
     "execution_count": 10,
     "metadata": {},
     "output_type": "execute_result"
    }
   ],
   "source": [
    "DecodingNN"
   ]
  }
 ],
 "metadata": {
  "kernelspec": {
   "display_name": "neuro_ai",
   "language": "python",
   "name": "neuro_ai"
  },
  "language_info": {
   "codemirror_mode": {
    "name": "ipython",
    "version": 3
   },
   "file_extension": ".py",
   "mimetype": "text/x-python",
   "name": "python",
   "nbconvert_exporter": "python",
   "pygments_lexer": "ipython3",
   "version": "3.7.0"
  }
 },
 "nbformat": 4,
 "nbformat_minor": 5
}
