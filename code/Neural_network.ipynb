{
 "cells": [
  {
   "cell_type": "markdown",
   "id": "842c25bf",
   "metadata": {},
   "source": [
    "## **0. Introduction**"
   ]
  },
  {
   "cell_type": "markdown",
   "id": "289e0a97",
   "metadata": {},
   "source": [
    "This notebook continues the series of machine learning techniques with the goal to decode the brain activitiy given the respective categories. Unfortunately, neither the LogReg nor the SVM produced any results that back the initial hypothesis. Still, we will set up the Neuralnetwork for the purpose of learning the respective technique."
   ]
  },
  {
   "cell_type": "markdown",
   "id": "94fa829d",
   "metadata": {},
   "source": [
    "## **1.0 Loading the data**"
   ]
  },
  {
   "cell_type": "code",
   "execution_count": 1,
   "id": "51973365",
   "metadata": {},
   "outputs": [],
   "source": [
    "import os\n",
    "os.chdir(\"/home/jpauli/ds001506/sourcedata/sub-01/anat\")"
   ]
  },
  {
   "cell_type": "code",
   "execution_count": 2,
   "id": "7e5dd4f2",
   "metadata": {},
   "outputs": [],
   "source": [
    "mask_img_path = '/home/jpauli/ds001506/sourcedata/sub-01/anat'\n",
    "mask_img_L = os.path.join(mask_img_path,'sub-01_mask_LH_V1v.nii.gz')\n",
    "mask_img_R = os.path.join(mask_img_path,'sub-01_mask_RH_LOC.nii.gz')"
   ]
  },
  {
   "cell_type": "code",
   "execution_count": 3,
   "id": "58c2269a",
   "metadata": {},
   "outputs": [],
   "source": [
    "from nilearn.maskers import NiftiMasker\n",
    "nifti_masker = NiftiMasker(mask_img=mask_img_L)"
   ]
  },
  {
   "cell_type": "code",
   "execution_count": 4,
   "id": "32e72e27",
   "metadata": {},
   "outputs": [],
   "source": [
    "import matplotlib.pyplot as plt\n",
    "import numpy as np\n",
    "import pandas as pd\n",
    "X = []\n",
    "Y = []\n",
    "Sessions = []\n",
    "category = 1\n",
    "for session in [\"1\",\"2\",\"3\",\"4\"]:\n",
    "    os.chdir('/mnt/c/Users/janos/git/sessions_new/z_maps_{}'.format(session))\n",
    "    for x in os.listdir():\n",
    "        if x == 'nilearn_cache':\n",
    "            continue\n",
    "        else:\n",
    "            X.append(nifti_masker.fit_transform(x))\n",
    "            Y.append(category)\n",
    "            Sessions.append(session)\n",
    "            category=category+1\n",
    "            if category == 27:\n",
    "                category = 1\n",
    "\n",
    "Y = np.array(Y)\n",
    "df =  pd.DataFrame(np.concatenate(X))\n",
    "X_ = df.to_numpy()"
   ]
  },
  {
   "cell_type": "markdown",
   "id": "8277580f",
   "metadata": {},
   "source": [
    "Rescaling, because PyTorch requires Y labels to range from 0 to 1."
   ]
  },
  {
   "cell_type": "code",
   "execution_count": 5,
   "id": "926d6f0e",
   "metadata": {},
   "outputs": [
    {
     "data": {
      "text/plain": [
       "array([ 0,  1,  2,  3,  4,  5,  6,  7,  8,  9, 10, 11, 12, 13, 14, 15, 16,\n",
       "       17, 18, 19, 20, 21, 22, 23, 24, 25,  0,  1,  2,  3,  4,  5,  6,  7,\n",
       "        8,  9, 10, 11, 12, 13, 14, 15, 16, 17, 18, 19, 20, 21, 22, 23, 24,\n",
       "       25,  0,  1,  2,  3,  4,  5,  6,  7,  8,  9, 10, 11, 12, 13, 14, 15,\n",
       "       16, 17, 18, 19, 20, 21, 22, 23, 24, 25,  0,  1,  2,  3,  4,  5,  6,\n",
       "        7,  8,  9, 10, 11, 12, 13, 14, 15, 16, 17, 18, 19, 20, 21, 22, 23,\n",
       "       24, 25])"
      ]
     },
     "execution_count": 5,
     "metadata": {},
     "output_type": "execute_result"
    }
   ],
   "source": [
    "y = Y-1\n",
    "y"
   ]
  },
  {
   "cell_type": "code",
   "execution_count": 54,
   "id": "3486df51",
   "metadata": {},
   "outputs": [
    {
     "data": {
      "text/plain": [
       "array([ 0,  1,  2,  3,  4,  5,  6,  7,  8,  9, 10, 11, 12, 13, 14, 15, 16,\n",
       "       17, 18, 19, 20, 21, 22, 23, 24, 25])"
      ]
     },
     "execution_count": 54,
     "metadata": {},
     "output_type": "execute_result"
    }
   ],
   "source": [
    "Y_unique = np.unique(y)\n",
    "Y_unique"
   ]
  },
  {
   "cell_type": "code",
   "execution_count": 56,
   "id": "75d97099",
   "metadata": {},
   "outputs": [],
   "source": [
    "np.random.shuffle(Y)\n",
    "y_train = []\n",
    "y_test = []\n",
    "\n",
    "\n",
    "for category in y:\n",
    "        if len(y_test) == len(Y_unique):\n",
    "            y_train.append(category)\n",
    "        else:\n",
    "            y_test.append(category)\n",
    "            if y_test.count(category) > 1:\n",
    "                y_test.remove(category)\n",
    "                y_train.append(category)\n",
    "                continue"
   ]
  },
  {
   "cell_type": "code",
   "execution_count": 57,
   "id": "c72091d3",
   "metadata": {},
   "outputs": [],
   "source": [
    "y_test = np.array(y_test)\n",
    "y_train = np.array(y_train)"
   ]
  },
  {
   "cell_type": "code",
   "execution_count": 58,
   "id": "bef97bf1",
   "metadata": {},
   "outputs": [
    {
     "data": {
      "text/plain": [
       "26"
      ]
     },
     "execution_count": 58,
     "metadata": {},
     "output_type": "execute_result"
    }
   ],
   "source": [
    "len(y_test)"
   ]
  },
  {
   "cell_type": "markdown",
   "id": "ac03af53",
   "metadata": {},
   "source": [
    "Split data"
   ]
  },
  {
   "cell_type": "code",
   "execution_count": 64,
   "id": "665c63a8",
   "metadata": {},
   "outputs": [],
   "source": [
    "from sklearn.model_selection import train_test_split\n",
    "\n",
    "# Split dataset into training set and test set\n",
    "#X_train, X_test, y_train, y_test = train_test_split(X_, y, test_size=0.2,random_state=42)\n",
    "X_train, X_test = train_test_split(X_, test_size=0.25,random_state=42)"
   ]
  },
  {
   "cell_type": "code",
   "execution_count": 65,
   "id": "98859cbc",
   "metadata": {},
   "outputs": [],
   "source": [
    "from sklearn import preprocessing\n",
    "scaler = preprocessing.StandardScaler()\n",
    "X_train = scaler.fit_transform(X_train)\n",
    "X_test = scaler.transform(X_test)"
   ]
  },
  {
   "cell_type": "markdown",
   "id": "f78c5251",
   "metadata": {},
   "source": [
    "General imports of pytorch modules needed to define the network. NN stands for Neural Network and is part of the pytorch library."
   ]
  },
  {
   "cell_type": "code",
   "execution_count": 8,
   "id": "a72a1e0a",
   "metadata": {},
   "outputs": [],
   "source": [
    "import torch\n",
    "from torch import nn\n",
    "from torch import optim"
   ]
  },
  {
   "cell_type": "markdown",
   "id": "a5901f46",
   "metadata": {},
   "source": [
    "Numpy arrays to pytorch tensor"
   ]
  },
  {
   "cell_type": "code",
   "execution_count": 66,
   "id": "46955e4c",
   "metadata": {},
   "outputs": [],
   "source": [
    "X_tensor_train = torch.from_numpy(X_train)\n",
    "Y_tensor_train = torch.from_numpy(y_train)\n",
    "X_tensor_test = torch.from_numpy(X_test)\n",
    "Y_tensor_test = torch.from_numpy(y_test)"
   ]
  },
  {
   "cell_type": "code",
   "execution_count": 67,
   "id": "e095bc3d",
   "metadata": {},
   "outputs": [
    {
     "name": "stderr",
     "output_type": "stream",
     "text": [
      "/home/jpauli/miniconda3/envs/neuro_ai/lib/python3.7/site-packages/ipykernel_launcher.py:1: UserWarning: To copy construct from a tensor, it is recommended to use sourceTensor.clone().detach() or sourceTensor.clone().detach().requires_grad_(True), rather than torch.tensor(sourceTensor).\n",
      "  \"\"\"Entry point for launching an IPython kernel.\n"
     ]
    }
   ],
   "source": [
    "X_tensor_train = torch.tensor(X_tensor_train,dtype = torch.float32)\n",
    "Y_tensor_train = Y_tensor_train.type(torch.LongTensor)"
   ]
  },
  {
   "cell_type": "code",
   "execution_count": 69,
   "id": "0c61c57d",
   "metadata": {},
   "outputs": [
    {
     "data": {
      "text/plain": [
       "torch.Size([26, 992])"
      ]
     },
     "execution_count": 69,
     "metadata": {},
     "output_type": "execute_result"
    }
   ],
   "source": [
    "X_tensor_test.shape"
   ]
  },
  {
   "cell_type": "code",
   "execution_count": 70,
   "id": "e6161f00",
   "metadata": {},
   "outputs": [
    {
     "name": "stderr",
     "output_type": "stream",
     "text": [
      "/home/jpauli/miniconda3/envs/neuro_ai/lib/python3.7/site-packages/ipykernel_launcher.py:1: UserWarning: To copy construct from a tensor, it is recommended to use sourceTensor.clone().detach() or sourceTensor.clone().detach().requires_grad_(True), rather than torch.tensor(sourceTensor).\n",
      "  \"\"\"Entry point for launching an IPython kernel.\n"
     ]
    }
   ],
   "source": [
    "X_tensor_test = torch.tensor(X_tensor_test,dtype = torch.float32)\n",
    "Y_tensor_test = Y_tensor_test.type(torch.LongTensor)"
   ]
  },
  {
   "cell_type": "markdown",
   "id": "48ac0e5b",
   "metadata": {},
   "source": [
    "First things first, we should define our neural network by using pythons *classes* and more important, the pytorch nn.Module. Then, we initialize and determine the inputs: The class takes three arguments: Itself (so nn.Module), n inputs and n outputs, corresponding to our x and y data. \n",
    "We apply the super function in order to invoke the properties of the class.\n",
    "\n",
    "Then we define our first variables: \"self.in_layer\" and \"self.out_layer\".\n",
    "By using the linear function of the nn module, we define for the first variable, that it takes n inputs and n hidden layers. This is our input layer, so the information is forwarded from the n_input to n_hidden layers. The out_layer variable passed the input from the n_hidden layers to 26 output layers. 26 is chosen, because we want to predict 26 classes.\n",
    "\n",
    "We go on by defining the forward method. The forward method runs when calling the class as a function. It takes the z_maps as an input and passes it through the hidden layer to produce the weights and to finally pass it to the output layer, in order to predict the respective category.\n",
    "\n",
    "I definitely got a lot of help from the Neuromatch course on [computational neuroscience](https://colab.research.google.com/github/NeuromatchAcademy/course-content/blob/main/tutorials/W1D5_DeepLearning/student/W1D5_Tutorial1.ipynb#scrollTo=JFdPAcDx22RZ)."
   ]
  },
  {
   "cell_type": "code",
   "execution_count": 12,
   "id": "bcf84737",
   "metadata": {},
   "outputs": [],
   "source": [
    "class DecodingReLuNN(nn.Module):\n",
    "    def __init__(self,n_inputs,n_hidden):\n",
    "        super().__init__()\n",
    "        self.in_layer = nn.Linear(n_inputs,n_hidden)\n",
    "        self.out_layer = nn.Linear(n_hidden, 26)\n",
    "    def forward(self,V_P):\n",
    "    #Decode category from voxel pattern\n",
    "\n",
    "    #Args:\n",
    "     # Voxel_pattern (torch.Tensor): vector of neural responses to decode, must be of\n",
    "      #  length n_inputs. Can also be a tensor of shape n_stimuli x n_inputs,\n",
    "       # containing n_stimuli vectors of neural responses\n",
    "\n",
    "    #Returns:\n",
    "    #torch.Tensor: network outputs for each input provided in Voxel_pattern. If\n",
    "    #Voxel_pattern is a vector, then y is a 1D tensor of length 1. If Voxel_pattern is a 2D\n",
    "    #tensor then y is a 2D tensor of shape n_stimuli x 1.\n",
    "    \n",
    "        V_P = torch.relu(self.in_layer(V_P))\n",
    "        y = self.out_layer(V_P)\n",
    "        return y"
   ]
  },
  {
   "cell_type": "code",
   "execution_count": 13,
   "id": "354863f3",
   "metadata": {},
   "outputs": [
    {
     "name": "stdout",
     "output_type": "stream",
     "text": [
      "true category: tensor([ 3, 22, 24, 18, 20, 15, 16, 14,  9,  7, 11, 25,  0,  2,  1,  5, 10,  4,\n",
      "        13,  9, 16, 14,  8,  7, 17, 16, 17,  1, 19,  6, 25, 21, 23, 13, 24,  3,\n",
      "        17, 12,  8,  3,  6, 15, 10, 12,  5,  2, 24, 18, 20, 21,  9, 22, 18, 15,\n",
      "         6, 22, 11,  5, 23,  6, 19,  7, 11, 23, 11,  3,  1,  0, 21,  2, 23,  9,\n",
      "        16, 22,  8,  4, 20,  8, 19, 14, 14, 25, 24])\n",
      "Predicted category:tensor([ 1, 22, 15,  4, 22, 22,  4,  4, 22,  1, 22, 24,  9,  4, 24, 22,  4, 15,\n",
      "         4,  4, 22, 11,  4, 22,  4,  1,  1,  4, 22, 24, 22,  4,  4, 22, 22, 22,\n",
      "        22,  4, 22, 24, 22, 15,  4,  1,  1, 11,  4,  1,  4,  1, 22, 24,  1, 22,\n",
      "         1,  4, 24,  1, 11,  4, 24,  1,  4, 24,  4,  4, 22,  1, 22, 22, 22,  1,\n",
      "        24,  1, 24, 24, 22,  1, 24, 22,  1,  4,  1])\n",
      "cross entropy loss 3.2896008491516113\n"
     ]
    }
   ],
   "source": [
    "np.random.seed(1)\n",
    "torch.manual_seed(1)\n",
    "\n",
    "#Initialize a deep network with 10 hidden units\n",
    "net = DecodingReLuNN(X_tensor_train.shape[1], 20)\n",
    "\n",
    "# Get voxel pattern and predicted category for all stimuli\n",
    "V_P, category = X_tensor_train, Y_tensor_train \n",
    "\n",
    "# Decode category from these neural responses using initialized network\n",
    "out = net(V_P)  # compute output from network, equivalent to net.forward(r)\n",
    "loss_fn = nn.CrossEntropyLoss()\n",
    "\n",
    "# Evaluate Cross entropy loss\n",
    "loss = loss_fn(out, category)\n",
    "y_pred_probs = torch.softmax(out, dim=1) #get probability for given class\n",
    "y_preds = y_pred_probs.argmax(dim=1)\n",
    "print('true category: {}'.format(category))\n",
    "print('Predicted category:{}'.format(y_preds))\n",
    "print('cross entropy loss {}'.format(loss))"
   ]
  },
  {
   "cell_type": "code",
   "execution_count": 14,
   "id": "d9c31b71",
   "metadata": {},
   "outputs": [
    {
     "data": {
      "text/plain": [
       "83"
      ]
     },
     "execution_count": 14,
     "metadata": {},
     "output_type": "execute_result"
    }
   ],
   "source": [
    "len(y_preds)"
   ]
  },
  {
   "cell_type": "markdown",
   "id": "bc8e3cbc",
   "metadata": {},
   "source": [
    "Optimization with gradient descent and regularization (weight_decay)"
   ]
  },
  {
   "cell_type": "code",
   "execution_count": 15,
   "id": "2e7858bb",
   "metadata": {},
   "outputs": [],
   "source": [
    "def train(net, loss_fn, train_data, train_labels,\n",
    "          n_epochs=50, learning_rate=0.01):\n",
    "    optimizer = optim.SGD(net.parameters(), lr=learning_rate,weight_decay=1e-4)\n",
    "    train_loss = []\n",
    "    net.train()\n",
    "    for i in range(n_epochs):\n",
    "        out = net(train_data)  # compute network output from inputs in train_data\n",
    "        \n",
    "        # Clear previous gradients\n",
    "        optimizer.zero_grad()\n",
    "        # evaluate loss function\n",
    "        loss = loss_fn(out, train_labels)\n",
    "        # Compute gradients\n",
    "        loss.backward() \n",
    "        # Update weights\n",
    "        optimizer.step()\n",
    "        # Store current value of loss\n",
    "        train_loss.append(loss.item()) # .item() needed to transform the tensor output of loss_fn to a scalar\n",
    "        # Track progress\n",
    "        if (i + 1) % (n_epochs // 5) == 0:\n",
    "          print(f'iteration {i + 1}/{n_epochs} | loss: {loss.item():.3f}')\n",
    "    y_pred = torch.softmax(out,dim=1).argmax(dim=1)\n",
    "    \n",
    "    ##evaluating model\n",
    "    net.eval()\n",
    "    inputs,labels = X_tensor_test, Y_tensor_test\n",
    "    outputs = net(inputs)\n",
    "    test_loss = loss_fn(outputs,labels)\n",
    "    y_pred_test = torch.softmax(outputs,dim=1).argmax(dim=1)\n",
    "    return train_loss, y_pred, y_pred_test, test_loss"
   ]
  },
  {
   "cell_type": "code",
   "execution_count": 85,
   "id": "72478bec",
   "metadata": {},
   "outputs": [
    {
     "name": "stdout",
     "output_type": "stream",
     "text": [
      "iteration 160/800 | loss: 2.170\n",
      "iteration 320/800 | loss: 1.369\n",
      "iteration 480/800 | loss: 0.743\n",
      "iteration 640/800 | loss: 0.398\n",
      "iteration 800/800 | loss: 0.233\n"
     ]
    },
    {
     "data": {
      "image/png": "[encoded data removed]",
      "text/plain": [
       "<Figure size 432x288 with 1 Axes>"
      ]
     },
     "metadata": {
      "needs_background": "light"
     },
     "output_type": "display_data"
    }
   ],
   "source": [
    "# Set random seeds for reproducibility\n",
    "np.random.seed(1)\n",
    "torch.manual_seed(1)\n",
    "\n",
    "    # Initialize network with 50 hidden units\n",
    "net = DecodingReLuNN(X_tensor_train.shape[1], 50)\n",
    "\n",
    "    # Initialize built-in PyTorch Crossentrop loss function\n",
    "loss_fn = nn.CrossEntropyLoss()\n",
    "\n",
    "    # Run gradient descent on data\n",
    "train_loss,y_pred,y_pred_test,test_loss = train(net,loss_fn,X_tensor_train,Y_tensor_train,\n",
    "                                      n_epochs = 800,learning_rate=0.01)\n",
    "  \n",
    "\n",
    "    # Plot the training loss over iterations of GD\n",
    "    \n",
    "plt.plot(train_loss)\n",
    "\n",
    "plt.xlabel('iterations of gradient descent')\n",
    "plt.ylabel('Cross entropy')\n",
    "plt.show()"
   ]
  },
  {
   "cell_type": "code",
   "execution_count": 18,
   "id": "3bcb7f10",
   "metadata": {},
   "outputs": [
    {
     "data": {
      "text/plain": [
       "<AxesSubplot:>"
      ]
     },
     "execution_count": 18,
     "metadata": {},
     "output_type": "execute_result"
    },
    {
     "data": {
      "image/png": "[encoded data removed]",
      "text/plain": [
       "<Figure size 432x288 with 2 Axes>"
      ]
     },
     "metadata": {
      "needs_background": "light"
     },
     "output_type": "display_data"
    }
   ],
   "source": [
    "from sklearn.metrics import confusion_matrix\n",
    "import seaborn as sns\n",
    "cf_matrix_train = confusion_matrix(Y_tensor_train, y_pred)\n",
    "\n",
    "sns.heatmap(cf_matrix_train, annot = True)"
   ]
  },
  {
   "cell_type": "code",
   "execution_count": 79,
   "id": "f50f241d",
   "metadata": {},
   "outputs": [
    {
     "data": {
      "text/plain": [
       "1.0"
      ]
     },
     "execution_count": 79,
     "metadata": {},
     "output_type": "execute_result"
    }
   ],
   "source": [
    "from sklearn.metrics import accuracy_score\n",
    "\n",
    "accuracy_score(Y_tensor_train,y_pred)"
   ]
  },
  {
   "cell_type": "code",
   "execution_count": 84,
   "id": "3fdbc515",
   "metadata": {},
   "outputs": [
    {
     "data": {
      "text/plain": [
       "<AxesSubplot:>"
      ]
     },
     "execution_count": 84,
     "metadata": {},
     "output_type": "execute_result"
    },
    {
     "data": {
      "image/png": "[encoded data removed]",
      "text/plain": [
       "<Figure size 432x288 with 2 Axes>"
      ]
     },
     "metadata": {
      "needs_background": "light"
     },
     "output_type": "display_data"
    }
   ],
   "source": [
    "cf_matrix_test = confusion_matrix(Y_tensor_test, y_pred_test)\n",
    "\n",
    "sns.heatmap(cf_matrix_test, annot = True)"
   ]
  },
  {
   "cell_type": "code",
   "execution_count": 86,
   "id": "58443fab",
   "metadata": {},
   "outputs": [
    {
     "data": {
      "text/plain": [
       "0.038461538461538464"
      ]
     },
     "execution_count": 86,
     "metadata": {},
     "output_type": "execute_result"
    }
   ],
   "source": [
    "accuracy_score(Y_tensor_test,y_pred_test)"
   ]
  },
  {
   "cell_type": "markdown",
   "id": "4d4213b8",
   "metadata": {},
   "source": [
    "Not sure if I did all steps correct, but 0 accuracy is a nice replication!!!"
   ]
  }
 ],
 "metadata": {
  "kernelspec": {
   "display_name": "neuro_ai",
   "language": "python",
   "name": "neuro_ai"
  },
  "language_info": {
   "codemirror_mode": {
    "name": "ipython",
    "version": 3
   },
   "file_extension": ".py",
   "mimetype": "text/x-python",
   "name": "python",
   "nbconvert_exporter": "python",
   "pygments_lexer": "ipython3",
   "version": "3.7.0"
  }
 },
 "nbformat": 4,
 "nbformat_minor": 5
}
