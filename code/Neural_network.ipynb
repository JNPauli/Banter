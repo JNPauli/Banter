{
 "cells": [
  {
   "cell_type": "markdown",
   "id": "842c25bf",
   "metadata": {},
   "source": [
    "## **0. Introduction**"
   ]
  },
  {
   "cell_type": "markdown",
   "id": "289e0a97",
   "metadata": {},
   "source": [
    "This notebook continues the series of machine learning techniques with the goal to decode the brain activitiy given the respective categories. Unfortunately, neither the LogReg nor the SVM produced any results that back the initial hypothesis. Still, we will set up the Neuralnetwork for the purpose of learning the respective technique."
   ]
  },
  {
   "cell_type": "markdown",
   "id": "94fa829d",
   "metadata": {},
   "source": [
    "## **1.0 Loading the data**"
   ]
  },
  {
   "cell_type": "code",
   "execution_count": 3,
   "id": "51973365",
   "metadata": {},
   "outputs": [],
   "source": [
    "import os\n",
    "os.chdir(\"/home/jpauli/ds001506/sourcedata/sub-01/anat\")"
   ]
  },
  {
   "cell_type": "code",
   "execution_count": 4,
   "id": "7e5dd4f2",
   "metadata": {},
   "outputs": [],
   "source": [
    "mask_img_path = '/home/jpauli/ds001506/sourcedata/sub-01/anat'\n",
    "mask_img_L = os.path.join(mask_img_path,'sub-01_mask_LH_V1v.nii.gz')\n",
    "mask_img_R = os.path.join(mask_img_path,'sub-01_mask_RH_LOC.nii.gz')"
   ]
  },
  {
   "cell_type": "code",
   "execution_count": 5,
   "id": "58c2269a",
   "metadata": {},
   "outputs": [],
   "source": [
    "from nilearn.maskers import NiftiMasker\n",
    "nifti_masker = NiftiMasker(mask_img=mask_img_L)"
   ]
  },
  {
   "cell_type": "code",
   "execution_count": 14,
   "id": "32e72e27",
   "metadata": {},
   "outputs": [],
   "source": [
    "import numpy as np\n",
    "import pandas as pd\n",
    "X = []\n",
    "Y = []\n",
    "Sessions = []\n",
    "category = 1\n",
    "for session in [\"1\",\"2\",\"3\",\"4\"]:\n",
    "    os.chdir('/mnt/c/Users/janos/git/sessions_new/z_maps_{}'.format(session))\n",
    "    for x in os.listdir():\n",
    "        if x == 'nilearn_cache':\n",
    "            continue\n",
    "        else:\n",
    "            X.append(nifti_masker.fit_transform(x))\n",
    "            Y.append(category)\n",
    "            Sessions.append(session)\n",
    "            category=category+1\n",
    "            if category == 27:\n",
    "                category = 1\n",
    "\n",
    "Y = np.array(Y)\n",
    "df =  pd.DataFrame(np.concatenate(X))\n",
    "X_ = df.to_numpy()"
   ]
  },
  {
   "cell_type": "markdown",
   "id": "f78c5251",
   "metadata": {},
   "source": [
    "General imports of pytorch modules needed to define the network."
   ]
  },
  {
   "cell_type": "code",
   "execution_count": 19,
   "id": "a72a1e0a",
   "metadata": {},
   "outputs": [],
   "source": [
    "import torch\n",
    "import torch.nn.functional as F\n",
    "from torch import nn"
   ]
  }
 ],
 "metadata": {
  "kernelspec": {
   "display_name": "neuro_ai",
   "language": "python",
   "name": "neuro_ai"
  },
  "language_info": {
   "codemirror_mode": {
    "name": "ipython",
    "version": 3
   },
   "file_extension": ".py",
   "mimetype": "text/x-python",
   "name": "python",
   "nbconvert_exporter": "python",
   "pygments_lexer": "ipython3",
   "version": "3.7.0"
  }
 },
 "nbformat": 4,
 "nbformat_minor": 5
}
