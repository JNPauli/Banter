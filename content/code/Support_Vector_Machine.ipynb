{
 "cells": [
  {
   "cell_type": "markdown",
   "id": "c5dd6d05",
   "metadata": {},
   "source": [
    "## **0. Introduction**"
   ]
  },
  {
   "cell_type": "markdown",
   "id": "5a7ef9b8",
   "metadata": {},
   "source": [
    "This notebook follows after the \"Logistic_Regression.iypnb\" notebook. Aim of this notebook is to conduct the Support Vector Machine algorithm. "
   ]
  },
  {
   "cell_type": "markdown",
   "id": "95da3f27",
   "metadata": {},
   "source": [
    "## **1. Masking**"
   ]
  },
  {
   "cell_type": "markdown",
   "id": "98d68ef0",
   "metadata": {},
   "source": [
    "As in the Logistic Regression notebook, we will first load the masks, load the data and then apply the mask. I will not explain each step, because this has already been described in the aformentioned notebook."
   ]
  },
  {
   "cell_type": "code",
   "execution_count": 1,
   "id": "a7391cfc",
   "metadata": {},
   "outputs": [
    {
     "data": {
      "text/plain": [
       "['sub-01_mask_LH_FFA.nii.gz',\n",
       " 'sub-01_mask_LH_hV4.nii.gz',\n",
       " 'sub-01_mask_LH_HVC.nii.gz',\n",
       " 'sub-01_mask_LH_LOC.nii.gz',\n",
       " 'sub-01_mask_LH_PPA.nii.gz',\n",
       " 'sub-01_mask_LH_V1d.nii.gz',\n",
       " 'sub-01_mask_LH_V1v.nii.gz',\n",
       " 'sub-01_mask_LH_V2d.nii.gz',\n",
       " 'sub-01_mask_LH_V2v.nii.gz',\n",
       " 'sub-01_mask_LH_V3d.nii.gz',\n",
       " 'sub-01_mask_LH_V3v.nii.gz',\n",
       " 'sub-01_mask_RH_FFA.nii.gz',\n",
       " 'sub-01_mask_RH_hV4.nii.gz',\n",
       " 'sub-01_mask_RH_HVC.nii.gz',\n",
       " 'sub-01_mask_RH_LOC.nii.gz',\n",
       " 'sub-01_mask_RH_PPA.nii.gz',\n",
       " 'sub-01_mask_RH_V1d.nii.gz',\n",
       " 'sub-01_mask_RH_V1v.nii.gz',\n",
       " 'sub-01_mask_RH_V2d.nii.gz',\n",
       " 'sub-01_mask_RH_V2v.nii.gz',\n",
       " 'sub-01_mask_RH_V3d.nii.gz',\n",
       " 'sub-01_mask_RH_V3v.nii.gz']"
      ]
     },
     "execution_count": 1,
     "metadata": {},
     "output_type": "execute_result"
    }
   ],
   "source": [
    "import os\n",
    "\n",
    "os.chdir(\"/home/jpauli/ds001506/sourcedata/sub-01/anat\")\n",
    "os.listdir()"
   ]
  },
  {
   "cell_type": "code",
   "execution_count": 4,
   "id": "9d80f9ea",
   "metadata": {},
   "outputs": [],
   "source": [
    "mask_img_path = '/home/jpauli/ds001506/sourcedata/sub-01/anat'\n",
    "mask_img = os.path.join(mask_img_path,'sub-01_mask_LH_HVC.nii.gz')"
   ]
  },
  {
   "cell_type": "markdown",
   "id": "8848989a",
   "metadata": {},
   "source": [
    "Just for the sake of trying something out, I choose a different mask this time. Instead of the v1 its going to be the **higher** visual cortex.\n",
    "\n",
    "Also, for demonstration purposes, I will conduct the SVM with the z-maps **across** runs. A PCA on the z-maps across runs will follow to further illustrate the session specific variance issue."
   ]
  },
  {
   "cell_type": "code",
   "execution_count": 5,
   "id": "85c4edfc",
   "metadata": {},
   "outputs": [],
   "source": [
    "from nilearn.maskers import NiftiMasker\n",
    "nifti_masker = NiftiMasker(mask_img=mask_img)"
   ]
  },
  {
   "cell_type": "code",
   "execution_count": 7,
   "id": "d26e8150",
   "metadata": {},
   "outputs": [],
   "source": [
    "X = []\n",
    "y = []\n",
    "Sessions = []\n",
    "category = 1\n",
    "for session in [\"1\",\"2\",\"3\",\"4\"]:\n",
    "    os.chdir('/mnt/c/Users/janos/git/sessions_new/z_maps_{}'.format(session))\n",
    "    for x in os.listdir():\n",
    "        if x == 'nilearn_cache':\n",
    "            continue\n",
    "        else:\n",
    "            X.append(nifti_masker.fit_transform(x))\n",
    "            y.append(category)\n",
    "            Sessions.append(session)\n",
    "            category=category+1\n",
    "            if category == 27:\n",
    "                category = 1"
   ]
  },
  {
   "cell_type": "code",
   "execution_count": 9,
   "id": "317acda6",
   "metadata": {},
   "outputs": [],
   "source": [
    "import numpy as np\n",
    "import pandas as pd\n",
    "\n",
    "y = np.array(y)\n",
    "Y_ses = np.array(Sessions)\n",
    "df =  pd.DataFrame(np.concatenate(X))\n",
    "X = df.to_numpy()\n",
    "\n",
    "\n"
   ]
  },
  {
   "cell_type": "code",
   "execution_count": 12,
   "id": "0ce2d70b",
   "metadata": {},
   "outputs": [
    {
     "name": "stdout",
     "output_type": "stream",
     "text": [
      "Our model takes (2293,) features/voxels and (104,) samples as an input\n"
     ]
    }
   ],
   "source": [
    "print('Our model takes {} features/voxels and {} samples as an input'.format(X[0,:].shape, X[:,0].shape))"
   ]
  },
  {
   "cell_type": "markdown",
   "id": "662a48ad",
   "metadata": {},
   "source": [
    "After checking the shape of our input data, we observe differences. We have far more features and far less samples. In theory, this does not benefit our model, since this just provokes overfitting. \n",
    "\n",
    "Like in the logistic regression notebook, I also tried a bunch of different techniques. This notebook will run the SVM on the aforementioned data. Sklearns feature selection modules [SelectKBest](https://scikit-learn.org/stable/modules/generated/sklearn.feature_selection.SelectKBest.html) and the hyperparameter tuning method [Gridsearch](https://scikit-learn.org/stable/modules/grid_search.html#exhaustive-grid-search) are demonstrated.\n",
    "\n",
    "So lets jump straight in by splitting our data into training and testing variables with sklearns [train_test_split](https://scikit-learn.org/stable/modules/generated/sklearn.model_selection.train_test_split.html) method."
   ]
  },
  {
   "cell_type": "markdown",
   "id": "32cd11ab",
   "metadata": {},
   "source": [
    "## **1.0 Support Vector Machine**"
   ]
  },
  {
   "cell_type": "markdown",
   "id": "16bbc9b3",
   "metadata": {},
   "source": [
    "\n",
    "\n",
    "Next step: Choosing our feature selection method."
   ]
  },
  {
   "cell_type": "markdown",
   "id": "3481837a",
   "metadata": {},
   "source": [
    "We will use the **k**-best features from our 2293 features. The goal is to prevent overfitting by reducing features. \n",
    "The k-best methods works like this:\n",
    "\n",
    "\"Function taking two arrays X and y, and returning a pair of arrays (scores, pvalues) or a single array with scores. Default is f_classif (see below “See Also”). The default function only works with classification tasks.\"\n",
    "\n",
    "[SOURCE](https://scikit-learn.org/stable/modules/generated/sklearn.feature_selection.SelectKBest.html)\n",
    "\n",
    "So lets set k = 10 and continue running the SVM with our 10 best features!"
   ]
  },
  {
   "cell_type": "code",
   "execution_count": 18,
   "id": "4bca1830",
   "metadata": {},
   "outputs": [],
   "source": [
    "from sklearn.feature_selection import SelectKBest\n",
    "from sklearn.feature_selection import f_classif\n",
    "\n",
    "X_kb= SelectKBest(f_classif, k=10).fit_transform(X, y)"
   ]
  },
  {
   "cell_type": "code",
   "execution_count": 19,
   "id": "75f97c0d",
   "metadata": {},
   "outputs": [
    {
     "name": "stdout",
     "output_type": "stream",
     "text": [
      "Please note the newly obtained shape of the input matrix X: (104, 10)\n"
     ]
    }
   ],
   "source": [
    "print('Please note the newly obtained shape of the input matrix X: {}'.format(X_kb.shape))"
   ]
  },
  {
   "cell_type": "code",
   "execution_count": 20,
   "id": "26a94b03",
   "metadata": {},
   "outputs": [],
   "source": [
    "from sklearn.model_selection import train_test_split\n",
    "\n",
    "# Split dataset into training set and test set\n",
    "X_train, X_test, y_train, y_test = train_test_split(X_kb, y, test_size=0.2,random_state=42)"
   ]
  },
  {
   "cell_type": "markdown",
   "id": "0354ef31",
   "metadata": {},
   "source": [
    "We choose a 80/20 split, meaning that 80% of our data will be used for training the data and 20% for testing the data.\n",
    "\n",
    "Random state is set to 42 for reproduction reasons"
   ]
  },
  {
   "cell_type": "markdown",
   "id": "4a04e696",
   "metadata": {},
   "source": [
    "We will normalize the data as usual..."
   ]
  },
  {
   "cell_type": "code",
   "execution_count": 21,
   "id": "8f30c78c",
   "metadata": {},
   "outputs": [],
   "source": [
    "from sklearn import preprocessing\n",
    "scaler = preprocessing.StandardScaler()\n",
    "X_train = scaler.fit_transform(X_train)"
   ]
  },
  {
   "cell_type": "markdown",
   "id": "856dc243",
   "metadata": {},
   "source": [
    "<div class=\"alert alert-block alert-success\">\n",
    "Now its time to run the svm. Luckily enough, sklearn provides a method for the svm. We will define our model very naive and fit it on the data, check our classification report and confusion matrix as usual. Then we start sklearns gridsearch to tune the hyperparameters.\n",
    "\n",
    "The following parameters can be tuned:\n",
    "**gamma**, **C**. **The kernel** can also be adapted. We will start with random values of gamme = 1,  C = 0.1 and a linear kernel.</div>"
   ]
  },
  {
   "cell_type": "code",
   "execution_count": 24,
   "id": "ada35b8f",
   "metadata": {},
   "outputs": [
    {
     "name": "stdout",
     "output_type": "stream",
     "text": [
      "              precision    recall  f1-score   support\n",
      "\n",
      "           1       0.00      0.00      0.00         2\n",
      "           2       0.00      0.00      0.00         3\n",
      "           3       0.00      0.00      0.00         3\n",
      "           4       0.29      0.50      0.36         4\n",
      "           5       0.00      0.00      0.00         2\n",
      "           6       0.50      0.33      0.40         3\n",
      "           7       0.33      0.25      0.29         4\n",
      "           8       0.00      0.00      0.00         3\n",
      "           9       0.22      0.50      0.31         4\n",
      "          10       0.50      0.75      0.60         4\n",
      "          11       0.00      0.00      0.00         2\n",
      "          12       0.25      0.75      0.38         4\n",
      "          13       0.00      0.00      0.00         2\n",
      "          14       0.00      0.00      0.00         2\n",
      "          15       0.30      0.75      0.43         4\n",
      "          16       1.00      0.33      0.50         3\n",
      "          17       0.22      0.50      0.31         4\n",
      "          18       0.00      0.00      0.00         3\n",
      "          19       0.00      0.00      0.00         3\n",
      "          20       0.00      0.00      0.00         3\n",
      "          21       0.00      0.00      0.00         3\n",
      "          22       0.00      0.00      0.00         3\n",
      "          23       0.29      0.50      0.36         4\n",
      "          24       0.29      0.50      0.36         4\n",
      "          25       0.20      0.50      0.29         4\n",
      "          26       0.00      0.00      0.00         3\n",
      "\n",
      "    accuracy                           0.29        83\n",
      "   macro avg       0.17      0.24      0.18        83\n",
      "weighted avg       0.19      0.29      0.21        83\n",
      "\n"
     ]
    },
    {
     "name": "stderr",
     "output_type": "stream",
     "text": [
      "/home/jpauli/miniconda3/envs/neuro_ai/lib/python3.7/site-packages/sklearn/metrics/_classification.py:1318: UndefinedMetricWarning: Precision and F-score are ill-defined and being set to 0.0 in labels with no predicted samples. Use `zero_division` parameter to control this behavior.\n",
      "  _warn_prf(average, modifier, msg_start, len(result))\n",
      "/home/jpauli/miniconda3/envs/neuro_ai/lib/python3.7/site-packages/sklearn/metrics/_classification.py:1318: UndefinedMetricWarning: Precision and F-score are ill-defined and being set to 0.0 in labels with no predicted samples. Use `zero_division` parameter to control this behavior.\n",
      "  _warn_prf(average, modifier, msg_start, len(result))\n",
      "/home/jpauli/miniconda3/envs/neuro_ai/lib/python3.7/site-packages/sklearn/metrics/_classification.py:1318: UndefinedMetricWarning: Precision and F-score are ill-defined and being set to 0.0 in labels with no predicted samples. Use `zero_division` parameter to control this behavior.\n",
      "  _warn_prf(average, modifier, msg_start, len(result))\n"
     ]
    }
   ],
   "source": [
    "from sklearn import svm\n",
    "from sklearn.metrics import classification_report, confusion_matrix\n",
    "clf = svm.SVC(gamma = 1,C = 0.1, kernel='linear') # Linear Kernel\n",
    "\n",
    "clf.fit(X_train, y_train)\n",
    "\n",
    "y_pred = clf.predict(X_train)\n",
    "print(classification_report(y_train, y_pred))"
   ]
  },
  {
   "cell_type": "code",
   "execution_count": 30,
   "id": "ab346d95",
   "metadata": {},
   "outputs": [
    {
     "name": "stdout",
     "output_type": "stream",
     "text": [
      "              precision    recall  f1-score   support\n",
      "\n",
      "           1       0.00      0.00      0.00       2.0\n",
      "           2       0.00      0.00      0.00       1.0\n",
      "           3       0.00      0.00      0.00       1.0\n",
      "           4       0.00      0.00      0.00       0.0\n",
      "           5       0.00      0.00      0.00       2.0\n",
      "           6       0.00      0.00      0.00       1.0\n",
      "           7       0.00      0.00      0.00       0.0\n",
      "           8       0.00      0.00      0.00       1.0\n",
      "           9       0.00      0.00      0.00       0.0\n",
      "          10       0.00      0.00      0.00       0.0\n",
      "          11       0.00      0.00      0.00       2.0\n",
      "          12       0.00      0.00      0.00       0.0\n",
      "          13       0.00      0.00      0.00       2.0\n",
      "          14       0.00      0.00      0.00       2.0\n",
      "          15       0.00      0.00      0.00       0.0\n",
      "          16       0.00      0.00      0.00       1.0\n",
      "          17       0.00      0.00      0.00       0.0\n",
      "          18       0.00      0.00      0.00       1.0\n",
      "          19       0.00      0.00      0.00       1.0\n",
      "          20       0.00      0.00      0.00       1.0\n",
      "          21       0.00      0.00      0.00       1.0\n",
      "          22       0.00      0.00      0.00       1.0\n",
      "          23       0.00      0.00      0.00       0.0\n",
      "          24       0.00      0.00      0.00       0.0\n",
      "          25       0.00      0.00      0.00       0.0\n",
      "          26       0.00      0.00      0.00       1.0\n",
      "\n",
      "    accuracy                           0.00      21.0\n",
      "   macro avg       0.00      0.00      0.00      21.0\n",
      "weighted avg       0.00      0.00      0.00      21.0\n",
      "\n"
     ]
    },
    {
     "name": "stderr",
     "output_type": "stream",
     "text": [
      "/home/jpauli/miniconda3/envs/neuro_ai/lib/python3.7/site-packages/sklearn/metrics/_classification.py:1318: UndefinedMetricWarning: Precision and F-score are ill-defined and being set to 0.0 in labels with no predicted samples. Use `zero_division` parameter to control this behavior.\n",
      "  _warn_prf(average, modifier, msg_start, len(result))\n",
      "/home/jpauli/miniconda3/envs/neuro_ai/lib/python3.7/site-packages/sklearn/metrics/_classification.py:1318: UndefinedMetricWarning: Recall and F-score are ill-defined and being set to 0.0 in labels with no true samples. Use `zero_division` parameter to control this behavior.\n",
      "  _warn_prf(average, modifier, msg_start, len(result))\n",
      "/home/jpauli/miniconda3/envs/neuro_ai/lib/python3.7/site-packages/sklearn/metrics/_classification.py:1318: UndefinedMetricWarning: Precision and F-score are ill-defined and being set to 0.0 in labels with no predicted samples. Use `zero_division` parameter to control this behavior.\n",
      "  _warn_prf(average, modifier, msg_start, len(result))\n",
      "/home/jpauli/miniconda3/envs/neuro_ai/lib/python3.7/site-packages/sklearn/metrics/_classification.py:1318: UndefinedMetricWarning: Recall and F-score are ill-defined and being set to 0.0 in labels with no true samples. Use `zero_division` parameter to control this behavior.\n",
      "  _warn_prf(average, modifier, msg_start, len(result))\n",
      "/home/jpauli/miniconda3/envs/neuro_ai/lib/python3.7/site-packages/sklearn/metrics/_classification.py:1318: UndefinedMetricWarning: Precision and F-score are ill-defined and being set to 0.0 in labels with no predicted samples. Use `zero_division` parameter to control this behavior.\n",
      "  _warn_prf(average, modifier, msg_start, len(result))\n",
      "/home/jpauli/miniconda3/envs/neuro_ai/lib/python3.7/site-packages/sklearn/metrics/_classification.py:1318: UndefinedMetricWarning: Recall and F-score are ill-defined and being set to 0.0 in labels with no true samples. Use `zero_division` parameter to control this behavior.\n",
      "  _warn_prf(average, modifier, msg_start, len(result))\n"
     ]
    }
   ],
   "source": [
    "y_pred_test = clf.predict(scaler.transform(X_test))\n",
    "print(classification_report(y_test, y_pred_test))"
   ]
  },
  {
   "cell_type": "markdown",
   "id": "886699be",
   "metadata": {},
   "source": [
    "We notice that the SVM performs not great on the training data, with accuracies around 30%. Not extremly horrible, but this can be adapted. The performance on the testing data, as usual, is around 0%... yeah.\n",
    "\n",
    "We can plot the confusion matrices before continuing with the gridsearch."
   ]
  },
  {
   "cell_type": "code",
   "execution_count": 27,
   "id": "7acaf853",
   "metadata": {},
   "outputs": [
    {
     "data": {
      "image/png": "[encoded data removed]",
      "text/plain": [
       "<Figure size 432x288 with 2 Axes>"
      ]
     },
     "metadata": {
      "needs_background": "light"
     },
     "output_type": "display_data"
    }
   ],
   "source": [
    "import seaborn as sns\n",
    "cf_matrix_train = confusion_matrix(y_train, y_pred)\n",
    "sns.heatmap(cf_matrix_train, annot = True).set(title='Confusion matrix for the training set');"
   ]
  },
  {
   "cell_type": "code",
   "execution_count": 28,
   "id": "d2c0cc09",
   "metadata": {},
   "outputs": [
    {
     "data": {
      "image/png": "[encoded data removed]",
      "text/plain": [
       "<Figure size 432x288 with 2 Axes>"
      ]
     },
     "metadata": {
      "needs_background": "light"
     },
     "output_type": "display_data"
    }
   ],
   "source": [
    "cf_matrix_test = confusion_matrix(y_test, y_pred_test)\n",
    "sns.heatmap(cf_matrix_test, annot = True).set(title='Confusion matrix for the testing set');"
   ]
  },
  {
   "cell_type": "markdown",
   "id": "9de560ca",
   "metadata": {},
   "source": [
    "So lets continue with sklearns GridSearchCV.\n",
    "\n",
    "This methods works like this:\n",
    "\n",
    "We set up a **parameter_grid** with the parameters we want to tune. We also set a bunch of options, i.e different values for C, gamma and the kernel. Gridsearch will now fit the model with all those different combinations and provide us with an answer, which hyperparameters lead to the best results.\n",
    "\n",
    "Without further ado, lets import the GridSearchCV method and run our model."
   ]
  },
  {
   "cell_type": "code",
   "execution_count": 31,
   "id": "172185e0",
   "metadata": {},
   "outputs": [],
   "source": [
    "from sklearn.model_selection import GridSearchCV"
   ]
  },
  {
   "cell_type": "code",
   "execution_count": 32,
   "id": "fcf40d8c",
   "metadata": {},
   "outputs": [],
   "source": [
    "# defining parameter range\n",
    "param_grid = {'C': [0.1, 1, 10, 100, 1000], \n",
    "              'gamma': [1, 0.1, 0.01, 0.001, 0.0001],\n",
    "              'kernel': ['linear','poly','rbf','sigmoid']} "
   ]
  },
  {
   "cell_type": "code",
   "execution_count": 43,
   "id": "0f2b53d4",
   "metadata": {},
   "outputs": [
    {
     "name": "stdout",
     "output_type": "stream",
     "text": [
      "Fitting 3 folds for each of 100 candidates, totalling 300 fits\n",
      "[CV] END ......................C=0.1, gamma=1, kernel=linear; total time=   0.0s\n",
      "[CV] END ......................C=0.1, gamma=1, kernel=linear; total time=   0.0s\n",
      "[CV] END ......................C=0.1, gamma=1, kernel=linear; total time=   0.0s\n",
      "[CV] END ........................C=0.1, gamma=1, kernel=poly; total time=   0.0s\n",
      "[CV] END ........................C=0.1, gamma=1, kernel=poly; total time=   0.0s\n",
      "[CV] END ........................C=0.1, gamma=1, kernel=poly; total time=   0.0s\n",
      "[CV] END .........................C=0.1, gamma=1, kernel=rbf; total time=   0.0s\n",
      "[CV] END .........................C=0.1, gamma=1, kernel=rbf; total time=   0.0s\n",
      "[CV] END .........................C=0.1, gamma=1, kernel=rbf; total time=   0.0s\n",
      "[CV] END .....................C=0.1, gamma=1, kernel=sigmoid; total time=   0.0s\n",
      "[CV] END .....................C=0.1, gamma=1, kernel=sigmoid; total time=   0.0s\n",
      "[CV] END .....................C=0.1, gamma=1, kernel=sigmoid; total time=   0.0s\n",
      "[CV] END ....................C=0.1, gamma=0.1, kernel=linear; total time=   0.0s\n",
      "[CV] END ....................C=0.1, gamma=0.1, kernel=linear; total time=   0.0s\n",
      "[CV] END ....................C=0.1, gamma=0.1, kernel=linear; total time=   0.0s\n",
      "[CV] END ......................C=0.1, gamma=0.1, kernel=poly; total time=   0.0s\n",
      "[CV] END ......................C=0.1, gamma=0.1, kernel=poly; total time=   0.0s\n",
      "[CV] END ......................C=0.1, gamma=0.1, kernel=poly; total time=   0.0s\n",
      "[CV] END .......................C=0.1, gamma=0.1, kernel=rbf; total time=   0.0s\n",
      "[CV] END .......................C=0.1, gamma=0.1, kernel=rbf; total time=   0.0s\n",
      "[CV] END .......................C=0.1, gamma=0.1, kernel=rbf; total time=   0.0s\n",
      "[CV] END ...................C=0.1, gamma=0.1, kernel=sigmoid; total time=   0.0s\n",
      "[CV] END ...................C=0.1, gamma=0.1, kernel=sigmoid; total time=   0.0s\n",
      "[CV] END ...................C=0.1, gamma=0.1, kernel=sigmoid; total time=   0.0s\n",
      "[CV] END ...................C=0.1, gamma=0.01, kernel=linear; total time=   0.0s\n",
      "[CV] END ...................C=0.1, gamma=0.01, kernel=linear; total time=   0.0s\n",
      "[CV] END ...................C=0.1, gamma=0.01, kernel=linear; total time=   0.0s\n",
      "[CV] END .....................C=0.1, gamma=0.01, kernel=poly; total time=   0.0s\n"
     ]
    },
    {
     "name": "stderr",
     "output_type": "stream",
     "text": [
      "/home/jpauli/miniconda3/envs/neuro_ai/lib/python3.7/site-packages/sklearn/model_selection/_split.py:680: UserWarning: The least populated class in y has only 2 members, which is less than n_splits=3.\n",
      "  UserWarning,\n"
     ]
    },
    {
     "name": "stdout",
     "output_type": "stream",
     "text": [
      "[CV] END .....................C=0.1, gamma=0.01, kernel=poly; total time=   0.0s\n",
      "[CV] END .....................C=0.1, gamma=0.01, kernel=poly; total time=   0.0s\n",
      "[CV] END ......................C=0.1, gamma=0.01, kernel=rbf; total time=   0.0s\n",
      "[CV] END ......................C=0.1, gamma=0.01, kernel=rbf; total time=   0.0s\n",
      "[CV] END ......................C=0.1, gamma=0.01, kernel=rbf; total time=   0.0s\n",
      "[CV] END ..................C=0.1, gamma=0.01, kernel=sigmoid; total time=   0.0s\n",
      "[CV] END ..................C=0.1, gamma=0.01, kernel=sigmoid; total time=   0.0s\n",
      "[CV] END ..................C=0.1, gamma=0.01, kernel=sigmoid; total time=   0.0s\n",
      "[CV] END ..................C=0.1, gamma=0.001, kernel=linear; total time=   0.0s\n",
      "[CV] END ..................C=0.1, gamma=0.001, kernel=linear; total time=   0.0s\n",
      "[CV] END ..................C=0.1, gamma=0.001, kernel=linear; total time=   0.0s\n",
      "[CV] END ....................C=0.1, gamma=0.001, kernel=poly; total time=   0.0s\n",
      "[CV] END ....................C=0.1, gamma=0.001, kernel=poly; total time=   0.0s\n",
      "[CV] END ....................C=0.1, gamma=0.001, kernel=poly; total time=   0.0s\n",
      "[CV] END .....................C=0.1, gamma=0.001, kernel=rbf; total time=   0.0s\n",
      "[CV] END .....................C=0.1, gamma=0.001, kernel=rbf; total time=   0.0s\n",
      "[CV] END .....................C=0.1, gamma=0.001, kernel=rbf; total time=   0.0s\n",
      "[CV] END .................C=0.1, gamma=0.001, kernel=sigmoid; total time=   0.0s\n",
      "[CV] END .................C=0.1, gamma=0.001, kernel=sigmoid; total time=   0.0s\n",
      "[CV] END .................C=0.1, gamma=0.001, kernel=sigmoid; total time=   0.0s\n",
      "[CV] END .................C=0.1, gamma=0.0001, kernel=linear; total time=   0.0s\n",
      "[CV] END .................C=0.1, gamma=0.0001, kernel=linear; total time=   0.0s\n",
      "[CV] END .................C=0.1, gamma=0.0001, kernel=linear; total time=   0.0s\n",
      "[CV] END ...................C=0.1, gamma=0.0001, kernel=poly; total time=   0.0s\n",
      "[CV] END ...................C=0.1, gamma=0.0001, kernel=poly; total time=   0.0s\n",
      "[CV] END ...................C=0.1, gamma=0.0001, kernel=poly; total time=   0.0s\n",
      "[CV] END ....................C=0.1, gamma=0.0001, kernel=rbf; total time=   0.0s\n",
      "[CV] END ....................C=0.1, gamma=0.0001, kernel=rbf; total time=   0.0s\n",
      "[CV] END ....................C=0.1, gamma=0.0001, kernel=rbf; total time=   0.0s\n",
      "[CV] END ................C=0.1, gamma=0.0001, kernel=sigmoid; total time=   0.0s\n",
      "[CV] END ................C=0.1, gamma=0.0001, kernel=sigmoid; total time=   0.0s\n",
      "[CV] END ................C=0.1, gamma=0.0001, kernel=sigmoid; total time=   0.0s\n",
      "[CV] END ........................C=1, gamma=1, kernel=linear; total time=   0.0s\n",
      "[CV] END ........................C=1, gamma=1, kernel=linear; total time=   0.0s\n",
      "[CV] END ........................C=1, gamma=1, kernel=linear; total time=   0.0s\n",
      "[CV] END ..........................C=1, gamma=1, kernel=poly; total time=   0.0s\n",
      "[CV] END ..........................C=1, gamma=1, kernel=poly; total time=   0.0s\n",
      "[CV] END ..........................C=1, gamma=1, kernel=poly; total time=   0.0s\n",
      "[CV] END ...........................C=1, gamma=1, kernel=rbf; total time=   0.0s\n",
      "[CV] END ...........................C=1, gamma=1, kernel=rbf; total time=   0.0s\n",
      "[CV] END ...........................C=1, gamma=1, kernel=rbf; total time=   0.0s\n",
      "[CV] END .......................C=1, gamma=1, kernel=sigmoid; total time=   0.0s\n",
      "[CV] END .......................C=1, gamma=1, kernel=sigmoid; total time=   0.0s\n",
      "[CV] END .......................C=1, gamma=1, kernel=sigmoid; total time=   0.0s\n",
      "[CV] END ......................C=1, gamma=0.1, kernel=linear; total time=   0.0s\n",
      "[CV] END ......................C=1, gamma=0.1, kernel=linear; total time=   0.0s\n",
      "[CV] END ......................C=1, gamma=0.1, kernel=linear; total time=   0.0s\n",
      "[CV] END ........................C=1, gamma=0.1, kernel=poly; total time=   0.0s\n",
      "[CV] END ........................C=1, gamma=0.1, kernel=poly; total time=   0.0s\n",
      "[CV] END ........................C=1, gamma=0.1, kernel=poly; total time=   0.0s\n",
      "[CV] END .........................C=1, gamma=0.1, kernel=rbf; total time=   0.0s\n",
      "[CV] END .........................C=1, gamma=0.1, kernel=rbf; total time=   0.0s\n",
      "[CV] END .........................C=1, gamma=0.1, kernel=rbf; total time=   0.0s\n",
      "[CV] END .....................C=1, gamma=0.1, kernel=sigmoid; total time=   0.0s\n",
      "[CV] END .....................C=1, gamma=0.1, kernel=sigmoid; total time=   0.0s\n",
      "[CV] END .....................C=1, gamma=0.1, kernel=sigmoid; total time=   0.0s\n",
      "[CV] END .....................C=1, gamma=0.01, kernel=linear; total time=   0.0s\n",
      "[CV] END .....................C=1, gamma=0.01, kernel=linear; total time=   0.0s\n",
      "[CV] END .....................C=1, gamma=0.01, kernel=linear; total time=   0.0s\n",
      "[CV] END .......................C=1, gamma=0.01, kernel=poly; total time=   0.0s\n",
      "[CV] END .......................C=1, gamma=0.01, kernel=poly; total time=   0.0s\n",
      "[CV] END .......................C=1, gamma=0.01, kernel=poly; total time=   0.0s\n",
      "[CV] END ........................C=1, gamma=0.01, kernel=rbf; total time=   0.0s\n",
      "[CV] END ........................C=1, gamma=0.01, kernel=rbf; total time=   0.0s\n",
      "[CV] END ........................C=1, gamma=0.01, kernel=rbf; total time=   0.0s\n",
      "[CV] END ....................C=1, gamma=0.01, kernel=sigmoid; total time=   0.0s\n",
      "[CV] END ....................C=1, gamma=0.01, kernel=sigmoid; total time=   0.0s\n",
      "[CV] END ....................C=1, gamma=0.01, kernel=sigmoid; total time=   0.0s\n",
      "[CV] END ....................C=1, gamma=0.001, kernel=linear; total time=   0.0s\n",
      "[CV] END ....................C=1, gamma=0.001, kernel=linear; total time=   0.0s\n",
      "[CV] END ....................C=1, gamma=0.001, kernel=linear; total time=   0.0s\n",
      "[CV] END ......................C=1, gamma=0.001, kernel=poly; total time=   0.0s\n",
      "[CV] END ......................C=1, gamma=0.001, kernel=poly; total time=   0.0s\n",
      "[CV] END ......................C=1, gamma=0.001, kernel=poly; total time=   0.0s\n",
      "[CV] END .......................C=1, gamma=0.001, kernel=rbf; total time=   0.0s\n",
      "[CV] END .......................C=1, gamma=0.001, kernel=rbf; total time=   0.0s\n",
      "[CV] END .......................C=1, gamma=0.001, kernel=rbf; total time=   0.0s\n",
      "[CV] END ...................C=1, gamma=0.001, kernel=sigmoid; total time=   0.0s\n",
      "[CV] END ...................C=1, gamma=0.001, kernel=sigmoid; total time=   0.0s\n",
      "[CV] END ...................C=1, gamma=0.001, kernel=sigmoid; total time=   0.0s\n",
      "[CV] END ...................C=1, gamma=0.0001, kernel=linear; total time=   0.0s\n",
      "[CV] END ...................C=1, gamma=0.0001, kernel=linear; total time=   0.0s\n",
      "[CV] END ...................C=1, gamma=0.0001, kernel=linear; total time=   0.0s\n",
      "[CV] END .....................C=1, gamma=0.0001, kernel=poly; total time=   0.0s\n",
      "[CV] END .....................C=1, gamma=0.0001, kernel=poly; total time=   0.0s\n",
      "[CV] END .....................C=1, gamma=0.0001, kernel=poly; total time=   0.0s\n",
      "[CV] END ......................C=1, gamma=0.0001, kernel=rbf; total time=   0.0s\n",
      "[CV] END ......................C=1, gamma=0.0001, kernel=rbf; total time=   0.0s\n",
      "[CV] END ......................C=1, gamma=0.0001, kernel=rbf; total time=   0.0s\n",
      "[CV] END ..................C=1, gamma=0.0001, kernel=sigmoid; total time=   0.0s\n",
      "[CV] END ..................C=1, gamma=0.0001, kernel=sigmoid; total time=   0.0s\n",
      "[CV] END ..................C=1, gamma=0.0001, kernel=sigmoid; total time=   0.0s\n",
      "[CV] END .......................C=10, gamma=1, kernel=linear; total time=   0.0s\n",
      "[CV] END .......................C=10, gamma=1, kernel=linear; total time=   0.0s\n",
      "[CV] END .......................C=10, gamma=1, kernel=linear; total time=   0.0s\n",
      "[CV] END .........................C=10, gamma=1, kernel=poly; total time=   0.0s\n",
      "[CV] END .........................C=10, gamma=1, kernel=poly; total time=   0.0s\n",
      "[CV] END .........................C=10, gamma=1, kernel=poly; total time=   0.0s\n",
      "[CV] END ..........................C=10, gamma=1, kernel=rbf; total time=   0.0s\n",
      "[CV] END ..........................C=10, gamma=1, kernel=rbf; total time=   0.0s\n",
      "[CV] END ..........................C=10, gamma=1, kernel=rbf; total time=   0.0s\n",
      "[CV] END ......................C=10, gamma=1, kernel=sigmoid; total time=   0.0s\n",
      "[CV] END ......................C=10, gamma=1, kernel=sigmoid; total time=   0.0s\n",
      "[CV] END ......................C=10, gamma=1, kernel=sigmoid; total time=   0.0s\n",
      "[CV] END .....................C=10, gamma=0.1, kernel=linear; total time=   0.0s\n",
      "[CV] END .....................C=10, gamma=0.1, kernel=linear; total time=   0.0s\n",
      "[CV] END .....................C=10, gamma=0.1, kernel=linear; total time=   0.0s\n",
      "[CV] END .......................C=10, gamma=0.1, kernel=poly; total time=   0.0s\n",
      "[CV] END .......................C=10, gamma=0.1, kernel=poly; total time=   0.0s\n",
      "[CV] END .......................C=10, gamma=0.1, kernel=poly; total time=   0.0s\n",
      "[CV] END ........................C=10, gamma=0.1, kernel=rbf; total time=   0.0s\n",
      "[CV] END ........................C=10, gamma=0.1, kernel=rbf; total time=   0.0s\n",
      "[CV] END ........................C=10, gamma=0.1, kernel=rbf; total time=   0.0s\n",
      "[CV] END ....................C=10, gamma=0.1, kernel=sigmoid; total time=   0.0s\n",
      "[CV] END ....................C=10, gamma=0.1, kernel=sigmoid; total time=   0.0s\n",
      "[CV] END ....................C=10, gamma=0.1, kernel=sigmoid; total time=   0.0s\n",
      "[CV] END ....................C=10, gamma=0.01, kernel=linear; total time=   0.0s\n",
      "[CV] END ....................C=10, gamma=0.01, kernel=linear; total time=   0.0s\n",
      "[CV] END ....................C=10, gamma=0.01, kernel=linear; total time=   0.0s\n",
      "[CV] END ......................C=10, gamma=0.01, kernel=poly; total time=   0.0s\n",
      "[CV] END ......................C=10, gamma=0.01, kernel=poly; total time=   0.0s\n",
      "[CV] END ......................C=10, gamma=0.01, kernel=poly; total time=   0.0s\n",
      "[CV] END .......................C=10, gamma=0.01, kernel=rbf; total time=   0.0s\n",
      "[CV] END .......................C=10, gamma=0.01, kernel=rbf; total time=   0.0s\n"
     ]
    },
    {
     "name": "stdout",
     "output_type": "stream",
     "text": [
      "[CV] END .......................C=10, gamma=0.01, kernel=rbf; total time=   0.0s\n",
      "[CV] END ...................C=10, gamma=0.01, kernel=sigmoid; total time=   0.0s\n",
      "[CV] END ...................C=10, gamma=0.01, kernel=sigmoid; total time=   0.0s\n",
      "[CV] END ...................C=10, gamma=0.01, kernel=sigmoid; total time=   0.0s\n",
      "[CV] END ...................C=10, gamma=0.001, kernel=linear; total time=   0.0s\n",
      "[CV] END ...................C=10, gamma=0.001, kernel=linear; total time=   0.0s\n",
      "[CV] END ...................C=10, gamma=0.001, kernel=linear; total time=   0.0s\n",
      "[CV] END .....................C=10, gamma=0.001, kernel=poly; total time=   0.0s\n",
      "[CV] END .....................C=10, gamma=0.001, kernel=poly; total time=   0.0s\n",
      "[CV] END .....................C=10, gamma=0.001, kernel=poly; total time=   0.0s\n",
      "[CV] END ......................C=10, gamma=0.001, kernel=rbf; total time=   0.0s\n",
      "[CV] END ......................C=10, gamma=0.001, kernel=rbf; total time=   0.0s\n",
      "[CV] END ......................C=10, gamma=0.001, kernel=rbf; total time=   0.0s\n",
      "[CV] END ..................C=10, gamma=0.001, kernel=sigmoid; total time=   0.0s\n",
      "[CV] END ..................C=10, gamma=0.001, kernel=sigmoid; total time=   0.0s\n",
      "[CV] END ..................C=10, gamma=0.001, kernel=sigmoid; total time=   0.0s\n",
      "[CV] END ..................C=10, gamma=0.0001, kernel=linear; total time=   0.0s\n",
      "[CV] END ..................C=10, gamma=0.0001, kernel=linear; total time=   0.0s\n",
      "[CV] END ..................C=10, gamma=0.0001, kernel=linear; total time=   0.0s\n",
      "[CV] END ....................C=10, gamma=0.0001, kernel=poly; total time=   0.0s\n",
      "[CV] END ....................C=10, gamma=0.0001, kernel=poly; total time=   0.0s\n",
      "[CV] END ....................C=10, gamma=0.0001, kernel=poly; total time=   0.0s\n",
      "[CV] END .....................C=10, gamma=0.0001, kernel=rbf; total time=   0.0s\n",
      "[CV] END .....................C=10, gamma=0.0001, kernel=rbf; total time=   0.0s\n",
      "[CV] END .....................C=10, gamma=0.0001, kernel=rbf; total time=   0.0s\n",
      "[CV] END .................C=10, gamma=0.0001, kernel=sigmoid; total time=   0.0s\n",
      "[CV] END .................C=10, gamma=0.0001, kernel=sigmoid; total time=   0.0s\n",
      "[CV] END .................C=10, gamma=0.0001, kernel=sigmoid; total time=   0.0s\n",
      "[CV] END ......................C=100, gamma=1, kernel=linear; total time=   0.0s\n",
      "[CV] END ......................C=100, gamma=1, kernel=linear; total time=   0.0s\n",
      "[CV] END ......................C=100, gamma=1, kernel=linear; total time=   0.0s\n",
      "[CV] END ........................C=100, gamma=1, kernel=poly; total time=   0.0s\n",
      "[CV] END ........................C=100, gamma=1, kernel=poly; total time=   0.0s\n",
      "[CV] END ........................C=100, gamma=1, kernel=poly; total time=   0.0s\n",
      "[CV] END .........................C=100, gamma=1, kernel=rbf; total time=   0.0s\n",
      "[CV] END .........................C=100, gamma=1, kernel=rbf; total time=   0.0s\n",
      "[CV] END .........................C=100, gamma=1, kernel=rbf; total time=   0.0s\n",
      "[CV] END .....................C=100, gamma=1, kernel=sigmoid; total time=   0.0s\n",
      "[CV] END .....................C=100, gamma=1, kernel=sigmoid; total time=   0.0s\n",
      "[CV] END .....................C=100, gamma=1, kernel=sigmoid; total time=   0.0s\n",
      "[CV] END ....................C=100, gamma=0.1, kernel=linear; total time=   0.0s\n",
      "[CV] END ....................C=100, gamma=0.1, kernel=linear; total time=   0.0s\n",
      "[CV] END ....................C=100, gamma=0.1, kernel=linear; total time=   0.0s\n",
      "[CV] END ......................C=100, gamma=0.1, kernel=poly; total time=   0.0s\n",
      "[CV] END ......................C=100, gamma=0.1, kernel=poly; total time=   0.0s\n",
      "[CV] END ......................C=100, gamma=0.1, kernel=poly; total time=   0.0s\n",
      "[CV] END .......................C=100, gamma=0.1, kernel=rbf; total time=   0.0s\n",
      "[CV] END .......................C=100, gamma=0.1, kernel=rbf; total time=   0.0s\n",
      "[CV] END .......................C=100, gamma=0.1, kernel=rbf; total time=   0.0s\n",
      "[CV] END ...................C=100, gamma=0.1, kernel=sigmoid; total time=   0.0s\n",
      "[CV] END ...................C=100, gamma=0.1, kernel=sigmoid; total time=   0.0s\n",
      "[CV] END ...................C=100, gamma=0.1, kernel=sigmoid; total time=   0.0s\n",
      "[CV] END ...................C=100, gamma=0.01, kernel=linear; total time=   0.0s\n",
      "[CV] END ...................C=100, gamma=0.01, kernel=linear; total time=   0.0s\n",
      "[CV] END ...................C=100, gamma=0.01, kernel=linear; total time=   0.0s\n",
      "[CV] END .....................C=100, gamma=0.01, kernel=poly; total time=   0.0s\n",
      "[CV] END .....................C=100, gamma=0.01, kernel=poly; total time=   0.0s\n",
      "[CV] END .....................C=100, gamma=0.01, kernel=poly; total time=   0.0s\n",
      "[CV] END ......................C=100, gamma=0.01, kernel=rbf; total time=   0.0s\n",
      "[CV] END ......................C=100, gamma=0.01, kernel=rbf; total time=   0.0s\n",
      "[CV] END ......................C=100, gamma=0.01, kernel=rbf; total time=   0.0s\n",
      "[CV] END ..................C=100, gamma=0.01, kernel=sigmoid; total time=   0.0s\n",
      "[CV] END ..................C=100, gamma=0.01, kernel=sigmoid; total time=   0.0s\n",
      "[CV] END ..................C=100, gamma=0.01, kernel=sigmoid; total time=   0.0s\n",
      "[CV] END ..................C=100, gamma=0.001, kernel=linear; total time=   0.0s\n",
      "[CV] END ..................C=100, gamma=0.001, kernel=linear; total time=   0.0s\n",
      "[CV] END ..................C=100, gamma=0.001, kernel=linear; total time=   0.0s\n",
      "[CV] END ....................C=100, gamma=0.001, kernel=poly; total time=   0.0s\n",
      "[CV] END ....................C=100, gamma=0.001, kernel=poly; total time=   0.0s\n",
      "[CV] END ....................C=100, gamma=0.001, kernel=poly; total time=   0.0s\n",
      "[CV] END .....................C=100, gamma=0.001, kernel=rbf; total time=   0.0s\n",
      "[CV] END .....................C=100, gamma=0.001, kernel=rbf; total time=   0.0s\n",
      "[CV] END .....................C=100, gamma=0.001, kernel=rbf; total time=   0.0s\n",
      "[CV] END .................C=100, gamma=0.001, kernel=sigmoid; total time=   0.0s\n",
      "[CV] END .................C=100, gamma=0.001, kernel=sigmoid; total time=   0.0s\n",
      "[CV] END .................C=100, gamma=0.001, kernel=sigmoid; total time=   0.0s\n",
      "[CV] END .................C=100, gamma=0.0001, kernel=linear; total time=   0.0s\n",
      "[CV] END .................C=100, gamma=0.0001, kernel=linear; total time=   0.0s\n",
      "[CV] END .................C=100, gamma=0.0001, kernel=linear; total time=   0.0s\n",
      "[CV] END ...................C=100, gamma=0.0001, kernel=poly; total time=   0.0s\n",
      "[CV] END ...................C=100, gamma=0.0001, kernel=poly; total time=   0.0s\n",
      "[CV] END ...................C=100, gamma=0.0001, kernel=poly; total time=   0.0s\n",
      "[CV] END ....................C=100, gamma=0.0001, kernel=rbf; total time=   0.0s\n",
      "[CV] END ....................C=100, gamma=0.0001, kernel=rbf; total time=   0.0s\n",
      "[CV] END ....................C=100, gamma=0.0001, kernel=rbf; total time=   0.0s\n",
      "[CV] END ................C=100, gamma=0.0001, kernel=sigmoid; total time=   0.0s\n",
      "[CV] END ................C=100, gamma=0.0001, kernel=sigmoid; total time=   0.0s\n",
      "[CV] END ................C=100, gamma=0.0001, kernel=sigmoid; total time=   0.0s\n",
      "[CV] END .....................C=1000, gamma=1, kernel=linear; total time=   0.0s\n",
      "[CV] END .....................C=1000, gamma=1, kernel=linear; total time=   0.0s\n",
      "[CV] END .....................C=1000, gamma=1, kernel=linear; total time=   0.0s\n",
      "[CV] END .......................C=1000, gamma=1, kernel=poly; total time=   0.0s\n",
      "[CV] END .......................C=1000, gamma=1, kernel=poly; total time=   0.0s\n",
      "[CV] END .......................C=1000, gamma=1, kernel=poly; total time=   0.0s\n",
      "[CV] END ........................C=1000, gamma=1, kernel=rbf; total time=   0.0s\n",
      "[CV] END ........................C=1000, gamma=1, kernel=rbf; total time=   0.0s\n",
      "[CV] END ........................C=1000, gamma=1, kernel=rbf; total time=   0.0s\n",
      "[CV] END ....................C=1000, gamma=1, kernel=sigmoid; total time=   0.0s\n",
      "[CV] END ....................C=1000, gamma=1, kernel=sigmoid; total time=   0.0s\n",
      "[CV] END ....................C=1000, gamma=1, kernel=sigmoid; total time=   0.0s\n",
      "[CV] END ...................C=1000, gamma=0.1, kernel=linear; total time=   0.0s\n",
      "[CV] END ...................C=1000, gamma=0.1, kernel=linear; total time=   0.0s\n"
     ]
    },
    {
     "name": "stdout",
     "output_type": "stream",
     "text": [
      "[CV] END ...................C=1000, gamma=0.1, kernel=linear; total time=   0.0s\n",
      "[CV] END .....................C=1000, gamma=0.1, kernel=poly; total time=   0.0s\n",
      "[CV] END .....................C=1000, gamma=0.1, kernel=poly; total time=   0.0s\n",
      "[CV] END .....................C=1000, gamma=0.1, kernel=poly; total time=   0.0s\n",
      "[CV] END ......................C=1000, gamma=0.1, kernel=rbf; total time=   0.0s\n",
      "[CV] END ......................C=1000, gamma=0.1, kernel=rbf; total time=   0.0s\n",
      "[CV] END ......................C=1000, gamma=0.1, kernel=rbf; total time=   0.0s\n",
      "[CV] END ..................C=1000, gamma=0.1, kernel=sigmoid; total time=   0.0s\n",
      "[CV] END ..................C=1000, gamma=0.1, kernel=sigmoid; total time=   0.0s\n",
      "[CV] END ..................C=1000, gamma=0.1, kernel=sigmoid; total time=   0.0s\n",
      "[CV] END ..................C=1000, gamma=0.01, kernel=linear; total time=   0.0s\n",
      "[CV] END ..................C=1000, gamma=0.01, kernel=linear; total time=   0.0s\n",
      "[CV] END ..................C=1000, gamma=0.01, kernel=linear; total time=   0.0s\n",
      "[CV] END ....................C=1000, gamma=0.01, kernel=poly; total time=   0.0s\n",
      "[CV] END ....................C=1000, gamma=0.01, kernel=poly; total time=   0.0s\n",
      "[CV] END ....................C=1000, gamma=0.01, kernel=poly; total time=   0.0s\n",
      "[CV] END .....................C=1000, gamma=0.01, kernel=rbf; total time=   0.0s\n",
      "[CV] END .....................C=1000, gamma=0.01, kernel=rbf; total time=   0.0s\n",
      "[CV] END .....................C=1000, gamma=0.01, kernel=rbf; total time=   0.0s\n",
      "[CV] END .................C=1000, gamma=0.01, kernel=sigmoid; total time=   0.0s\n",
      "[CV] END .................C=1000, gamma=0.01, kernel=sigmoid; total time=   0.0s\n",
      "[CV] END .................C=1000, gamma=0.01, kernel=sigmoid; total time=   0.0s\n",
      "[CV] END .................C=1000, gamma=0.001, kernel=linear; total time=   0.0s\n",
      "[CV] END .................C=1000, gamma=0.001, kernel=linear; total time=   0.0s\n",
      "[CV] END .................C=1000, gamma=0.001, kernel=linear; total time=   0.0s\n",
      "[CV] END ...................C=1000, gamma=0.001, kernel=poly; total time=   0.0s\n",
      "[CV] END ...................C=1000, gamma=0.001, kernel=poly; total time=   0.0s\n",
      "[CV] END ...................C=1000, gamma=0.001, kernel=poly; total time=   0.0s\n",
      "[CV] END ....................C=1000, gamma=0.001, kernel=rbf; total time=   0.0s\n",
      "[CV] END ....................C=1000, gamma=0.001, kernel=rbf; total time=   0.0s\n",
      "[CV] END ....................C=1000, gamma=0.001, kernel=rbf; total time=   0.0s\n",
      "[CV] END ................C=1000, gamma=0.001, kernel=sigmoid; total time=   0.0s\n",
      "[CV] END ................C=1000, gamma=0.001, kernel=sigmoid; total time=   0.0s\n",
      "[CV] END ................C=1000, gamma=0.001, kernel=sigmoid; total time=   0.0s\n",
      "[CV] END ................C=1000, gamma=0.0001, kernel=linear; total time=   0.0s\n",
      "[CV] END ................C=1000, gamma=0.0001, kernel=linear; total time=   0.0s\n",
      "[CV] END ................C=1000, gamma=0.0001, kernel=linear; total time=   0.0s\n",
      "[CV] END ..................C=1000, gamma=0.0001, kernel=poly; total time=   0.0s\n",
      "[CV] END ..................C=1000, gamma=0.0001, kernel=poly; total time=   0.0s\n",
      "[CV] END ..................C=1000, gamma=0.0001, kernel=poly; total time=   0.0s\n",
      "[CV] END ...................C=1000, gamma=0.0001, kernel=rbf; total time=   0.0s\n",
      "[CV] END ...................C=1000, gamma=0.0001, kernel=rbf; total time=   0.0s\n",
      "[CV] END ...................C=1000, gamma=0.0001, kernel=rbf; total time=   0.0s\n",
      "[CV] END ...............C=1000, gamma=0.0001, kernel=sigmoid; total time=   0.0s\n",
      "[CV] END ...............C=1000, gamma=0.0001, kernel=sigmoid; total time=   0.0s\n",
      "[CV] END ...............C=1000, gamma=0.0001, kernel=sigmoid; total time=   0.0s\n"
     ]
    },
    {
     "data": {
      "text/plain": [
       "GridSearchCV(cv=3, estimator=SVC(),\n",
       "             param_grid={'C': [0.1, 1, 10, 100, 1000],\n",
       "                         'gamma': [1, 0.1, 0.01, 0.001, 0.0001],\n",
       "                         'kernel': ['linear', 'poly', 'rbf', 'sigmoid']},\n",
       "             verbose=2)"
      ]
     },
     "execution_count": 43,
     "metadata": {},
     "output_type": "execute_result"
    }
   ],
   "source": [
    "grid = GridSearchCV(svm.SVC(), param_grid,cv = 3,refit = True,verbose = 2)\n",
    "# fitting the model for grid search\n",
    "grid.fit(X_train, y_train)"
   ]
  },
  {
   "cell_type": "markdown",
   "id": "c2c2509d",
   "metadata": {},
   "source": [
    "After fitting the model, we can now access the parameters that seem to work the best after the hyperparameter tuning. We can then predict our training and testing data once again and compare it with the \"untuned\" SVM from the beginning."
   ]
  },
  {
   "cell_type": "code",
   "execution_count": 44,
   "id": "2c2ffbad",
   "metadata": {},
   "outputs": [
    {
     "name": "stdout",
     "output_type": "stream",
     "text": [
      "{'C': 0.1, 'gamma': 1, 'kernel': 'sigmoid'}\n",
      "SVC(C=0.1, gamma=1, kernel='sigmoid')\n"
     ]
    }
   ],
   "source": [
    "#print best parameter after tuning\n",
    "print(grid.best_params_)\n",
    "  # print how our model looks after hyper-parameter tuning\n",
    "print(grid.best_estimator_)"
   ]
  },
  {
   "cell_type": "code",
   "execution_count": 50,
   "id": "71be0246",
   "metadata": {},
   "outputs": [
    {
     "name": "stdout",
     "output_type": "stream",
     "text": [
      "              precision    recall  f1-score   support\n",
      "\n",
      "           1       0.00      0.00      0.00         2\n",
      "           2       0.00      0.00      0.00         3\n",
      "           3       0.00      0.00      0.00         3\n",
      "           4       0.33      0.50      0.40         4\n",
      "           5       0.00      0.00      0.00         2\n",
      "           6       0.00      0.00      0.00         3\n",
      "           7       0.25      0.25      0.25         4\n",
      "           8       0.00      0.00      0.00         3\n",
      "           9       0.00      0.00      0.00         4\n",
      "          10       0.15      0.75      0.25         4\n",
      "          11       0.00      0.00      0.00         2\n",
      "          12       0.00      0.00      0.00         4\n",
      "          13       0.00      0.00      0.00         2\n",
      "          14       0.00      0.00      0.00         2\n",
      "          15       0.11      0.25      0.15         4\n",
      "          16       0.00      0.00      0.00         3\n",
      "          17       0.06      0.25      0.10         4\n",
      "          18       0.00      0.00      0.00         3\n",
      "          19       0.00      0.00      0.00         3\n",
      "          20       0.00      0.00      0.00         3\n",
      "          21       0.00      0.00      0.00         3\n",
      "          22       0.00      0.00      0.00         3\n",
      "          23       0.33      0.50      0.40         4\n",
      "          24       0.25      0.25      0.25         4\n",
      "          25       0.00      0.00      0.00         4\n",
      "          26       0.00      0.00      0.00         3\n",
      "\n",
      "    accuracy                           0.13        83\n",
      "   macro avg       0.06      0.11      0.07        83\n",
      "weighted avg       0.07      0.13      0.09        83\n",
      "\n"
     ]
    },
    {
     "name": "stderr",
     "output_type": "stream",
     "text": [
      "/home/jpauli/miniconda3/envs/neuro_ai/lib/python3.7/site-packages/sklearn/metrics/_classification.py:1318: UndefinedMetricWarning: Precision and F-score are ill-defined and being set to 0.0 in labels with no predicted samples. Use `zero_division` parameter to control this behavior.\n",
      "  _warn_prf(average, modifier, msg_start, len(result))\n",
      "/home/jpauli/miniconda3/envs/neuro_ai/lib/python3.7/site-packages/sklearn/metrics/_classification.py:1318: UndefinedMetricWarning: Precision and F-score are ill-defined and being set to 0.0 in labels with no predicted samples. Use `zero_division` parameter to control this behavior.\n",
      "  _warn_prf(average, modifier, msg_start, len(result))\n",
      "/home/jpauli/miniconda3/envs/neuro_ai/lib/python3.7/site-packages/sklearn/metrics/_classification.py:1318: UndefinedMetricWarning: Precision and F-score are ill-defined and being set to 0.0 in labels with no predicted samples. Use `zero_division` parameter to control this behavior.\n",
      "  _warn_prf(average, modifier, msg_start, len(result))\n"
     ]
    }
   ],
   "source": [
    "grid_predictions = grid.predict(X_train)\n",
    "  \n",
    "# print classification report\n",
    "print(classification_report(y_train, grid_predictions))"
   ]
  },
  {
   "cell_type": "code",
   "execution_count": 51,
   "id": "b2681d16",
   "metadata": {},
   "outputs": [
    {
     "name": "stdout",
     "output_type": "stream",
     "text": [
      "              precision    recall  f1-score   support\n",
      "\n",
      "           1       0.00      0.00      0.00       2.0\n",
      "           2       0.00      0.00      0.00       1.0\n",
      "           3       0.00      0.00      0.00       1.0\n",
      "           4       0.00      0.00      0.00       0.0\n",
      "           5       0.00      0.00      0.00       2.0\n",
      "           6       0.00      0.00      0.00       1.0\n",
      "           8       0.00      0.00      0.00       1.0\n",
      "          11       0.00      0.00      0.00       2.0\n",
      "          12       0.00      0.00      0.00       0.0\n",
      "          13       0.00      0.00      0.00       2.0\n",
      "          14       0.00      0.00      0.00       2.0\n",
      "          15       0.00      0.00      0.00       0.0\n",
      "          16       0.00      0.00      0.00       1.0\n",
      "          18       0.00      0.00      0.00       1.0\n",
      "          19       0.00      0.00      0.00       1.0\n",
      "          20       0.00      0.00      0.00       1.0\n",
      "          21       0.00      0.00      0.00       1.0\n",
      "          22       0.00      0.00      0.00       1.0\n",
      "          26       0.00      0.00      0.00       1.0\n",
      "\n",
      "    accuracy                           0.00      21.0\n",
      "   macro avg       0.00      0.00      0.00      21.0\n",
      "weighted avg       0.00      0.00      0.00      21.0\n",
      "\n"
     ]
    },
    {
     "name": "stderr",
     "output_type": "stream",
     "text": [
      "/home/jpauli/miniconda3/envs/neuro_ai/lib/python3.7/site-packages/sklearn/metrics/_classification.py:1318: UndefinedMetricWarning: Precision and F-score are ill-defined and being set to 0.0 in labels with no predicted samples. Use `zero_division` parameter to control this behavior.\n",
      "  _warn_prf(average, modifier, msg_start, len(result))\n",
      "/home/jpauli/miniconda3/envs/neuro_ai/lib/python3.7/site-packages/sklearn/metrics/_classification.py:1318: UndefinedMetricWarning: Recall and F-score are ill-defined and being set to 0.0 in labels with no true samples. Use `zero_division` parameter to control this behavior.\n",
      "  _warn_prf(average, modifier, msg_start, len(result))\n",
      "/home/jpauli/miniconda3/envs/neuro_ai/lib/python3.7/site-packages/sklearn/metrics/_classification.py:1318: UndefinedMetricWarning: Precision and F-score are ill-defined and being set to 0.0 in labels with no predicted samples. Use `zero_division` parameter to control this behavior.\n",
      "  _warn_prf(average, modifier, msg_start, len(result))\n",
      "/home/jpauli/miniconda3/envs/neuro_ai/lib/python3.7/site-packages/sklearn/metrics/_classification.py:1318: UndefinedMetricWarning: Recall and F-score are ill-defined and being set to 0.0 in labels with no true samples. Use `zero_division` parameter to control this behavior.\n",
      "  _warn_prf(average, modifier, msg_start, len(result))\n",
      "/home/jpauli/miniconda3/envs/neuro_ai/lib/python3.7/site-packages/sklearn/metrics/_classification.py:1318: UndefinedMetricWarning: Precision and F-score are ill-defined and being set to 0.0 in labels with no predicted samples. Use `zero_division` parameter to control this behavior.\n",
      "  _warn_prf(average, modifier, msg_start, len(result))\n",
      "/home/jpauli/miniconda3/envs/neuro_ai/lib/python3.7/site-packages/sklearn/metrics/_classification.py:1318: UndefinedMetricWarning: Recall and F-score are ill-defined and being set to 0.0 in labels with no true samples. Use `zero_division` parameter to control this behavior.\n",
      "  _warn_prf(average, modifier, msg_start, len(result))\n"
     ]
    }
   ],
   "source": [
    "grid_predictions_test = grid.predict(X_test)\n",
    "  \n",
    "# print classification report\n",
    "print(classification_report(y_test, grid_predictions_test))"
   ]
  },
  {
   "cell_type": "markdown",
   "id": "421a348c",
   "metadata": {},
   "source": [
    "<div class=\"alert alert-block alert-success\">\n",
    "Interestingly enough, the model peforms actually worse. This probably means the following. The naive settings from the first SVM were actually good enough and hyperparameter tuning can not improve the performance of our model.</div>"
   ]
  },
  {
   "cell_type": "markdown",
   "id": "9871d168",
   "metadata": {},
   "source": [
    "So this did not work. I'll continue anyway by introducing another straw I took inorder to defy those session specific correlations.\n",
    "\n",
    "As mentioned in the Logistic Regression notebook, one idea was to randomly select the data from all sessions. The idea was to create a training and testing data that a) has a random amount from all sessions, so one session is not \"over represented\" and b) the test set actually contains all 26 categories and they are randomly choosen from all sessions available."
   ]
  },
  {
   "cell_type": "markdown",
   "id": "24cfffe3",
   "metadata": {},
   "source": [
    "**Step 1**:\n",
    "\n",
    "Get all unique labels from y. This variable will serve as a comparism to the y_test variable.\n",
    "\n",
    "**Step 2**:\n",
    "\n",
    "Set up the loop. The loop works like this: y is going to be randomly shuffled, so the data from all sessions are mixed up. Then empty training and testing variables are created.\n",
    "\n",
    "The loop then iterates through the randomly sorted y variable. If the length of y test matches that of y unique, so 26 samples are stored in y test, the training data will append categories and indices.\n",
    "\n",
    "If they are not equal, the test variables will append categories and indices. \n",
    "\n",
    "BUT: If one category appears twice in the test set(this is what we defintely not want, as explained above), we will remove this specific category from the test set and append it on the training set.\n",
    "\n",
    "This way we make sure, that random variables are assigned to both training and test sets **and** the length of the test set matches 26 and contains all unique labels.\n",
    "\n",
    "The indices are appended for the input matrix X. We will afterwards get the respective voxel patterns from X, according to the index. This needs to be done, so the voxel pattern of X actually matches the respective y label."
   ]
  },
  {
   "cell_type": "code",
   "execution_count": 55,
   "id": "b8b7145b",
   "metadata": {},
   "outputs": [
    {
     "data": {
      "text/plain": [
       "array([ 1,  2,  3,  4,  5,  6,  7,  8,  9, 10, 11, 12, 13, 14, 15, 16, 17,\n",
       "       18, 19, 20, 21, 22, 23, 24, 25, 26])"
      ]
     },
     "execution_count": 55,
     "metadata": {},
     "output_type": "execute_result"
    }
   ],
   "source": [
    "Y_unique = np.unique(y)\n",
    "Y_unique"
   ]
  },
  {
   "cell_type": "code",
   "execution_count": 105,
   "id": "de48ff33",
   "metadata": {},
   "outputs": [],
   "source": [
    "np.random.shuffle(y)\n",
    "y_train_ = []\n",
    "y_test_ = []\n",
    "X_train_indices = []\n",
    "X_test_indices = []\n",
    "\n",
    "\n",
    "\n",
    "for index, category in enumerate(y):\n",
    "    if len(y_test_) == len(Y_unique):\n",
    "        y_train_.append(category)\n",
    "        X_train_indices.append(index)\n",
    "    else:\n",
    "        y_test_.append(category)\n",
    "        X_test_indices.append(index)\n",
    "        if y_test_.count(category) > 1:\n",
    "            y_test_.remove(category)\n",
    "            y_train_.append(category)\n",
    "            X_test_indices.remove(index)\n",
    "            X_train_indices.append(index)\n",
    "            continue\n",
    "            \n",
    "                "
   ]
  },
  {
   "cell_type": "code",
   "execution_count": 106,
   "id": "85585b98",
   "metadata": {},
   "outputs": [],
   "source": [
    "y_test_ = np.array(y_test_)\n",
    "y_train_ = np.array(y_train_)\n",
    "X_test_indices = np.array(X_test_indices)\n",
    "X_train_indices = np.array(X_train_indices)"
   ]
  },
  {
   "cell_type": "code",
   "execution_count": 107,
   "id": "f3aab1d0",
   "metadata": {},
   "outputs": [
    {
     "data": {
      "text/plain": [
       "(26,)"
      ]
     },
     "execution_count": 107,
     "metadata": {},
     "output_type": "execute_result"
    }
   ],
   "source": [
    "y_test_.shape"
   ]
  },
  {
   "cell_type": "code",
   "execution_count": 108,
   "id": "c6dadb78",
   "metadata": {},
   "outputs": [
    {
     "data": {
      "text/plain": [
       "(26,)"
      ]
     },
     "execution_count": 108,
     "metadata": {},
     "output_type": "execute_result"
    }
   ],
   "source": [
    "X_test_.shape"
   ]
  },
  {
   "cell_type": "code",
   "execution_count": 109,
   "id": "00747c9d",
   "metadata": {},
   "outputs": [
    {
     "data": {
      "text/plain": [
       "(78,)"
      ]
     },
     "execution_count": 109,
     "metadata": {},
     "output_type": "execute_result"
    }
   ],
   "source": [
    "X_train_.shape"
   ]
  },
  {
   "cell_type": "code",
   "execution_count": 110,
   "id": "ee795dfa",
   "metadata": {},
   "outputs": [
    {
     "data": {
      "text/plain": [
       "(78,)"
      ]
     },
     "execution_count": 110,
     "metadata": {},
     "output_type": "execute_result"
    }
   ],
   "source": [
    "y_train_.shape"
   ]
  },
  {
   "cell_type": "markdown",
   "id": "b07b630a",
   "metadata": {},
   "source": [
    "The shape matches the data. 26 test labels and 78 remaining labels for training. Now we will define X train and X test according to the indices and run the SVM again."
   ]
  },
  {
   "cell_type": "code",
   "execution_count": 111,
   "id": "73ff186e",
   "metadata": {},
   "outputs": [],
   "source": [
    "X_train_ = []\n",
    "for index in X_train_indices:\n",
    "    X_train_.append(X_kb[index])"
   ]
  },
  {
   "cell_type": "code",
   "execution_count": 112,
   "id": "c25bfdbe",
   "metadata": {},
   "outputs": [],
   "source": [
    "X_train_ = np.array(X_train_)"
   ]
  },
  {
   "cell_type": "code",
   "execution_count": 113,
   "id": "7ab5024f",
   "metadata": {},
   "outputs": [
    {
     "data": {
      "text/plain": [
       "array([2.8255865 , 4.93499085, 1.94590505, 2.05225487, 6.00369431,\n",
       "       4.25490658, 3.03461173, 1.00413004, 0.18643591, 2.10620487])"
      ]
     },
     "execution_count": 113,
     "metadata": {},
     "output_type": "execute_result"
    }
   ],
   "source": [
    "X_train_[0]"
   ]
  },
  {
   "cell_type": "code",
   "execution_count": 114,
   "id": "af2a098e",
   "metadata": {},
   "outputs": [
    {
     "data": {
      "text/plain": [
       "array([2.8255865 , 4.93499085, 1.94590505, 2.05225487, 6.00369431,\n",
       "       4.25490658, 3.03461173, 1.00413004, 0.18643591, 2.10620487])"
      ]
     },
     "execution_count": 114,
     "metadata": {},
     "output_type": "execute_result"
    }
   ],
   "source": [
    "X[X_train_indices[0]]"
   ]
  },
  {
   "cell_type": "markdown",
   "id": "31ba8f32",
   "metadata": {},
   "source": [
    "We make sure that the method worked by comparing the first entry on our newly defined X train variable with the respective index, obtained in the loop, in our X matrix.\n",
    "\n",
    "Since it matches we can happily continue with the testing data."
   ]
  },
  {
   "cell_type": "code",
   "execution_count": 124,
   "id": "dc42bb0d",
   "metadata": {},
   "outputs": [],
   "source": [
    "X_test_ = []\n",
    "for index in X_test_indices:\n",
    "    X_test_.append(X_kb[index])"
   ]
  },
  {
   "cell_type": "code",
   "execution_count": 125,
   "id": "e3832156",
   "metadata": {},
   "outputs": [],
   "source": [
    "X_test_ = np.array(X_test_)"
   ]
  },
  {
   "cell_type": "markdown",
   "id": "12052fb3",
   "metadata": {},
   "source": [
    "Now we can set up the SVM again and see how the results compare."
   ]
  },
  {
   "cell_type": "code",
   "execution_count": 117,
   "id": "27971852",
   "metadata": {},
   "outputs": [
    {
     "name": "stdout",
     "output_type": "stream",
     "text": [
      "              precision    recall  f1-score   support\n",
      "\n",
      "           1       0.00      0.00      0.00         3\n",
      "           2       0.00      0.00      0.00         3\n",
      "           3       0.33      0.67      0.44         3\n",
      "           4       0.40      0.67      0.50         3\n",
      "           5       0.00      0.00      0.00         3\n",
      "           6       0.38      1.00      0.55         3\n",
      "           7       0.00      0.00      0.00         3\n",
      "           8       0.33      0.33      0.33         3\n",
      "           9       0.00      0.00      0.00         3\n",
      "          10       0.29      0.67      0.40         3\n",
      "          11       0.33      0.33      0.33         3\n",
      "          12       0.40      0.67      0.50         3\n",
      "          13       0.00      0.00      0.00         3\n",
      "          14       0.50      0.67      0.57         3\n",
      "          15       0.22      0.67      0.33         3\n",
      "          16       0.00      0.00      0.00         3\n",
      "          17       0.00      0.00      0.00         3\n",
      "          18       0.00      0.00      0.00         3\n",
      "          19       0.40      0.67      0.50         3\n",
      "          20       0.11      0.33      0.17         3\n",
      "          21       0.00      0.00      0.00         3\n",
      "          22       1.00      0.33      0.50         3\n",
      "          23       0.00      0.00      0.00         3\n",
      "          24       0.00      0.00      0.00         3\n",
      "          25       0.25      0.33      0.29         3\n",
      "          26       0.00      0.00      0.00         3\n",
      "\n",
      "    accuracy                           0.28        78\n",
      "   macro avg       0.19      0.28      0.21        78\n",
      "weighted avg       0.19      0.28      0.21        78\n",
      "\n"
     ]
    },
    {
     "name": "stderr",
     "output_type": "stream",
     "text": [
      "/home/jpauli/miniconda3/envs/neuro_ai/lib/python3.7/site-packages/sklearn/metrics/_classification.py:1318: UndefinedMetricWarning: Precision and F-score are ill-defined and being set to 0.0 in labels with no predicted samples. Use `zero_division` parameter to control this behavior.\n",
      "  _warn_prf(average, modifier, msg_start, len(result))\n",
      "/home/jpauli/miniconda3/envs/neuro_ai/lib/python3.7/site-packages/sklearn/metrics/_classification.py:1318: UndefinedMetricWarning: Precision and F-score are ill-defined and being set to 0.0 in labels with no predicted samples. Use `zero_division` parameter to control this behavior.\n",
      "  _warn_prf(average, modifier, msg_start, len(result))\n",
      "/home/jpauli/miniconda3/envs/neuro_ai/lib/python3.7/site-packages/sklearn/metrics/_classification.py:1318: UndefinedMetricWarning: Precision and F-score are ill-defined and being set to 0.0 in labels with no predicted samples. Use `zero_division` parameter to control this behavior.\n",
      "  _warn_prf(average, modifier, msg_start, len(result))\n"
     ]
    }
   ],
   "source": [
    "clf = svm.SVC(gamma = 1,C = 0.1, kernel='linear') # Linear Kernel\n",
    "\n",
    "clf.fit(X_train_, y_train_)\n",
    "\n",
    "y_pred = clf.predict(X_train_)\n",
    "print(classification_report(y_train_, y_pred))"
   ]
  },
  {
   "cell_type": "code",
   "execution_count": 127,
   "id": "dbbd7cae",
   "metadata": {},
   "outputs": [
    {
     "name": "stdout",
     "output_type": "stream",
     "text": [
      "              precision    recall  f1-score   support\n",
      "\n",
      "           1       0.00      0.00      0.00         1\n",
      "           2       0.00      0.00      0.00         1\n",
      "           3       0.00      0.00      0.00         1\n",
      "           4       0.00      0.00      0.00         1\n",
      "           5       0.00      0.00      0.00         1\n",
      "           6       0.00      0.00      0.00         1\n",
      "           7       0.00      0.00      0.00         1\n",
      "           8       0.00      0.00      0.00         1\n",
      "           9       0.00      0.00      0.00         1\n",
      "          10       0.00      0.00      0.00         1\n",
      "          11       0.20      1.00      0.33         1\n",
      "          12       0.00      0.00      0.00         1\n",
      "          13       0.00      0.00      0.00         1\n",
      "          14       0.00      0.00      0.00         1\n",
      "          15       0.00      0.00      0.00         1\n",
      "          16       0.00      0.00      0.00         1\n",
      "          17       0.00      0.00      0.00         1\n",
      "          18       0.00      0.00      0.00         1\n",
      "          19       0.00      0.00      0.00         1\n",
      "          20       0.00      0.00      0.00         1\n",
      "          21       0.00      0.00      0.00         1\n",
      "          22       0.00      0.00      0.00         1\n",
      "          23       0.00      0.00      0.00         1\n",
      "          24       0.00      0.00      0.00         1\n",
      "          25       0.00      0.00      0.00         1\n",
      "          26       0.00      0.00      0.00         1\n",
      "\n",
      "    accuracy                           0.04        26\n",
      "   macro avg       0.01      0.04      0.01        26\n",
      "weighted avg       0.01      0.04      0.01        26\n",
      "\n"
     ]
    },
    {
     "name": "stderr",
     "output_type": "stream",
     "text": [
      "/home/jpauli/miniconda3/envs/neuro_ai/lib/python3.7/site-packages/sklearn/metrics/_classification.py:1318: UndefinedMetricWarning: Precision and F-score are ill-defined and being set to 0.0 in labels with no predicted samples. Use `zero_division` parameter to control this behavior.\n",
      "  _warn_prf(average, modifier, msg_start, len(result))\n",
      "/home/jpauli/miniconda3/envs/neuro_ai/lib/python3.7/site-packages/sklearn/metrics/_classification.py:1318: UndefinedMetricWarning: Precision and F-score are ill-defined and being set to 0.0 in labels with no predicted samples. Use `zero_division` parameter to control this behavior.\n",
      "  _warn_prf(average, modifier, msg_start, len(result))\n",
      "/home/jpauli/miniconda3/envs/neuro_ai/lib/python3.7/site-packages/sklearn/metrics/_classification.py:1318: UndefinedMetricWarning: Precision and F-score are ill-defined and being set to 0.0 in labels with no predicted samples. Use `zero_division` parameter to control this behavior.\n",
      "  _warn_prf(average, modifier, msg_start, len(result))\n"
     ]
    }
   ],
   "source": [
    "y_pred_test = clf.predict(X_test_)\n",
    "print(classification_report(y_test_, y_pred_test))"
   ]
  },
  {
   "cell_type": "markdown",
   "id": "ad4d40de",
   "metadata": {},
   "source": [
    "It was a good try, but unfortunately it did not influence the results at all.\n",
    "Even after reducing the features to 10, using Gridsearch **and** applying a customized training and testing set, the results remain poorly. \n",
    "\n",
    "We can now fit a PCA once again in order to illustrate the session specific correlation on the **across runs** data."
   ]
  },
  {
   "cell_type": "markdown",
   "id": "b557939b",
   "metadata": {},
   "source": [
    "## **2.0 PCA**...(again)"
   ]
  },
  {
   "cell_type": "code",
   "execution_count": 128,
   "id": "8aa1bdaf",
   "metadata": {},
   "outputs": [],
   "source": [
    "from sklearn.decomposition import PCA\n",
    "import matplotlib.pyplot as plt"
   ]
  },
  {
   "cell_type": "code",
   "execution_count": 138,
   "id": "a4fd11df",
   "metadata": {},
   "outputs": [
    {
     "data": {
      "text/plain": [
       "PCA(n_components=10)"
      ]
     },
     "execution_count": 138,
     "metadata": {},
     "output_type": "execute_result"
    }
   ],
   "source": [
    "pca = PCA(n_components=10) #n_components = 10\n",
    "pca.fit(X)"
   ]
  },
  {
   "cell_type": "code",
   "execution_count": 139,
   "id": "b25c2340",
   "metadata": {},
   "outputs": [
    {
     "data": {
      "text/plain": [
       "[<matplotlib.lines.Line2D at 0x7ff440291c50>]"
      ]
     },
     "execution_count": 139,
     "metadata": {},
     "output_type": "execute_result"
    },
    {
     "data": {
      "image/png": "[encoded data removed]",
      "text/plain": [
       "<Figure size 432x288 with 1 Axes>"
      ]
     },
     "metadata": {
      "needs_background": "light"
     },
     "output_type": "display_data"
    }
   ],
   "source": [
    "plt.plot(pca.explained_variance_ratio_)"
   ]
  },
  {
   "cell_type": "code",
   "execution_count": 141,
   "id": "4f34252b",
   "metadata": {},
   "outputs": [],
   "source": [
    "X_transform = pca.transform(X)"
   ]
  },
  {
   "cell_type": "code",
   "execution_count": 143,
   "id": "10fbb4a0",
   "metadata": {},
   "outputs": [
    {
     "data": {
      "text/plain": [
       "(104, 10)"
      ]
     },
     "execution_count": 143,
     "metadata": {},
     "output_type": "execute_result"
    }
   ],
   "source": [
    "X_transform.shape"
   ]
  },
  {
   "cell_type": "code",
   "execution_count": 144,
   "id": "9ec9e156",
   "metadata": {},
   "outputs": [
    {
     "data": {
      "text/plain": [
       "Text(0, 0.5, 'PC 2')"
      ]
     },
     "execution_count": 144,
     "metadata": {},
     "output_type": "execute_result"
    },
    {
     "data": {
      "image/png": "[encoded data removed]",
      "text/plain": [
       "<Figure size 864x288 with 3 Axes>"
      ]
     },
     "metadata": {
      "needs_background": "light"
     },
     "output_type": "display_data"
    }
   ],
   "source": [
    "fig, ax =plt.subplots(figsize=(12, 4), ncols=3, sharey=True, sharex=True)\n",
    "ax[0].scatter(X_transform[:, 0], X_transform[:, 1])\n",
    "ax[1].scatter(X_transform[:, 1], X_transform[:, 2])\n",
    "ax[2].scatter(X_transform[:, 0], X_transform[:, 2])\n",
    "plt.xlabel('PC 1')\n",
    "plt.ylabel('PC 2')"
   ]
  },
  {
   "cell_type": "code",
   "execution_count": 136,
   "id": "4d100d08",
   "metadata": {},
   "outputs": [
    {
     "data": {
      "text/plain": [
       "PCA()"
      ]
     },
     "execution_count": 136,
     "metadata": {},
     "output_type": "execute_result"
    }
   ],
   "source": [
    "rand_X = np.random.normal(size=X.shape)\n",
    "pca_rand = PCA()\n",
    "pca_rand.fit(rand_X)"
   ]
  },
  {
   "cell_type": "code",
   "execution_count": 137,
   "id": "c250916a",
   "metadata": {},
   "outputs": [
    {
     "data": {
      "text/plain": [
       "[<matplotlib.lines.Line2D at 0x7ff440711f98>]"
      ]
     },
     "execution_count": 137,
     "metadata": {},
     "output_type": "execute_result"
    },
    {
     "data": {
      "image/png": "[encoded data removed]",
      "text/plain": [
       "<Figure size 432x288 with 1 Axes>"
      ]
     },
     "metadata": {
      "needs_background": "light"
     },
     "output_type": "display_data"
    }
   ],
   "source": [
    "plt.plot(pca.explained_variance_ratio_[:10])\n",
    "plt.plot(pca_rand.explained_variance_ratio_[:10])"
   ]
  }
 ],
 "metadata": {
  "kernelspec": {
   "display_name": "neuro_ai",
   "language": "python",
   "name": "neuro_ai"
  },
  "language_info": {
   "codemirror_mode": {
    "name": "ipython",
    "version": 3
   },
   "file_extension": ".py",
   "mimetype": "text/x-python",
   "name": "python",
   "nbconvert_exporter": "python",
   "pygments_lexer": "ipython3",
   "version": "3.7.0"
  }
 },
 "nbformat": 4,
 "nbformat_minor": 5
}
